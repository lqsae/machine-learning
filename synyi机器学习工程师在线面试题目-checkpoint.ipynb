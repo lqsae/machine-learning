{
 "cells": [
  {
   "cell_type": "markdown",
   "metadata": {},
   "source": [
    "首先恭喜各位，通过第一轮的简历筛选，进入线上测试环节。\n",
    "\n",
    "通过这次线上测试，希望大家能够在限定的时间内，尽自己最大努力，完成一些数据处理和数据建模任务，展现自己对机器学习建模工作的熟悉程度。\n",
    "\n",
    "## 任务说明\n",
    "请在这个jupyter notebook中\n",
    "* 补充完成任务所需要的python代码。可以直接在code cell中编写代码；或者将代码写在.py文件中后在这个notebook中import使用\n",
    "* 利用markdown cell回答相关的问题或者解释分析思路\n",
    "\n",
    "完成后，在github上建立一个repo。将这个notebook，相关的.py文件，保存处理结果的excel文件等，push到建立的repo。将repo链接提交给面试官。\n",
    "\n",
    "## 截止时间\n",
    "任务的截止提交时间为:\n",
    "\n",
    "**2019-05-21 10:00:00 a.m**\n",
    "\n",
    "## 注意事项：\n",
    "1. 使用python3.6以上版本，如果使用```pandas```等python库，请先升级到最新版本。\n",
    "2. 请确保面试官在clone各位发布的repo后，能够跑通这个notebook中的代码。\n",
    "3. 除了实现任务所需的功能，编写的代码具有高可维护性，也是我们非常希望候选人具备的能力。（可参考Refactoring by Kent Beck and Martin Fowler一书中关于\"bad code smell\"的讨论）\n",
    "4. 这个测试的目的是检验候选人是否具备高效的完成建模相关工作的能力，不鼓励重复造轮子。建议充分利用```pandas```, ```sklearn```等已有python库完成任务。\n",
    "5. 请展现自己真实的能力，不要请人代劳。如果候选人试用期阶段表现的实际工作能力明显低于线上测试表现的能力，候选人会被认为采用非诚信手段通过线上测试，将予以坚决辞退。\n",
    "6. 职场中，Deadline是非常严肃的。无论完成度如何，请务必在截止时间前，提交自己的结果。逾期提交将不予受理。"
   ]
  },
  {
   "cell_type": "markdown",
   "metadata": {},
   "source": [
    "## 机器学习建模（任务1～任务4）\n",
    "以下任务基于虚拟的建模数据dataset.csv\n",
    "\n",
    "建模数据集构成\n",
    "* id：样本的编号\n",
    "* dataset：划分了哪些数据用于train, 那些用于test\n",
    "* label:  0或者1, 只有train数据才给出了label\n",
    "* 其实字母f开头的列为建模特征"
   ]
  },
  {
   "cell_type": "code",
   "execution_count": 1,
   "metadata": {},
   "outputs": [],
   "source": [
    "import pandas as pd\n",
    "model_data = pd.read_csv('model_data.csv')"
   ]
  },
  {
   "cell_type": "markdown",
   "metadata": {},
   "source": [
    "### 任务1\n",
    "对dataset中的建模数据进行分析，描述这个数据集的特点。\n",
    "\n",
    "例如\n",
    "* 样本量，特征量\n",
    "* 建模特征缺失率的分布\n",
    "\n",
    "候选人请追加其他认为有必要进行的分析，并配合数据可视化手段，支持自己的结论。\n",
    " "
   ]
  },
  {
   "cell_type": "raw",
   "metadata": {},
   "source": [
    "# 数据清洗"
   ]
  },
  {
   "cell_type": "code",
   "execution_count": 2,
   "metadata": {},
   "outputs": [],
   "source": [
    "# 请在这里开发其余相关代码\n",
    "import pandas as pd\n",
    "import matplotlib.pyplot as plt\n",
    "import seaborn as sns\n",
    "from scipy import stats\n",
    "import warnings\n",
    "warnings.filterwarnings('ignore')\n",
    "from sklearn.feature_selection import SelectKBest\n",
    "from sklearn.feature_selection import chi2\n",
    "from sklearn.model_selection import KFold\n",
    "from sklearn.model_selection import train_test_split\n",
    "import xgboost as xgb\n",
    "from sklearn.model_selection import KFold, train_test_split, GridSearchCV\n",
    "from sklearn.metrics import confusion_matrix, mean_squared_error\n",
    "from sklearn.metrics import roc_curve, auc \n",
    "from sklearn.linear_model import LogisticRegression\n",
    "from sklearn.ensemble import RandomForestRegressor\n",
    "from sklearn.ensemble import RandomForestClassifier"
   ]
  },
  {
   "cell_type": "code",
   "execution_count": 3,
   "metadata": {},
   "outputs": [
    {
     "data": {
      "text/plain": [
       "(3793, 3277)"
      ]
     },
     "execution_count": 3,
     "metadata": {},
     "output_type": "execute_result"
    }
   ],
   "source": [
    "model_data.shape"
   ]
  },
  {
   "cell_type": "code",
   "execution_count": 4,
   "metadata": {},
   "outputs": [
    {
     "data": {
      "text/html": [
       "<div>\n",
       "<style scoped>\n",
       "    .dataframe tbody tr th:only-of-type {\n",
       "        vertical-align: middle;\n",
       "    }\n",
       "\n",
       "    .dataframe tbody tr th {\n",
       "        vertical-align: top;\n",
       "    }\n",
       "\n",
       "    .dataframe thead th {\n",
       "        text-align: right;\n",
       "    }\n",
       "</style>\n",
       "<table border=\"1\" class=\"dataframe\">\n",
       "  <thead>\n",
       "    <tr style=\"text-align: right;\">\n",
       "      <th></th>\n",
       "      <th>f_0000</th>\n",
       "      <th>f_0001</th>\n",
       "      <th>f_0002</th>\n",
       "      <th>f_0003</th>\n",
       "      <th>f_0004</th>\n",
       "      <th>f_0005</th>\n",
       "      <th>f_0006</th>\n",
       "      <th>f_0007</th>\n",
       "      <th>f_0008</th>\n",
       "      <th>f_0009</th>\n",
       "      <th>...</th>\n",
       "      <th>f_3267</th>\n",
       "      <th>f_3268</th>\n",
       "      <th>f_3269</th>\n",
       "      <th>f_3270</th>\n",
       "      <th>f_3271</th>\n",
       "      <th>f_3272</th>\n",
       "      <th>f_3273</th>\n",
       "      <th>label</th>\n",
       "      <th>id</th>\n",
       "      <th>dataset</th>\n",
       "    </tr>\n",
       "  </thead>\n",
       "  <tbody>\n",
       "    <tr>\n",
       "      <th>0</th>\n",
       "      <td>NaN</td>\n",
       "      <td>NaN</td>\n",
       "      <td>NaN</td>\n",
       "      <td>NaN</td>\n",
       "      <td>NaN</td>\n",
       "      <td>NaN</td>\n",
       "      <td>NaN</td>\n",
       "      <td>NaN</td>\n",
       "      <td>NaN</td>\n",
       "      <td>NaN</td>\n",
       "      <td>...</td>\n",
       "      <td>NaN</td>\n",
       "      <td>NaN</td>\n",
       "      <td>NaN</td>\n",
       "      <td>NaN</td>\n",
       "      <td>NaN</td>\n",
       "      <td>NaN</td>\n",
       "      <td>NaN</td>\n",
       "      <td>0.0</td>\n",
       "      <td>0</td>\n",
       "      <td>train</td>\n",
       "    </tr>\n",
       "    <tr>\n",
       "      <th>1</th>\n",
       "      <td>NaN</td>\n",
       "      <td>NaN</td>\n",
       "      <td>NaN</td>\n",
       "      <td>NaN</td>\n",
       "      <td>NaN</td>\n",
       "      <td>NaN</td>\n",
       "      <td>NaN</td>\n",
       "      <td>NaN</td>\n",
       "      <td>NaN</td>\n",
       "      <td>NaN</td>\n",
       "      <td>...</td>\n",
       "      <td>NaN</td>\n",
       "      <td>NaN</td>\n",
       "      <td>NaN</td>\n",
       "      <td>NaN</td>\n",
       "      <td>NaN</td>\n",
       "      <td>NaN</td>\n",
       "      <td>NaN</td>\n",
       "      <td>0.0</td>\n",
       "      <td>1</td>\n",
       "      <td>train</td>\n",
       "    </tr>\n",
       "    <tr>\n",
       "      <th>2</th>\n",
       "      <td>NaN</td>\n",
       "      <td>NaN</td>\n",
       "      <td>NaN</td>\n",
       "      <td>NaN</td>\n",
       "      <td>NaN</td>\n",
       "      <td>NaN</td>\n",
       "      <td>NaN</td>\n",
       "      <td>NaN</td>\n",
       "      <td>NaN</td>\n",
       "      <td>NaN</td>\n",
       "      <td>...</td>\n",
       "      <td>NaN</td>\n",
       "      <td>NaN</td>\n",
       "      <td>NaN</td>\n",
       "      <td>NaN</td>\n",
       "      <td>NaN</td>\n",
       "      <td>NaN</td>\n",
       "      <td>NaN</td>\n",
       "      <td>0.0</td>\n",
       "      <td>2</td>\n",
       "      <td>train</td>\n",
       "    </tr>\n",
       "    <tr>\n",
       "      <th>3</th>\n",
       "      <td>NaN</td>\n",
       "      <td>NaN</td>\n",
       "      <td>NaN</td>\n",
       "      <td>NaN</td>\n",
       "      <td>NaN</td>\n",
       "      <td>NaN</td>\n",
       "      <td>NaN</td>\n",
       "      <td>NaN</td>\n",
       "      <td>NaN</td>\n",
       "      <td>NaN</td>\n",
       "      <td>...</td>\n",
       "      <td>NaN</td>\n",
       "      <td>NaN</td>\n",
       "      <td>NaN</td>\n",
       "      <td>NaN</td>\n",
       "      <td>NaN</td>\n",
       "      <td>NaN</td>\n",
       "      <td>NaN</td>\n",
       "      <td>1.0</td>\n",
       "      <td>3</td>\n",
       "      <td>train</td>\n",
       "    </tr>\n",
       "    <tr>\n",
       "      <th>4</th>\n",
       "      <td>NaN</td>\n",
       "      <td>NaN</td>\n",
       "      <td>NaN</td>\n",
       "      <td>NaN</td>\n",
       "      <td>NaN</td>\n",
       "      <td>NaN</td>\n",
       "      <td>NaN</td>\n",
       "      <td>NaN</td>\n",
       "      <td>NaN</td>\n",
       "      <td>NaN</td>\n",
       "      <td>...</td>\n",
       "      <td>NaN</td>\n",
       "      <td>NaN</td>\n",
       "      <td>NaN</td>\n",
       "      <td>NaN</td>\n",
       "      <td>NaN</td>\n",
       "      <td>NaN</td>\n",
       "      <td>NaN</td>\n",
       "      <td>0.0</td>\n",
       "      <td>4</td>\n",
       "      <td>train</td>\n",
       "    </tr>\n",
       "  </tbody>\n",
       "</table>\n",
       "<p>5 rows × 3277 columns</p>\n",
       "</div>"
      ],
      "text/plain": [
       "   f_0000  f_0001  f_0002  f_0003  f_0004  f_0005  f_0006  f_0007  f_0008  \\\n",
       "0     NaN     NaN     NaN     NaN     NaN     NaN     NaN     NaN     NaN   \n",
       "1     NaN     NaN     NaN     NaN     NaN     NaN     NaN     NaN     NaN   \n",
       "2     NaN     NaN     NaN     NaN     NaN     NaN     NaN     NaN     NaN   \n",
       "3     NaN     NaN     NaN     NaN     NaN     NaN     NaN     NaN     NaN   \n",
       "4     NaN     NaN     NaN     NaN     NaN     NaN     NaN     NaN     NaN   \n",
       "\n",
       "   f_0009   ...     f_3267  f_3268  f_3269  f_3270  f_3271  f_3272  f_3273  \\\n",
       "0     NaN   ...        NaN     NaN     NaN     NaN     NaN     NaN     NaN   \n",
       "1     NaN   ...        NaN     NaN     NaN     NaN     NaN     NaN     NaN   \n",
       "2     NaN   ...        NaN     NaN     NaN     NaN     NaN     NaN     NaN   \n",
       "3     NaN   ...        NaN     NaN     NaN     NaN     NaN     NaN     NaN   \n",
       "4     NaN   ...        NaN     NaN     NaN     NaN     NaN     NaN     NaN   \n",
       "\n",
       "   label  id  dataset  \n",
       "0    0.0   0    train  \n",
       "1    0.0   1    train  \n",
       "2    0.0   2    train  \n",
       "3    1.0   3    train  \n",
       "4    0.0   4    train  \n",
       "\n",
       "[5 rows x 3277 columns]"
      ]
     },
     "execution_count": 4,
     "metadata": {},
     "output_type": "execute_result"
    }
   ],
   "source": [
    "model_data.head()\n",
    "#存在大量缺失值"
   ]
  },
  {
   "cell_type": "code",
   "execution_count": 5,
   "metadata": {},
   "outputs": [
    {
     "data": {
      "text/html": [
       "<div>\n",
       "<style scoped>\n",
       "    .dataframe tbody tr th:only-of-type {\n",
       "        vertical-align: middle;\n",
       "    }\n",
       "\n",
       "    .dataframe tbody tr th {\n",
       "        vertical-align: top;\n",
       "    }\n",
       "\n",
       "    .dataframe thead th {\n",
       "        text-align: right;\n",
       "    }\n",
       "</style>\n",
       "<table border=\"1\" class=\"dataframe\">\n",
       "  <thead>\n",
       "    <tr style=\"text-align: right;\">\n",
       "      <th></th>\n",
       "      <th>f_0000</th>\n",
       "      <th>f_0001</th>\n",
       "      <th>f_0002</th>\n",
       "      <th>f_0003</th>\n",
       "      <th>f_0004</th>\n",
       "      <th>f_0005</th>\n",
       "      <th>f_0006</th>\n",
       "      <th>f_0007</th>\n",
       "      <th>f_0008</th>\n",
       "      <th>f_0009</th>\n",
       "      <th>...</th>\n",
       "      <th>f_3266</th>\n",
       "      <th>f_3267</th>\n",
       "      <th>f_3268</th>\n",
       "      <th>f_3269</th>\n",
       "      <th>f_3270</th>\n",
       "      <th>f_3271</th>\n",
       "      <th>f_3272</th>\n",
       "      <th>f_3273</th>\n",
       "      <th>label</th>\n",
       "      <th>id</th>\n",
       "    </tr>\n",
       "  </thead>\n",
       "  <tbody>\n",
       "    <tr>\n",
       "      <th>count</th>\n",
       "      <td>0.0</td>\n",
       "      <td>0.0</td>\n",
       "      <td>0.0</td>\n",
       "      <td>0.0</td>\n",
       "      <td>0.0</td>\n",
       "      <td>0.0</td>\n",
       "      <td>0.0</td>\n",
       "      <td>0.0</td>\n",
       "      <td>0.0</td>\n",
       "      <td>0.0</td>\n",
       "      <td>...</td>\n",
       "      <td>423.000000</td>\n",
       "      <td>0.0</td>\n",
       "      <td>0.0</td>\n",
       "      <td>0.0</td>\n",
       "      <td>0.0</td>\n",
       "      <td>0.0</td>\n",
       "      <td>0.0</td>\n",
       "      <td>0.0</td>\n",
       "      <td>3000.000000</td>\n",
       "      <td>3793.000000</td>\n",
       "    </tr>\n",
       "    <tr>\n",
       "      <th>mean</th>\n",
       "      <td>NaN</td>\n",
       "      <td>NaN</td>\n",
       "      <td>NaN</td>\n",
       "      <td>NaN</td>\n",
       "      <td>NaN</td>\n",
       "      <td>NaN</td>\n",
       "      <td>NaN</td>\n",
       "      <td>NaN</td>\n",
       "      <td>NaN</td>\n",
       "      <td>NaN</td>\n",
       "      <td>...</td>\n",
       "      <td>0.049645</td>\n",
       "      <td>NaN</td>\n",
       "      <td>NaN</td>\n",
       "      <td>NaN</td>\n",
       "      <td>NaN</td>\n",
       "      <td>NaN</td>\n",
       "      <td>NaN</td>\n",
       "      <td>NaN</td>\n",
       "      <td>0.105333</td>\n",
       "      <td>1896.000000</td>\n",
       "    </tr>\n",
       "    <tr>\n",
       "      <th>std</th>\n",
       "      <td>NaN</td>\n",
       "      <td>NaN</td>\n",
       "      <td>NaN</td>\n",
       "      <td>NaN</td>\n",
       "      <td>NaN</td>\n",
       "      <td>NaN</td>\n",
       "      <td>NaN</td>\n",
       "      <td>NaN</td>\n",
       "      <td>NaN</td>\n",
       "      <td>NaN</td>\n",
       "      <td>...</td>\n",
       "      <td>0.112252</td>\n",
       "      <td>NaN</td>\n",
       "      <td>NaN</td>\n",
       "      <td>NaN</td>\n",
       "      <td>NaN</td>\n",
       "      <td>NaN</td>\n",
       "      <td>NaN</td>\n",
       "      <td>NaN</td>\n",
       "      <td>0.307034</td>\n",
       "      <td>1095.089114</td>\n",
       "    </tr>\n",
       "    <tr>\n",
       "      <th>min</th>\n",
       "      <td>NaN</td>\n",
       "      <td>NaN</td>\n",
       "      <td>NaN</td>\n",
       "      <td>NaN</td>\n",
       "      <td>NaN</td>\n",
       "      <td>NaN</td>\n",
       "      <td>NaN</td>\n",
       "      <td>NaN</td>\n",
       "      <td>NaN</td>\n",
       "      <td>NaN</td>\n",
       "      <td>...</td>\n",
       "      <td>0.000000</td>\n",
       "      <td>NaN</td>\n",
       "      <td>NaN</td>\n",
       "      <td>NaN</td>\n",
       "      <td>NaN</td>\n",
       "      <td>NaN</td>\n",
       "      <td>NaN</td>\n",
       "      <td>NaN</td>\n",
       "      <td>0.000000</td>\n",
       "      <td>0.000000</td>\n",
       "    </tr>\n",
       "    <tr>\n",
       "      <th>25%</th>\n",
       "      <td>NaN</td>\n",
       "      <td>NaN</td>\n",
       "      <td>NaN</td>\n",
       "      <td>NaN</td>\n",
       "      <td>NaN</td>\n",
       "      <td>NaN</td>\n",
       "      <td>NaN</td>\n",
       "      <td>NaN</td>\n",
       "      <td>NaN</td>\n",
       "      <td>NaN</td>\n",
       "      <td>...</td>\n",
       "      <td>0.000000</td>\n",
       "      <td>NaN</td>\n",
       "      <td>NaN</td>\n",
       "      <td>NaN</td>\n",
       "      <td>NaN</td>\n",
       "      <td>NaN</td>\n",
       "      <td>NaN</td>\n",
       "      <td>NaN</td>\n",
       "      <td>0.000000</td>\n",
       "      <td>948.000000</td>\n",
       "    </tr>\n",
       "    <tr>\n",
       "      <th>50%</th>\n",
       "      <td>NaN</td>\n",
       "      <td>NaN</td>\n",
       "      <td>NaN</td>\n",
       "      <td>NaN</td>\n",
       "      <td>NaN</td>\n",
       "      <td>NaN</td>\n",
       "      <td>NaN</td>\n",
       "      <td>NaN</td>\n",
       "      <td>NaN</td>\n",
       "      <td>NaN</td>\n",
       "      <td>...</td>\n",
       "      <td>0.000000</td>\n",
       "      <td>NaN</td>\n",
       "      <td>NaN</td>\n",
       "      <td>NaN</td>\n",
       "      <td>NaN</td>\n",
       "      <td>NaN</td>\n",
       "      <td>NaN</td>\n",
       "      <td>NaN</td>\n",
       "      <td>0.000000</td>\n",
       "      <td>1896.000000</td>\n",
       "    </tr>\n",
       "    <tr>\n",
       "      <th>75%</th>\n",
       "      <td>NaN</td>\n",
       "      <td>NaN</td>\n",
       "      <td>NaN</td>\n",
       "      <td>NaN</td>\n",
       "      <td>NaN</td>\n",
       "      <td>NaN</td>\n",
       "      <td>NaN</td>\n",
       "      <td>NaN</td>\n",
       "      <td>NaN</td>\n",
       "      <td>NaN</td>\n",
       "      <td>...</td>\n",
       "      <td>0.066667</td>\n",
       "      <td>NaN</td>\n",
       "      <td>NaN</td>\n",
       "      <td>NaN</td>\n",
       "      <td>NaN</td>\n",
       "      <td>NaN</td>\n",
       "      <td>NaN</td>\n",
       "      <td>NaN</td>\n",
       "      <td>0.000000</td>\n",
       "      <td>2844.000000</td>\n",
       "    </tr>\n",
       "    <tr>\n",
       "      <th>max</th>\n",
       "      <td>NaN</td>\n",
       "      <td>NaN</td>\n",
       "      <td>NaN</td>\n",
       "      <td>NaN</td>\n",
       "      <td>NaN</td>\n",
       "      <td>NaN</td>\n",
       "      <td>NaN</td>\n",
       "      <td>NaN</td>\n",
       "      <td>NaN</td>\n",
       "      <td>NaN</td>\n",
       "      <td>...</td>\n",
       "      <td>1.000000</td>\n",
       "      <td>NaN</td>\n",
       "      <td>NaN</td>\n",
       "      <td>NaN</td>\n",
       "      <td>NaN</td>\n",
       "      <td>NaN</td>\n",
       "      <td>NaN</td>\n",
       "      <td>NaN</td>\n",
       "      <td>1.000000</td>\n",
       "      <td>3792.000000</td>\n",
       "    </tr>\n",
       "  </tbody>\n",
       "</table>\n",
       "<p>8 rows × 3276 columns</p>\n",
       "</div>"
      ],
      "text/plain": [
       "       f_0000  f_0001  f_0002  f_0003  f_0004  f_0005  f_0006  f_0007  f_0008  \\\n",
       "count     0.0     0.0     0.0     0.0     0.0     0.0     0.0     0.0     0.0   \n",
       "mean      NaN     NaN     NaN     NaN     NaN     NaN     NaN     NaN     NaN   \n",
       "std       NaN     NaN     NaN     NaN     NaN     NaN     NaN     NaN     NaN   \n",
       "min       NaN     NaN     NaN     NaN     NaN     NaN     NaN     NaN     NaN   \n",
       "25%       NaN     NaN     NaN     NaN     NaN     NaN     NaN     NaN     NaN   \n",
       "50%       NaN     NaN     NaN     NaN     NaN     NaN     NaN     NaN     NaN   \n",
       "75%       NaN     NaN     NaN     NaN     NaN     NaN     NaN     NaN     NaN   \n",
       "max       NaN     NaN     NaN     NaN     NaN     NaN     NaN     NaN     NaN   \n",
       "\n",
       "       f_0009     ...           f_3266  f_3267  f_3268  f_3269  f_3270  \\\n",
       "count     0.0     ...       423.000000     0.0     0.0     0.0     0.0   \n",
       "mean      NaN     ...         0.049645     NaN     NaN     NaN     NaN   \n",
       "std       NaN     ...         0.112252     NaN     NaN     NaN     NaN   \n",
       "min       NaN     ...         0.000000     NaN     NaN     NaN     NaN   \n",
       "25%       NaN     ...         0.000000     NaN     NaN     NaN     NaN   \n",
       "50%       NaN     ...         0.000000     NaN     NaN     NaN     NaN   \n",
       "75%       NaN     ...         0.066667     NaN     NaN     NaN     NaN   \n",
       "max       NaN     ...         1.000000     NaN     NaN     NaN     NaN   \n",
       "\n",
       "       f_3271  f_3272  f_3273        label           id  \n",
       "count     0.0     0.0     0.0  3000.000000  3793.000000  \n",
       "mean      NaN     NaN     NaN     0.105333  1896.000000  \n",
       "std       NaN     NaN     NaN     0.307034  1095.089114  \n",
       "min       NaN     NaN     NaN     0.000000     0.000000  \n",
       "25%       NaN     NaN     NaN     0.000000   948.000000  \n",
       "50%       NaN     NaN     NaN     0.000000  1896.000000  \n",
       "75%       NaN     NaN     NaN     0.000000  2844.000000  \n",
       "max       NaN     NaN     NaN     1.000000  3792.000000  \n",
       "\n",
       "[8 rows x 3276 columns]"
      ]
     },
     "execution_count": 5,
     "metadata": {},
     "output_type": "execute_result"
    }
   ],
   "source": [
    "model_data.describe()"
   ]
  },
  {
   "cell_type": "code",
   "execution_count": 6,
   "metadata": {},
   "outputs": [
    {
     "data": {
      "text/plain": [
       "dataset    3793\n",
       "id         3793\n",
       "f_0209     3793\n",
       "f_0208     3790\n",
       "f_0217     3777\n",
       "f_0216     3773\n",
       "f_0257     3580\n",
       "f_0256     3531\n",
       "f_0211     3515\n",
       "f_0215     3515\n",
       "f_2928     3454\n",
       "f_2796     3454\n",
       "f_2754     3454\n",
       "f_2760     3454\n",
       "f_0998     3454\n",
       "f_2910     3454\n",
       "f_1808     3454\n",
       "f_2916     3454\n",
       "f_1796     3454\n",
       "f_1022     3454\n",
       "f_2778     3454\n",
       "f_1814     3454\n",
       "f_2784     3454\n",
       "f_2790     3454\n",
       "f_1820     3454\n",
       "f_0326     3454\n",
       "f_1802     3454\n",
       "f_1004     3454\n",
       "f_2904     3454\n",
       "f_1760     3454\n",
       "           ... \n",
       "f_1739        0\n",
       "f_1740        0\n",
       "f_1741        0\n",
       "f_1742        0\n",
       "f_1743        0\n",
       "f_1744        0\n",
       "f_1745        0\n",
       "f_1746        0\n",
       "f_1747        0\n",
       "f_1748        0\n",
       "f_1875        0\n",
       "f_1876        0\n",
       "f_1877        0\n",
       "f_1878        0\n",
       "f_1879        0\n",
       "f_1880        0\n",
       "f_1881        0\n",
       "f_1882        0\n",
       "f_1883        0\n",
       "f_1884        0\n",
       "f_1885        0\n",
       "f_1886        0\n",
       "f_1887        0\n",
       "f_1888        0\n",
       "f_1889        0\n",
       "f_1890        0\n",
       "f_1891        0\n",
       "f_1892        0\n",
       "f_1893        0\n",
       "f_0000        0\n",
       "Length: 3277, dtype: int64"
      ]
     },
     "execution_count": 6,
     "metadata": {},
     "output_type": "execute_result"
    }
   ],
   "source": [
    "model_data.notnull().sum().sort_values(ascending=False)"
   ]
  },
  {
   "cell_type": "code",
   "execution_count": 7,
   "metadata": {},
   "outputs": [],
   "source": [
    "#划分数据集\n",
    "df_train=model_data[model_data[\"dataset\"]==\"train\"]\n",
    "df_train=df_train.reindex(df_train['id'])\n",
    "df_test=model_data[model_data[\"dataset\"]==\"test\"]\n",
    "df_test=df_test.reindex(df_test['id'])"
   ]
  },
  {
   "cell_type": "code",
   "execution_count": 8,
   "metadata": {},
   "outputs": [
    {
     "data": {
      "text/plain": [
       "((3000, 3277), (793, 3277))"
      ]
     },
     "execution_count": 8,
     "metadata": {},
     "output_type": "execute_result"
    }
   ],
   "source": [
    "df_train.shape,df_test.shape"
   ]
  },
  {
   "cell_type": "code",
   "execution_count": 9,
   "metadata": {},
   "outputs": [],
   "source": [
    "#大部分数据缺失，删除数据缺失值较多的特征\n",
    "c=[]\n",
    "for i in df_train.columns:\n",
    "    if ((df_train[i].notnull().sum()))/df_train.shape[1]>=0.5:\n",
    "        c.append(i)\n",
    "df_train_1=df_train[c]"
   ]
  },
  {
   "cell_type": "code",
   "execution_count": 11,
   "metadata": {},
   "outputs": [
    {
     "name": "stdout",
     "output_type": "stream",
     "text": [
      "删除后剩下特征数：593\n"
     ]
    }
   ],
   "source": [
    "print(\"删除后剩下特征数：\"+str(df_train_1.shape[1]))"
   ]
  },
  {
   "cell_type": "code",
   "execution_count": 12,
   "metadata": {},
   "outputs": [
    {
     "data": {
      "text/html": [
       "<div>\n",
       "<style scoped>\n",
       "    .dataframe tbody tr th:only-of-type {\n",
       "        vertical-align: middle;\n",
       "    }\n",
       "\n",
       "    .dataframe tbody tr th {\n",
       "        vertical-align: top;\n",
       "    }\n",
       "\n",
       "    .dataframe thead th {\n",
       "        text-align: right;\n",
       "    }\n",
       "</style>\n",
       "<table border=\"1\" class=\"dataframe\">\n",
       "  <thead>\n",
       "    <tr style=\"text-align: right;\">\n",
       "      <th></th>\n",
       "      <th>f_0208</th>\n",
       "      <th>f_0209</th>\n",
       "      <th>f_0210</th>\n",
       "      <th>f_0211</th>\n",
       "      <th>f_0214</th>\n",
       "      <th>f_0215</th>\n",
       "      <th>f_0216</th>\n",
       "      <th>f_0217</th>\n",
       "      <th>f_0256</th>\n",
       "      <th>f_0257</th>\n",
       "      <th>...</th>\n",
       "      <th>f_3152</th>\n",
       "      <th>f_3153</th>\n",
       "      <th>f_3155</th>\n",
       "      <th>f_3156</th>\n",
       "      <th>f_3157</th>\n",
       "      <th>f_3158</th>\n",
       "      <th>f_3159</th>\n",
       "      <th>label</th>\n",
       "      <th>id</th>\n",
       "      <th>dataset</th>\n",
       "    </tr>\n",
       "    <tr>\n",
       "      <th>id</th>\n",
       "      <th></th>\n",
       "      <th></th>\n",
       "      <th></th>\n",
       "      <th></th>\n",
       "      <th></th>\n",
       "      <th></th>\n",
       "      <th></th>\n",
       "      <th></th>\n",
       "      <th></th>\n",
       "      <th></th>\n",
       "      <th></th>\n",
       "      <th></th>\n",
       "      <th></th>\n",
       "      <th></th>\n",
       "      <th></th>\n",
       "      <th></th>\n",
       "      <th></th>\n",
       "      <th></th>\n",
       "      <th></th>\n",
       "      <th></th>\n",
       "      <th></th>\n",
       "    </tr>\n",
       "  </thead>\n",
       "  <tbody>\n",
       "    <tr>\n",
       "      <th>0</th>\n",
       "      <td>0.381415</td>\n",
       "      <td>0</td>\n",
       "      <td>0.065432</td>\n",
       "      <td>0.065432</td>\n",
       "      <td>0.272727</td>\n",
       "      <td>0.272727</td>\n",
       "      <td>0.307692</td>\n",
       "      <td>0.302564</td>\n",
       "      <td>0.785714</td>\n",
       "      <td>0.385621</td>\n",
       "      <td>...</td>\n",
       "      <td>NaN</td>\n",
       "      <td>NaN</td>\n",
       "      <td>NaN</td>\n",
       "      <td>NaN</td>\n",
       "      <td>NaN</td>\n",
       "      <td>NaN</td>\n",
       "      <td>NaN</td>\n",
       "      <td>0.0</td>\n",
       "      <td>0</td>\n",
       "      <td>train</td>\n",
       "    </tr>\n",
       "    <tr>\n",
       "      <th>1</th>\n",
       "      <td>0.381415</td>\n",
       "      <td>0</td>\n",
       "      <td>0.065432</td>\n",
       "      <td>0.065432</td>\n",
       "      <td>0.272727</td>\n",
       "      <td>0.272727</td>\n",
       "      <td>0.296154</td>\n",
       "      <td>0.295385</td>\n",
       "      <td>0.785714</td>\n",
       "      <td>0.385621</td>\n",
       "      <td>...</td>\n",
       "      <td>NaN</td>\n",
       "      <td>NaN</td>\n",
       "      <td>NaN</td>\n",
       "      <td>NaN</td>\n",
       "      <td>NaN</td>\n",
       "      <td>NaN</td>\n",
       "      <td>NaN</td>\n",
       "      <td>0.0</td>\n",
       "      <td>1</td>\n",
       "      <td>train</td>\n",
       "    </tr>\n",
       "    <tr>\n",
       "      <th>2</th>\n",
       "      <td>0.381415</td>\n",
       "      <td>0</td>\n",
       "      <td>0.065432</td>\n",
       "      <td>0.065432</td>\n",
       "      <td>0.272727</td>\n",
       "      <td>0.272727</td>\n",
       "      <td>0.287912</td>\n",
       "      <td>0.288462</td>\n",
       "      <td>0.785714</td>\n",
       "      <td>0.385621</td>\n",
       "      <td>...</td>\n",
       "      <td>NaN</td>\n",
       "      <td>NaN</td>\n",
       "      <td>NaN</td>\n",
       "      <td>NaN</td>\n",
       "      <td>NaN</td>\n",
       "      <td>NaN</td>\n",
       "      <td>NaN</td>\n",
       "      <td>0.0</td>\n",
       "      <td>2</td>\n",
       "      <td>train</td>\n",
       "    </tr>\n",
       "    <tr>\n",
       "      <th>3</th>\n",
       "      <td>0.600870</td>\n",
       "      <td>1</td>\n",
       "      <td>0.032099</td>\n",
       "      <td>0.032099</td>\n",
       "      <td>0.264463</td>\n",
       "      <td>0.264463</td>\n",
       "      <td>0.276068</td>\n",
       "      <td>0.276224</td>\n",
       "      <td>0.825397</td>\n",
       "      <td>0.431373</td>\n",
       "      <td>...</td>\n",
       "      <td>0.50499</td>\n",
       "      <td>0.536972</td>\n",
       "      <td>NaN</td>\n",
       "      <td>0.086564</td>\n",
       "      <td>0.08855</td>\n",
       "      <td>0.091912</td>\n",
       "      <td>0.093859</td>\n",
       "      <td>1.0</td>\n",
       "      <td>3</td>\n",
       "      <td>train</td>\n",
       "    </tr>\n",
       "    <tr>\n",
       "      <th>4</th>\n",
       "      <td>0.589760</td>\n",
       "      <td>1</td>\n",
       "      <td>0.061728</td>\n",
       "      <td>0.061728</td>\n",
       "      <td>0.371901</td>\n",
       "      <td>0.371901</td>\n",
       "      <td>0.284615</td>\n",
       "      <td>0.284615</td>\n",
       "      <td>0.904762</td>\n",
       "      <td>0.385621</td>\n",
       "      <td>...</td>\n",
       "      <td>NaN</td>\n",
       "      <td>0.502856</td>\n",
       "      <td>NaN</td>\n",
       "      <td>NaN</td>\n",
       "      <td>NaN</td>\n",
       "      <td>NaN</td>\n",
       "      <td>0.091912</td>\n",
       "      <td>0.0</td>\n",
       "      <td>4</td>\n",
       "      <td>train</td>\n",
       "    </tr>\n",
       "    <tr>\n",
       "      <th>5</th>\n",
       "      <td>0.589760</td>\n",
       "      <td>1</td>\n",
       "      <td>0.061728</td>\n",
       "      <td>0.061728</td>\n",
       "      <td>0.371901</td>\n",
       "      <td>0.371901</td>\n",
       "      <td>0.286154</td>\n",
       "      <td>0.286154</td>\n",
       "      <td>0.904762</td>\n",
       "      <td>0.385621</td>\n",
       "      <td>...</td>\n",
       "      <td>0.50499</td>\n",
       "      <td>0.502856</td>\n",
       "      <td>0.086564</td>\n",
       "      <td>0.086564</td>\n",
       "      <td>0.08855</td>\n",
       "      <td>0.091912</td>\n",
       "      <td>0.091912</td>\n",
       "      <td>0.0</td>\n",
       "      <td>5</td>\n",
       "      <td>train</td>\n",
       "    </tr>\n",
       "    <tr>\n",
       "      <th>6</th>\n",
       "      <td>0.589760</td>\n",
       "      <td>1</td>\n",
       "      <td>0.061728</td>\n",
       "      <td>0.061728</td>\n",
       "      <td>0.371901</td>\n",
       "      <td>0.371901</td>\n",
       "      <td>0.289744</td>\n",
       "      <td>0.289744</td>\n",
       "      <td>0.904762</td>\n",
       "      <td>0.385621</td>\n",
       "      <td>...</td>\n",
       "      <td>0.50499</td>\n",
       "      <td>0.502856</td>\n",
       "      <td>0.086564</td>\n",
       "      <td>0.086564</td>\n",
       "      <td>0.08855</td>\n",
       "      <td>0.091912</td>\n",
       "      <td>0.091912</td>\n",
       "      <td>0.0</td>\n",
       "      <td>6</td>\n",
       "      <td>train</td>\n",
       "    </tr>\n",
       "    <tr>\n",
       "      <th>7</th>\n",
       "      <td>0.589760</td>\n",
       "      <td>1</td>\n",
       "      <td>NaN</td>\n",
       "      <td>NaN</td>\n",
       "      <td>NaN</td>\n",
       "      <td>NaN</td>\n",
       "      <td>0.302564</td>\n",
       "      <td>0.289941</td>\n",
       "      <td>0.904762</td>\n",
       "      <td>0.385621</td>\n",
       "      <td>...</td>\n",
       "      <td>0.50499</td>\n",
       "      <td>0.502856</td>\n",
       "      <td>NaN</td>\n",
       "      <td>NaN</td>\n",
       "      <td>NaN</td>\n",
       "      <td>0.091912</td>\n",
       "      <td>0.091912</td>\n",
       "      <td>0.0</td>\n",
       "      <td>7</td>\n",
       "      <td>train</td>\n",
       "    </tr>\n",
       "    <tr>\n",
       "      <th>8</th>\n",
       "      <td>0.625436</td>\n",
       "      <td>1</td>\n",
       "      <td>0.119753</td>\n",
       "      <td>0.119753</td>\n",
       "      <td>0.595041</td>\n",
       "      <td>0.595041</td>\n",
       "      <td>0.407692</td>\n",
       "      <td>0.407692</td>\n",
       "      <td>0.928571</td>\n",
       "      <td>0.555556</td>\n",
       "      <td>...</td>\n",
       "      <td>NaN</td>\n",
       "      <td>NaN</td>\n",
       "      <td>NaN</td>\n",
       "      <td>NaN</td>\n",
       "      <td>NaN</td>\n",
       "      <td>NaN</td>\n",
       "      <td>NaN</td>\n",
       "      <td>0.0</td>\n",
       "      <td>8</td>\n",
       "      <td>train</td>\n",
       "    </tr>\n",
       "    <tr>\n",
       "      <th>9</th>\n",
       "      <td>0.625436</td>\n",
       "      <td>1</td>\n",
       "      <td>0.119753</td>\n",
       "      <td>0.119753</td>\n",
       "      <td>0.595041</td>\n",
       "      <td>0.595041</td>\n",
       "      <td>0.453846</td>\n",
       "      <td>0.453846</td>\n",
       "      <td>0.928571</td>\n",
       "      <td>0.555556</td>\n",
       "      <td>...</td>\n",
       "      <td>0.50499</td>\n",
       "      <td>0.502856</td>\n",
       "      <td>0.086564</td>\n",
       "      <td>0.086564</td>\n",
       "      <td>0.08855</td>\n",
       "      <td>0.091912</td>\n",
       "      <td>0.091912</td>\n",
       "      <td>0.0</td>\n",
       "      <td>9</td>\n",
       "      <td>train</td>\n",
       "    </tr>\n",
       "  </tbody>\n",
       "</table>\n",
       "<p>10 rows × 593 columns</p>\n",
       "</div>"
      ],
      "text/plain": [
       "      f_0208  f_0209    f_0210    f_0211    f_0214    f_0215    f_0216  \\\n",
       "id                                                                       \n",
       "0   0.381415       0  0.065432  0.065432  0.272727  0.272727  0.307692   \n",
       "1   0.381415       0  0.065432  0.065432  0.272727  0.272727  0.296154   \n",
       "2   0.381415       0  0.065432  0.065432  0.272727  0.272727  0.287912   \n",
       "3   0.600870       1  0.032099  0.032099  0.264463  0.264463  0.276068   \n",
       "4   0.589760       1  0.061728  0.061728  0.371901  0.371901  0.284615   \n",
       "5   0.589760       1  0.061728  0.061728  0.371901  0.371901  0.286154   \n",
       "6   0.589760       1  0.061728  0.061728  0.371901  0.371901  0.289744   \n",
       "7   0.589760       1       NaN       NaN       NaN       NaN  0.302564   \n",
       "8   0.625436       1  0.119753  0.119753  0.595041  0.595041  0.407692   \n",
       "9   0.625436       1  0.119753  0.119753  0.595041  0.595041  0.453846   \n",
       "\n",
       "      f_0217    f_0256    f_0257   ...      f_3152    f_3153    f_3155  \\\n",
       "id                                 ...                                   \n",
       "0   0.302564  0.785714  0.385621   ...         NaN       NaN       NaN   \n",
       "1   0.295385  0.785714  0.385621   ...         NaN       NaN       NaN   \n",
       "2   0.288462  0.785714  0.385621   ...         NaN       NaN       NaN   \n",
       "3   0.276224  0.825397  0.431373   ...     0.50499  0.536972       NaN   \n",
       "4   0.284615  0.904762  0.385621   ...         NaN  0.502856       NaN   \n",
       "5   0.286154  0.904762  0.385621   ...     0.50499  0.502856  0.086564   \n",
       "6   0.289744  0.904762  0.385621   ...     0.50499  0.502856  0.086564   \n",
       "7   0.289941  0.904762  0.385621   ...     0.50499  0.502856       NaN   \n",
       "8   0.407692  0.928571  0.555556   ...         NaN       NaN       NaN   \n",
       "9   0.453846  0.928571  0.555556   ...     0.50499  0.502856  0.086564   \n",
       "\n",
       "      f_3156   f_3157    f_3158    f_3159  label  id  dataset  \n",
       "id                                                             \n",
       "0        NaN      NaN       NaN       NaN    0.0   0    train  \n",
       "1        NaN      NaN       NaN       NaN    0.0   1    train  \n",
       "2        NaN      NaN       NaN       NaN    0.0   2    train  \n",
       "3   0.086564  0.08855  0.091912  0.093859    1.0   3    train  \n",
       "4        NaN      NaN       NaN  0.091912    0.0   4    train  \n",
       "5   0.086564  0.08855  0.091912  0.091912    0.0   5    train  \n",
       "6   0.086564  0.08855  0.091912  0.091912    0.0   6    train  \n",
       "7        NaN      NaN  0.091912  0.091912    0.0   7    train  \n",
       "8        NaN      NaN       NaN       NaN    0.0   8    train  \n",
       "9   0.086564  0.08855  0.091912  0.091912    0.0   9    train  \n",
       "\n",
       "[10 rows x 593 columns]"
      ]
     },
     "execution_count": 12,
     "metadata": {},
     "output_type": "execute_result"
    }
   ],
   "source": [
    "df_train_1.head(10)"
   ]
  },
  {
   "cell_type": "code",
   "execution_count": 13,
   "metadata": {},
   "outputs": [],
   "source": [
    "#对训练数据进行缺失值处理\n",
    "#用平均值填充\n",
    "x_train=df_train_1.iloc[:,:-3]\n",
    "y_train=df_train_1['label']\n",
    "x_train=x_train.fillna(x_train.mean())"
   ]
  },
  {
   "cell_type": "code",
   "execution_count": 14,
   "metadata": {},
   "outputs": [],
   "source": [
    "#对测试数据进行缺失值处理\n",
    "x_test=df_test[df_train_1.columns].iloc[:,:-3]\n",
    "x_test=x_test.fillna(x_train.mean())"
   ]
  },
  {
   "cell_type": "code",
   "execution_count": 15,
   "metadata": {},
   "outputs": [
    {
     "data": {
      "text/plain": [
       "((3000, 590), (793, 590))"
      ]
     },
     "execution_count": 15,
     "metadata": {},
     "output_type": "execute_result"
    }
   ],
   "source": [
    "x_train.shape,x_test.shape"
   ]
  },
  {
   "cell_type": "code",
   "execution_count": 16,
   "metadata": {},
   "outputs": [
    {
     "data": {
      "text/plain": [
       "0.0    2684\n",
       "1.0     316\n",
       "Name: label, dtype: int64"
      ]
     },
     "execution_count": 16,
     "metadata": {},
     "output_type": "execute_result"
    }
   ],
   "source": [
    "#目标变量分布情况\n",
    "df_train.label.value_counts()"
   ]
  },
  {
   "cell_type": "code",
   "execution_count": 17,
   "metadata": {},
   "outputs": [
    {
     "data": {
      "text/plain": [
       "<BarContainer object of 2 artists>"
      ]
     },
     "execution_count": 17,
     "metadata": {},
     "output_type": "execute_result"
    },
    {
     "data": {
      "image/png": "[encoded data removed]",
      "text/plain": [
       "<Figure size 432x288 with 1 Axes>"
      ]
     },
     "metadata": {
      "needs_background": "light"
     },
     "output_type": "display_data"
    }
   ],
   "source": [
    "plt.bar(x=('0','1'),height=(2684,316))\n",
    "#由柱形图可以看出样本分布不平衡\n",
    "#代价敏感方法处理不平衡分类问题中"
   ]
  },
  {
   "cell_type": "markdown",
   "metadata": {},
   "source": [
    "### 任务2\n",
    "\n",
    "请根据train数据，使用3种指定的机器学习算法（都可以在sklearn中找到）分别训练模型。这3种算法是\n",
    "* xgboost\n",
    "* logistic regression\n",
    "* random forest\n",
    "\n",
    "要求:\n",
    "* 预测目标为label列\n",
    "* 模型优化的目标为auc_roc\n",
    "* 需要对特征进行筛选。每种算法训练的模型，最后使用的特征控制在20个以内。\n",
    "* 每种算法得到的模型，将模型在test数据集的预测结果(0~1之间的一个分值)保存在csv文件中。面试官会计算候选人模型在test数据集的auc_roc"
   ]
  },
  {
   "cell_type": "raw",
   "metadata": {},
   "source": [
    "# 特征选择"
   ]
  },
  {
   "cell_type": "code",
   "execution_count": 18,
   "metadata": {},
   "outputs": [],
   "source": [
    "#基于chi2的特征选择，选择20个比较重要的特征\n",
    "from sklearn.feature_selection import SelectKBest\n",
    "from sklearn.feature_selection import chi2\n",
    "X_new = SelectKBest(chi2, k=20).fit_transform(x_train, y_train)\n",
    "X_new.shape\n",
    "x_new_2=SelectKBest(chi2,k=20).fit(x_train, y_train).get_support(indices=True)"
   ]
  },
  {
   "cell_type": "code",
   "execution_count": 30,
   "metadata": {},
   "outputs": [
    {
     "name": "stdout",
     "output_type": "stream",
     "text": [
      "['f_3089', 'f_3090', 'f_3091', 'f_3092', 'f_3093', 'f_3095', 'f_3101', 'f_3102', 'f_3103', 'f_3104', 'f_3105', 'f_3131', 'f_3132', 'f_3133', 'f_3134', 'f_3135', 'f_3144', 'f_3145', 'f_3146', 'f_3147']\n"
     ]
    }
   ],
   "source": [
    "#选择了那些特征\n",
    "print([x_train.columns[i] for i in x_new_2])"
   ]
  },
  {
   "cell_type": "raw",
   "metadata": {},
   "source": [
    "构建模型"
   ]
  },
  {
   "cell_type": "code",
   "execution_count": 31,
   "metadata": {},
   "outputs": [],
   "source": [
    "#划分数据进行交叉验证\n",
    "x=X_new\n",
    "y=y_train.values\n",
    "X_train, X_test, Y_train, Y_test = train_test_split(x, y, test_size = 0.2, random_state = 0)"
   ]
  },
  {
   "cell_type": "code",
   "execution_count": 75,
   "metadata": {},
   "outputs": [
    {
     "data": {
      "text/plain": [
       "array([[534,   0],\n",
       "       [ 66,   0]], dtype=int64)"
      ]
     },
     "execution_count": 75,
     "metadata": {},
     "output_type": "execute_result"
    }
   ],
   "source": [
    "#scale_pos_weight=负样本数/正样本数  处理分类不平衡\n",
    "scale_pos_weight=316/2684\n",
    "model = xgb.XGBClassifier(max_depth=5, learning_rate=0.1, n_estimators=160, silent=False, objective='reg:gamma',scale_pos_weight=1)\n",
    "model.fit(X_train,Y_train)\n",
    "predictions=model.predict(X_test)\n",
    "actuals=Y_test\n",
    "confusion_matrix(actuals, predictions)"
   ]
  },
  {
   "cell_type": "code",
   "execution_count": 76,
   "metadata": {},
   "outputs": [
    {
     "data": {
      "text/plain": [
       "0.5"
      ]
     },
     "execution_count": 76,
     "metadata": {},
     "output_type": "execute_result"
    }
   ],
   "source": [
    "false_positive_rate, recall, thresholds = roc_curve(Y_test, predictions) \n",
    "roc_auc = auc(false_positive_rate, recall)  \n",
    "roc_auc"
   ]
  },
  {
   "cell_type": "code",
   "execution_count": 79,
   "metadata": {},
   "outputs": [],
   "source": [
    "def Roc_auc(false_positive_rate,recall ):\n",
    "    plt.title('Receiver Operating Characteristic')  \n",
    "    plt.plot(false_positive_rate, recall, 'b', label='AUC = %0.2f' % roc_auc)  \n",
    "    plt.legend(loc='lower right')  \n",
    "    plt.plot([0, 1], [0, 1], 'r--')  \n",
    "    plt.xlim([0.0, 1.0])  \n",
    "    plt.ylim([0.0, 1.0])  \n",
    "    plt.ylabel('Recall')  \n",
    "    plt.xlabel('Fall-out')  \n",
    "    plt.show() "
   ]
  },
  {
   "cell_type": "code",
   "execution_count": 80,
   "metadata": {},
   "outputs": [
    {
     "data": {
      "image/png": "[encoded data removed]",
      "text/plain": [
       "<Figure size 432x288 with 1 Axes>"
      ]
     },
     "metadata": {
      "needs_background": "light"
     },
     "output_type": "display_data"
    }
   ],
   "source": [
    "Roc_auc(false_positive_rate,recall )"
   ]
  },
  {
   "cell_type": "code",
   "execution_count": 81,
   "metadata": {},
   "outputs": [
    {
     "data": {
      "text/plain": [
       "array([[529,   5],\n",
       "       [ 55,  11]], dtype=int64)"
      ]
     },
     "execution_count": 81,
     "metadata": {},
     "output_type": "execute_result"
    }
   ],
   "source": [
    "#逻辑回归预测\n",
    "lr = LogisticRegression(penalty='l2')\n",
    "lr.fit(X_train, Y_train)\n",
    "predictions=lr.predict(X_test)\n",
    "actuals=Y_test\n",
    "confusion_matrix(actuals, predictions)"
   ]
  },
  {
   "cell_type": "code",
   "execution_count": 82,
   "metadata": {},
   "outputs": [
    {
     "data": {
      "text/plain": [
       "0.5786516853932585"
      ]
     },
     "execution_count": 82,
     "metadata": {},
     "output_type": "execute_result"
    }
   ],
   "source": [
    "false_positive_rate, recall, thresholds = roc_curve(Y_test, predictions) \n",
    "roc_auc = auc(false_positive_rate, recall)  \n",
    "roc_auc"
   ]
  },
  {
   "cell_type": "code",
   "execution_count": 83,
   "metadata": {},
   "outputs": [
    {
     "data": {
      "image/png": "[encoded data removed]",
      "text/plain": [
       "<Figure size 432x288 with 1 Axes>"
      ]
     },
     "metadata": {
      "needs_background": "light"
     },
     "output_type": "display_data"
    }
   ],
   "source": [
    "Roc_auc(false_positive_rate,recall )"
   ]
  },
  {
   "cell_type": "code",
   "execution_count": 96,
   "metadata": {},
   "outputs": [
    {
     "data": {
      "text/plain": [
       "array([[528,   6],\n",
       "       [ 38,  28]], dtype=int64)"
      ]
     },
     "execution_count": 96,
     "metadata": {},
     "output_type": "execute_result"
    }
   ],
   "source": [
    "#随机森林 n_estimators：决策树的个数,越多越好,不过值越大，性能就会越差,至少100\n",
    "class_weight = dict({0:100, 1:10})\n",
    "rdf = RandomForestClassifier(bootstrap=True,\n",
    "            class_weight=class_weight, \n",
    "            criterion='gini',\n",
    "            max_depth=8, max_leaf_nodes=None,\n",
    "            min_impurity_decrease=0.0, min_impurity_split=None,\n",
    "            min_samples_leaf=4,min_weight_fraction_leaf=0.0, n_estimators=300,\n",
    "            oob_score=False,\n",
    "            verbose=0, warm_start=False)\n",
    "rfc.fit(X_train, Y_train)\n",
    "predictions=rfc.predict(X_test)\n",
    "actuals=Y_test\n",
    "confusion_matrix(actuals, predictions)"
   ]
  },
  {
   "cell_type": "code",
   "execution_count": 97,
   "metadata": {},
   "outputs": [
    {
     "data": {
      "text/plain": [
       "0.7065032345931223"
      ]
     },
     "execution_count": 97,
     "metadata": {},
     "output_type": "execute_result"
    }
   ],
   "source": [
    "false_positive_rate, recall, thresholds = roc_curve(Y_test, predictions) \n",
    "roc_auc = auc(false_positive_rate, recall)  \n",
    "roc_auc"
   ]
  },
  {
   "cell_type": "code",
   "execution_count": 98,
   "metadata": {},
   "outputs": [
    {
     "data": {
      "image/png": "[encoded data removed]",
      "text/plain": [
       "<Figure size 432x288 with 1 Axes>"
      ]
     },
     "metadata": {
      "needs_background": "light"
     },
     "output_type": "display_data"
    }
   ],
   "source": [
    "Roc_auc(false_positive_rate,recall )"
   ]
  },
  {
   "cell_type": "code",
   "execution_count": 88,
   "metadata": {},
   "outputs": [],
   "source": [
    "# 根据交叉验证的结果随机森林效果表现较好。"
   ]
  },
  {
   "cell_type": "markdown",
   "metadata": {},
   "source": [
    "# 用全部的训练集训练模型并预测测试数据"
   ]
  },
  {
   "cell_type": "code",
   "execution_count": 106,
   "metadata": {},
   "outputs": [],
   "source": [
    "x_test_new=x_test[[x_train.columns[i] for i in x_new_2]].values\n",
    "scale_pos_weight=316/2684\n",
    "model = xgb.XGBClassifier(max_depth=5, learning_rate=0.1, n_estimators=160, silent=False, objective='reg:gamma',scale_pos_weight=1)\n",
    "model.fit(x,y)\n",
    "predictions_1=model.predict(x_test_new)\n"
   ]
  },
  {
   "cell_type": "code",
   "execution_count": 103,
   "metadata": {},
   "outputs": [],
   "source": [
    "lr = LogisticRegression(penalty='l2')\n",
    "lr.fit(x,y)\n",
    "predictions_2=lr.predict(x_test_new)\n"
   ]
  },
  {
   "cell_type": "code",
   "execution_count": 104,
   "metadata": {},
   "outputs": [],
   "source": [
    "class_weight = dict({0:100, 1:10})\n",
    "rdf = RandomForestClassifier(bootstrap=True,\n",
    "            class_weight=class_weight, \n",
    "            criterion='gini',\n",
    "            max_depth=8, max_leaf_nodes=None,\n",
    "            min_impurity_decrease=0.0, min_impurity_split=None,\n",
    "            min_samples_leaf=4,min_weight_fraction_leaf=0.0, n_estimators=300,\n",
    "            oob_score=False,\n",
    "            verbose=0, warm_start=False)\n",
    "rfc.fit(x,y)\n",
    "predictions_3=rfc.predict(x_test_new)\n"
   ]
  },
  {
   "cell_type": "code",
   "execution_count": 121,
   "metadata": {},
   "outputs": [],
   "source": [
    "from pandas import Series,DataFrame\n",
    "df1=DataFrame(predictions_1,index=x_test.index)\n",
    "df2=DataFrame(predictions_2,index=x_test.index)\n",
    "df3=DataFrame(predictions_3,index=x_test.index)\n",
    "df1.to_csv(\"G:/医学机器学习面试题/prediction1.csv\")\n",
    "df2.to_csv(\"G:/医学机器学习面试题/prediction2.csv\")\n",
    "df3.to_csv(\"G:/医学机器学习面试题/prediction3.csv\")"
   ]
  },
  {
   "cell_type": "markdown",
   "metadata": {},
   "source": [
    "### 任务3\n",
    "\n",
    "对xgboost算法中使用的每个特征，进行可视化分析。\n",
    "\n",
    "例如：\n",
    "* 特征取值的分布\n",
    "* 特征和预测目前之间的关系\n",
    "\n",
    "请候选人追加其他认为有必要进行的分析"
   ]
  },
  {
   "cell_type": "code",
   "execution_count": 132,
   "metadata": {},
   "outputs": [],
   "source": [
    "x_train_1=x_train[[x_train.columns[i] for i in x_new_2]]\n",
    "x_train_1['label']=df_train_1['label']"
   ]
  },
  {
   "cell_type": "code",
   "execution_count": 140,
   "metadata": {},
   "outputs": [
    {
     "data": {
      "text/html": [
       "<div>\n",
       "<style scoped>\n",
       "    .dataframe tbody tr th:only-of-type {\n",
       "        vertical-align: middle;\n",
       "    }\n",
       "\n",
       "    .dataframe tbody tr th {\n",
       "        vertical-align: top;\n",
       "    }\n",
       "\n",
       "    .dataframe thead th {\n",
       "        text-align: right;\n",
       "    }\n",
       "</style>\n",
       "<table border=\"1\" class=\"dataframe\">\n",
       "  <thead>\n",
       "    <tr style=\"text-align: right;\">\n",
       "      <th></th>\n",
       "      <th>f_3089</th>\n",
       "      <th>f_3090</th>\n",
       "      <th>f_3091</th>\n",
       "      <th>f_3092</th>\n",
       "      <th>f_3093</th>\n",
       "      <th>f_3095</th>\n",
       "      <th>f_3101</th>\n",
       "      <th>f_3102</th>\n",
       "      <th>f_3103</th>\n",
       "      <th>f_3104</th>\n",
       "      <th>...</th>\n",
       "      <th>f_3131</th>\n",
       "      <th>f_3132</th>\n",
       "      <th>f_3133</th>\n",
       "      <th>f_3134</th>\n",
       "      <th>f_3135</th>\n",
       "      <th>f_3144</th>\n",
       "      <th>f_3145</th>\n",
       "      <th>f_3146</th>\n",
       "      <th>f_3147</th>\n",
       "      <th>label</th>\n",
       "    </tr>\n",
       "    <tr>\n",
       "      <th>id</th>\n",
       "      <th></th>\n",
       "      <th></th>\n",
       "      <th></th>\n",
       "      <th></th>\n",
       "      <th></th>\n",
       "      <th></th>\n",
       "      <th></th>\n",
       "      <th></th>\n",
       "      <th></th>\n",
       "      <th></th>\n",
       "      <th></th>\n",
       "      <th></th>\n",
       "      <th></th>\n",
       "      <th></th>\n",
       "      <th></th>\n",
       "      <th></th>\n",
       "      <th></th>\n",
       "      <th></th>\n",
       "      <th></th>\n",
       "      <th></th>\n",
       "      <th></th>\n",
       "    </tr>\n",
       "  </thead>\n",
       "  <tbody>\n",
       "    <tr>\n",
       "      <th>0</th>\n",
       "      <td>0.033822</td>\n",
       "      <td>0.036111</td>\n",
       "      <td>0.038495</td>\n",
       "      <td>0.041502</td>\n",
       "      <td>0.045578</td>\n",
       "      <td>0.036309</td>\n",
       "      <td>0.035924</td>\n",
       "      <td>0.037133</td>\n",
       "      <td>0.037633</td>\n",
       "      <td>0.038228</td>\n",
       "      <td>...</td>\n",
       "      <td>0.108820</td>\n",
       "      <td>0.116821</td>\n",
       "      <td>0.122753</td>\n",
       "      <td>0.131859</td>\n",
       "      <td>0.142388</td>\n",
       "      <td>0.104575</td>\n",
       "      <td>0.106525</td>\n",
       "      <td>0.105978</td>\n",
       "      <td>0.104833</td>\n",
       "      <td>0.0</td>\n",
       "    </tr>\n",
       "    <tr>\n",
       "      <th>1</th>\n",
       "      <td>0.033822</td>\n",
       "      <td>0.036111</td>\n",
       "      <td>0.038495</td>\n",
       "      <td>0.041502</td>\n",
       "      <td>0.045578</td>\n",
       "      <td>0.036309</td>\n",
       "      <td>0.035924</td>\n",
       "      <td>0.037133</td>\n",
       "      <td>0.037633</td>\n",
       "      <td>0.038228</td>\n",
       "      <td>...</td>\n",
       "      <td>0.108820</td>\n",
       "      <td>0.116821</td>\n",
       "      <td>0.122753</td>\n",
       "      <td>0.131859</td>\n",
       "      <td>0.142388</td>\n",
       "      <td>0.104575</td>\n",
       "      <td>0.106525</td>\n",
       "      <td>0.105978</td>\n",
       "      <td>0.104833</td>\n",
       "      <td>0.0</td>\n",
       "    </tr>\n",
       "    <tr>\n",
       "      <th>2</th>\n",
       "      <td>0.033822</td>\n",
       "      <td>0.036111</td>\n",
       "      <td>0.038495</td>\n",
       "      <td>0.041502</td>\n",
       "      <td>0.045578</td>\n",
       "      <td>0.036309</td>\n",
       "      <td>0.035924</td>\n",
       "      <td>0.037133</td>\n",
       "      <td>0.037633</td>\n",
       "      <td>0.038228</td>\n",
       "      <td>...</td>\n",
       "      <td>0.108820</td>\n",
       "      <td>0.116821</td>\n",
       "      <td>0.122753</td>\n",
       "      <td>0.131859</td>\n",
       "      <td>0.142388</td>\n",
       "      <td>0.104575</td>\n",
       "      <td>0.106525</td>\n",
       "      <td>0.105978</td>\n",
       "      <td>0.104833</td>\n",
       "      <td>0.0</td>\n",
       "    </tr>\n",
       "    <tr>\n",
       "      <th>3</th>\n",
       "      <td>0.033822</td>\n",
       "      <td>0.036111</td>\n",
       "      <td>0.038495</td>\n",
       "      <td>0.041502</td>\n",
       "      <td>0.074296</td>\n",
       "      <td>0.036309</td>\n",
       "      <td>0.035924</td>\n",
       "      <td>0.037133</td>\n",
       "      <td>0.037633</td>\n",
       "      <td>0.038228</td>\n",
       "      <td>...</td>\n",
       "      <td>0.108820</td>\n",
       "      <td>0.752241</td>\n",
       "      <td>0.752241</td>\n",
       "      <td>0.752241</td>\n",
       "      <td>0.775474</td>\n",
       "      <td>0.752241</td>\n",
       "      <td>0.752241</td>\n",
       "      <td>0.752241</td>\n",
       "      <td>0.752241</td>\n",
       "      <td>1.0</td>\n",
       "    </tr>\n",
       "    <tr>\n",
       "      <th>4</th>\n",
       "      <td>0.033822</td>\n",
       "      <td>0.036111</td>\n",
       "      <td>0.038495</td>\n",
       "      <td>0.041502</td>\n",
       "      <td>0.008881</td>\n",
       "      <td>0.036309</td>\n",
       "      <td>0.035924</td>\n",
       "      <td>0.037133</td>\n",
       "      <td>0.037633</td>\n",
       "      <td>0.038228</td>\n",
       "      <td>...</td>\n",
       "      <td>0.108820</td>\n",
       "      <td>0.116821</td>\n",
       "      <td>0.122753</td>\n",
       "      <td>0.131859</td>\n",
       "      <td>0.006274</td>\n",
       "      <td>0.104575</td>\n",
       "      <td>0.106525</td>\n",
       "      <td>0.105978</td>\n",
       "      <td>0.006296</td>\n",
       "      <td>0.0</td>\n",
       "    </tr>\n",
       "    <tr>\n",
       "      <th>5</th>\n",
       "      <td>0.008005</td>\n",
       "      <td>0.008005</td>\n",
       "      <td>0.008005</td>\n",
       "      <td>0.008005</td>\n",
       "      <td>0.008005</td>\n",
       "      <td>0.010918</td>\n",
       "      <td>0.009383</td>\n",
       "      <td>0.009383</td>\n",
       "      <td>0.009383</td>\n",
       "      <td>0.009383</td>\n",
       "      <td>...</td>\n",
       "      <td>0.012642</td>\n",
       "      <td>0.012642</td>\n",
       "      <td>0.012642</td>\n",
       "      <td>0.012642</td>\n",
       "      <td>0.012599</td>\n",
       "      <td>0.012642</td>\n",
       "      <td>0.012642</td>\n",
       "      <td>0.012642</td>\n",
       "      <td>0.012642</td>\n",
       "      <td>0.0</td>\n",
       "    </tr>\n",
       "    <tr>\n",
       "      <th>6</th>\n",
       "      <td>0.008005</td>\n",
       "      <td>0.008005</td>\n",
       "      <td>0.008005</td>\n",
       "      <td>0.008005</td>\n",
       "      <td>0.008005</td>\n",
       "      <td>0.010918</td>\n",
       "      <td>0.009383</td>\n",
       "      <td>0.009383</td>\n",
       "      <td>0.009383</td>\n",
       "      <td>0.009383</td>\n",
       "      <td>...</td>\n",
       "      <td>0.012642</td>\n",
       "      <td>0.012642</td>\n",
       "      <td>0.012642</td>\n",
       "      <td>0.012642</td>\n",
       "      <td>0.012599</td>\n",
       "      <td>0.012642</td>\n",
       "      <td>0.012642</td>\n",
       "      <td>0.012642</td>\n",
       "      <td>0.012642</td>\n",
       "      <td>0.0</td>\n",
       "    </tr>\n",
       "    <tr>\n",
       "      <th>7</th>\n",
       "      <td>0.033822</td>\n",
       "      <td>0.036111</td>\n",
       "      <td>0.038495</td>\n",
       "      <td>0.008005</td>\n",
       "      <td>0.008005</td>\n",
       "      <td>0.036309</td>\n",
       "      <td>0.035924</td>\n",
       "      <td>0.037133</td>\n",
       "      <td>0.037633</td>\n",
       "      <td>0.009383</td>\n",
       "      <td>...</td>\n",
       "      <td>0.108820</td>\n",
       "      <td>0.116821</td>\n",
       "      <td>0.122753</td>\n",
       "      <td>0.012642</td>\n",
       "      <td>0.012599</td>\n",
       "      <td>0.104575</td>\n",
       "      <td>0.106525</td>\n",
       "      <td>0.012642</td>\n",
       "      <td>0.012642</td>\n",
       "      <td>0.0</td>\n",
       "    </tr>\n",
       "    <tr>\n",
       "      <th>8</th>\n",
       "      <td>0.033822</td>\n",
       "      <td>0.036111</td>\n",
       "      <td>0.038495</td>\n",
       "      <td>0.041502</td>\n",
       "      <td>0.045578</td>\n",
       "      <td>0.036309</td>\n",
       "      <td>0.035924</td>\n",
       "      <td>0.037133</td>\n",
       "      <td>0.037633</td>\n",
       "      <td>0.038228</td>\n",
       "      <td>...</td>\n",
       "      <td>0.108820</td>\n",
       "      <td>0.116821</td>\n",
       "      <td>0.122753</td>\n",
       "      <td>0.131859</td>\n",
       "      <td>0.142388</td>\n",
       "      <td>0.104575</td>\n",
       "      <td>0.106525</td>\n",
       "      <td>0.105978</td>\n",
       "      <td>0.104833</td>\n",
       "      <td>0.0</td>\n",
       "    </tr>\n",
       "    <tr>\n",
       "      <th>9</th>\n",
       "      <td>0.005629</td>\n",
       "      <td>0.005629</td>\n",
       "      <td>0.005629</td>\n",
       "      <td>0.005629</td>\n",
       "      <td>0.005629</td>\n",
       "      <td>0.007911</td>\n",
       "      <td>0.006597</td>\n",
       "      <td>0.006597</td>\n",
       "      <td>0.006597</td>\n",
       "      <td>0.006597</td>\n",
       "      <td>...</td>\n",
       "      <td>0.038028</td>\n",
       "      <td>0.038028</td>\n",
       "      <td>0.038028</td>\n",
       "      <td>0.038028</td>\n",
       "      <td>0.037898</td>\n",
       "      <td>0.038028</td>\n",
       "      <td>0.038028</td>\n",
       "      <td>0.038028</td>\n",
       "      <td>0.038028</td>\n",
       "      <td>0.0</td>\n",
       "    </tr>\n",
       "  </tbody>\n",
       "</table>\n",
       "<p>10 rows × 21 columns</p>\n",
       "</div>"
      ],
      "text/plain": [
       "      f_3089    f_3090    f_3091    f_3092    f_3093    f_3095    f_3101  \\\n",
       "id                                                                         \n",
       "0   0.033822  0.036111  0.038495  0.041502  0.045578  0.036309  0.035924   \n",
       "1   0.033822  0.036111  0.038495  0.041502  0.045578  0.036309  0.035924   \n",
       "2   0.033822  0.036111  0.038495  0.041502  0.045578  0.036309  0.035924   \n",
       "3   0.033822  0.036111  0.038495  0.041502  0.074296  0.036309  0.035924   \n",
       "4   0.033822  0.036111  0.038495  0.041502  0.008881  0.036309  0.035924   \n",
       "5   0.008005  0.008005  0.008005  0.008005  0.008005  0.010918  0.009383   \n",
       "6   0.008005  0.008005  0.008005  0.008005  0.008005  0.010918  0.009383   \n",
       "7   0.033822  0.036111  0.038495  0.008005  0.008005  0.036309  0.035924   \n",
       "8   0.033822  0.036111  0.038495  0.041502  0.045578  0.036309  0.035924   \n",
       "9   0.005629  0.005629  0.005629  0.005629  0.005629  0.007911  0.006597   \n",
       "\n",
       "      f_3102    f_3103    f_3104  ...      f_3131    f_3132    f_3133  \\\n",
       "id                                ...                                   \n",
       "0   0.037133  0.037633  0.038228  ...    0.108820  0.116821  0.122753   \n",
       "1   0.037133  0.037633  0.038228  ...    0.108820  0.116821  0.122753   \n",
       "2   0.037133  0.037633  0.038228  ...    0.108820  0.116821  0.122753   \n",
       "3   0.037133  0.037633  0.038228  ...    0.108820  0.752241  0.752241   \n",
       "4   0.037133  0.037633  0.038228  ...    0.108820  0.116821  0.122753   \n",
       "5   0.009383  0.009383  0.009383  ...    0.012642  0.012642  0.012642   \n",
       "6   0.009383  0.009383  0.009383  ...    0.012642  0.012642  0.012642   \n",
       "7   0.037133  0.037633  0.009383  ...    0.108820  0.116821  0.122753   \n",
       "8   0.037133  0.037633  0.038228  ...    0.108820  0.116821  0.122753   \n",
       "9   0.006597  0.006597  0.006597  ...    0.038028  0.038028  0.038028   \n",
       "\n",
       "      f_3134    f_3135    f_3144    f_3145    f_3146    f_3147  label  \n",
       "id                                                                     \n",
       "0   0.131859  0.142388  0.104575  0.106525  0.105978  0.104833    0.0  \n",
       "1   0.131859  0.142388  0.104575  0.106525  0.105978  0.104833    0.0  \n",
       "2   0.131859  0.142388  0.104575  0.106525  0.105978  0.104833    0.0  \n",
       "3   0.752241  0.775474  0.752241  0.752241  0.752241  0.752241    1.0  \n",
       "4   0.131859  0.006274  0.104575  0.106525  0.105978  0.006296    0.0  \n",
       "5   0.012642  0.012599  0.012642  0.012642  0.012642  0.012642    0.0  \n",
       "6   0.012642  0.012599  0.012642  0.012642  0.012642  0.012642    0.0  \n",
       "7   0.012642  0.012599  0.104575  0.106525  0.012642  0.012642    0.0  \n",
       "8   0.131859  0.142388  0.104575  0.106525  0.105978  0.104833    0.0  \n",
       "9   0.038028  0.037898  0.038028  0.038028  0.038028  0.038028    0.0  \n",
       "\n",
       "[10 rows x 21 columns]"
      ]
     },
     "execution_count": 140,
     "metadata": {},
     "output_type": "execute_result"
    }
   ],
   "source": [
    "x_train_1.head(10)"
   ]
  },
  {
   "cell_type": "code",
   "execution_count": null,
   "metadata": {},
   "outputs": [],
   "source": [
    "from xgboost import plot_importance\n",
    "import matplotlib.pyplot as plt\n",
    "from graphviz import Digraph\n",
    "import pydot"
   ]
  },
  {
   "cell_type": "code",
   "execution_count": 138,
   "metadata": {},
   "outputs": [
    {
     "data": {
      "image/png": "[encoded data removed]",
      "text/plain": [
       "<Figure size 432x288 with 1 Axes>"
      ]
     },
     "metadata": {
      "needs_background": "light"
     },
     "output_type": "display_data"
    }
   ],
   "source": [
    "for i in x_train_1.columns:\n",
    "    sns.distplot(x_train_1[i])\n",
    "#根据频数分布直方图可以看出大部分特征的的数值分布不均匀，大部分特征的值分布在0和1附近"
   ]
  },
  {
   "cell_type": "code",
   "execution_count": 135,
   "metadata": {},
   "outputs": [
    {
     "data": {
      "text/plain": [
       "<matplotlib.axes._subplots.AxesSubplot at 0x1c013b01358>"
      ]
     },
     "execution_count": 135,
     "metadata": {},
     "output_type": "execute_result"
    },
    {
     "data": {
      "image/png": "[encoded data removed]",
      "text/plain": [
       "<Figure size 864x648 with 2 Axes>"
      ]
     },
     "metadata": {
      "needs_background": "light"
     },
     "output_type": "display_data"
    }
   ],
   "source": [
    "corrmat = x_train_1.corr()\n",
    "f, ax = plt.subplots(figsize=(12, 9))\n",
    "sns.heatmap(corrmat, vmax=.8, square=False)"
   ]
  },
  {
   "cell_type": "raw",
   "metadata": {},
   "source": [
    "根据热图可以看出f_3089,f_3090,f_3091,f_3092,f_3093特征和目标变量相关性较高"
   ]
  },
  {
   "cell_type": "markdown",
   "metadata": {},
   "source": [
    "### 任务4\n",
    "如果需要在产品中使用。你会推荐使用之前哪个算法得到的模型？解释为什么。"
   ]
  },
  {
   "cell_type": "raw",
   "metadata": {},
   "source": [
    "1.根据交叉验证的结果可以看出随机森林的模型表现出的效果比较好\n",
    "2、它能够处理很高维度（feature很多）的数据，并且不用做特征选择\n",
    "3、在训练完后，它能够给出哪些feature比较重要\n",
    "4、在创建随机森林的时候，对generlization error使用的是无偏估计，模型泛化能力强\n",
    "5、训练速度快，容易做成并行化方法(训练时树与树之间是相互独立的)\n",
    "6、 在训练过程中，能够检测到feature间的互相影响\n",
    "8、 对于不平衡的数据集来说，它可以平衡误差。"
   ]
  },
  {
   "cell_type": "markdown",
   "metadata": {},
   "source": [
    "### 任务5"
   ]
  },
  {
   "cell_type": "markdown",
   "metadata": {},
   "source": [
    "任务1～任务4体现了从得到建模数据，到完成建模实验的环节。\n",
    "\n",
    "然而，对于整个建模项目来说，以上环节只是一部分工作内容。请候选人根据自己的经验和理解，描述从接到业务部门的需求开始（假设是一个0，1分类的监督式机器学习任务），到监控模型在产品中的使用情况为止，有哪些重要的工作环节？在这些过程中，机器学习建模工程师和业务部门成员如何分工？如何合作？\n",
    "\n",
    "建议通过流程图配合必要的文字描述，表达自己的理解。\n"
   ]
  },
  {
   "cell_type": "raw",
   "metadata": {},
   "source": [
    "1. 数据建模过程涉及 数据的采集、数据清洗（缺失值处理，异常值处理，样本不平衡处理）、特征工程的构建、模型的选择、调整参数、模型测试以及到模型在产品中的应用等环节。\n",
    "\n",
    "2. 其中数据的好坏决定机器学习的上限，特征工程的构建和模型调优可以不断逼近这个上限。可见前期的数据的好坏和清洗直接决定了后面步骤的好坏\n",
    "所以在这些过程中每一步都很重要，业务部门之间要分工明（不同层次的人完成不同的建模环节）确同时也要熟悉各个部门之间的业务，各个部门之间要善于沟通及时反映出现的问题这样有利于工作进程的顺利进行。"
   ]
  },
  {
   "cell_type": "markdown",
   "metadata": {},
   "source": [
    "## 数据处理"
   ]
  },
  {
   "cell_type": "markdown",
   "metadata": {},
   "source": [
    "### 任务6"
   ]
  },
  {
   "cell_type": "markdown",
   "metadata": {},
   "source": [
    "history_df中存放了每个id，在不同time，对应的A, B的数值。"
   ]
  },
  {
   "cell_type": "code",
   "execution_count": 231,
   "metadata": {},
   "outputs": [
    {
     "data": {
      "text/html": [
       "<div>\n",
       "<style scoped>\n",
       "    .dataframe tbody tr th:only-of-type {\n",
       "        vertical-align: middle;\n",
       "    }\n",
       "\n",
       "    .dataframe tbody tr th {\n",
       "        vertical-align: top;\n",
       "    }\n",
       "\n",
       "    .dataframe thead th {\n",
       "        text-align: right;\n",
       "    }\n",
       "</style>\n",
       "<table border=\"1\" class=\"dataframe\">\n",
       "  <thead>\n",
       "    <tr style=\"text-align: right;\">\n",
       "      <th></th>\n",
       "      <th>id</th>\n",
       "      <th>time</th>\n",
       "      <th>A</th>\n",
       "      <th>B</th>\n",
       "    </tr>\n",
       "  </thead>\n",
       "  <tbody>\n",
       "    <tr>\n",
       "      <th>0</th>\n",
       "      <td>1</td>\n",
       "      <td>2019-01-26 08:52:00</td>\n",
       "      <td>3.797676</td>\n",
       "      <td>8.432960</td>\n",
       "    </tr>\n",
       "    <tr>\n",
       "      <th>1</th>\n",
       "      <td>1</td>\n",
       "      <td>2019-01-29 14:59:00</td>\n",
       "      <td>NaN</td>\n",
       "      <td>4.157219</td>\n",
       "    </tr>\n",
       "    <tr>\n",
       "      <th>2</th>\n",
       "      <td>1</td>\n",
       "      <td>2019-01-13 00:01:00</td>\n",
       "      <td>6.516694</td>\n",
       "      <td>4.922487</td>\n",
       "    </tr>\n",
       "    <tr>\n",
       "      <th>3</th>\n",
       "      <td>1</td>\n",
       "      <td>2019-02-01 00:27:00</td>\n",
       "      <td>2.627256</td>\n",
       "      <td>NaN</td>\n",
       "    </tr>\n",
       "    <tr>\n",
       "      <th>4</th>\n",
       "      <td>1</td>\n",
       "      <td>2019-03-26 00:32:00</td>\n",
       "      <td>8.939391</td>\n",
       "      <td>NaN</td>\n",
       "    </tr>\n",
       "    <tr>\n",
       "      <th>5</th>\n",
       "      <td>2</td>\n",
       "      <td>2019-01-01 00:14:00</td>\n",
       "      <td>NaN</td>\n",
       "      <td>6.449302</td>\n",
       "    </tr>\n",
       "    <tr>\n",
       "      <th>6</th>\n",
       "      <td>2</td>\n",
       "      <td>2019-01-26 00:52:00</td>\n",
       "      <td>3.629338</td>\n",
       "      <td>1.529292</td>\n",
       "    </tr>\n",
       "    <tr>\n",
       "      <th>7</th>\n",
       "      <td>2</td>\n",
       "      <td>2019-02-04 00:05:00</td>\n",
       "      <td>4.299086</td>\n",
       "      <td>NaN</td>\n",
       "    </tr>\n",
       "    <tr>\n",
       "      <th>8</th>\n",
       "      <td>2</td>\n",
       "      <td>2019-02-28 00:51:00</td>\n",
       "      <td>NaN</td>\n",
       "      <td>3.140770</td>\n",
       "    </tr>\n",
       "    <tr>\n",
       "      <th>9</th>\n",
       "      <td>2</td>\n",
       "      <td>2019-03-01 00:44:00</td>\n",
       "      <td>6.353059</td>\n",
       "      <td>5.926424</td>\n",
       "    </tr>\n",
       "  </tbody>\n",
       "</table>\n",
       "</div>"
      ],
      "text/plain": [
       "   id                time         A         B\n",
       "0   1 2019-01-26 08:52:00  3.797676  8.432960\n",
       "1   1 2019-01-29 14:59:00       NaN  4.157219\n",
       "2   1 2019-01-13 00:01:00  6.516694  4.922487\n",
       "3   1 2019-02-01 00:27:00  2.627256       NaN\n",
       "4   1 2019-03-26 00:32:00  8.939391       NaN\n",
       "5   2 2019-01-01 00:14:00       NaN  6.449302\n",
       "6   2 2019-01-26 00:52:00  3.629338  1.529292\n",
       "7   2 2019-02-04 00:05:00  4.299086       NaN\n",
       "8   2 2019-02-28 00:51:00       NaN  3.140770\n",
       "9   2 2019-03-01 00:44:00  6.353059  5.926424"
      ]
     },
     "execution_count": 231,
     "metadata": {},
     "output_type": "execute_result"
    }
   ],
   "source": [
    "history_data = pd.read_csv('history_data.csv', parse_dates=['time'])\n",
    "history_data"
   ]
  },
  {
   "cell_type": "markdown",
   "metadata": {},
   "source": [
    "sample_df存放了一些id和obs_time的组合。"
   ]
  },
  {
   "cell_type": "code",
   "execution_count": 232,
   "metadata": {},
   "outputs": [
    {
     "data": {
      "text/html": [
       "<div>\n",
       "<style scoped>\n",
       "    .dataframe tbody tr th:only-of-type {\n",
       "        vertical-align: middle;\n",
       "    }\n",
       "\n",
       "    .dataframe tbody tr th {\n",
       "        vertical-align: top;\n",
       "    }\n",
       "\n",
       "    .dataframe thead th {\n",
       "        text-align: right;\n",
       "    }\n",
       "</style>\n",
       "<table border=\"1\" class=\"dataframe\">\n",
       "  <thead>\n",
       "    <tr style=\"text-align: right;\">\n",
       "      <th></th>\n",
       "      <th>id</th>\n",
       "      <th>obs_time</th>\n",
       "    </tr>\n",
       "  </thead>\n",
       "  <tbody>\n",
       "    <tr>\n",
       "      <th>0</th>\n",
       "      <td>1</td>\n",
       "      <td>2019/3/7 0:00</td>\n",
       "    </tr>\n",
       "    <tr>\n",
       "      <th>1</th>\n",
       "      <td>1</td>\n",
       "      <td>2019/2/1 0:00</td>\n",
       "    </tr>\n",
       "    <tr>\n",
       "      <th>2</th>\n",
       "      <td>2</td>\n",
       "      <td>2019/3/15 0:00</td>\n",
       "    </tr>\n",
       "    <tr>\n",
       "      <th>3</th>\n",
       "      <td>2</td>\n",
       "      <td>2019/2/1 0:00</td>\n",
       "    </tr>\n",
       "  </tbody>\n",
       "</table>\n",
       "</div>"
      ],
      "text/plain": [
       "   id        obs_time\n",
       "0   1   2019/3/7 0:00\n",
       "1   1   2019/2/1 0:00\n",
       "2   2  2019/3/15 0:00\n",
       "3   2   2019/2/1 0:00"
      ]
     },
     "execution_count": 232,
     "metadata": {},
     "output_type": "execute_result"
    }
   ],
   "source": [
    "sample_df = pd.read_csv('sample.csv')\n",
    "sample_df"
   ]
  },
  {
   "cell_type": "code",
   "execution_count": 233,
   "metadata": {},
   "outputs": [
    {
     "data": {
      "text/plain": [
       "(10, 4)"
      ]
     },
     "execution_count": 233,
     "metadata": {},
     "output_type": "execute_result"
    }
   ],
   "source": [
    "len(history_data),len(sample_df)"
   ]
  },
  {
   "cell_type": "markdown",
   "metadata": {},
   "source": [
    "对sample_df中每个id和obs_time的组合，计算离obs_time过去10, 60天内， 该id对应的A, B的最大值, 非空记录数量。将结果存在不同的列中。\n",
    "\n",
    "例如:\n"
   ]
  },
  {
   "cell_type": "markdown",
   "metadata": {},
   "source": [
    "最终的结果包含的列:\n",
    "* id\n",
    "* obs_time\n",
    "* 10天内A平均值\n",
    "* 10天内A非空样本数量\n",
    "* 60天内A平均值\n",
    "* 60天内A非空样本数量\n",
    "* 10天内B平均值\n",
    "* 10天内B非空样本数量\n",
    "* 60天内B平均值\n",
    "* 60天内B非空样本数量\n",
    "\n",
    "将计算结果存为excel保存"
   ]
  },
  {
   "cell_type": "code",
   "execution_count": 234,
   "metadata": {},
   "outputs": [],
   "source": [
    "# 开发相应的代码"
   ]
  },
  {
   "cell_type": "code",
   "execution_count": 235,
   "metadata": {},
   "outputs": [],
   "source": [
    "history_data['time'] = pd.to_datetime(history_data.time) \n",
    "sample_df['obs_time']=pd.to_datetime(sample_df.obs_time,errors='coerce')"
   ]
  },
  {
   "cell_type": "code",
   "execution_count": 236,
   "metadata": {},
   "outputs": [],
   "source": [
    "history_data1=history_data.dropna()"
   ]
  },
  {
   "cell_type": "code",
   "execution_count": 237,
   "metadata": {},
   "outputs": [
    {
     "data": {
      "text/html": [
       "<div>\n",
       "<style scoped>\n",
       "    .dataframe tbody tr th:only-of-type {\n",
       "        vertical-align: middle;\n",
       "    }\n",
       "\n",
       "    .dataframe tbody tr th {\n",
       "        vertical-align: top;\n",
       "    }\n",
       "\n",
       "    .dataframe thead th {\n",
       "        text-align: right;\n",
       "    }\n",
       "</style>\n",
       "<table border=\"1\" class=\"dataframe\">\n",
       "  <thead>\n",
       "    <tr style=\"text-align: right;\">\n",
       "      <th></th>\n",
       "      <th>id</th>\n",
       "      <th>time</th>\n",
       "      <th>A</th>\n",
       "      <th>B</th>\n",
       "    </tr>\n",
       "  </thead>\n",
       "  <tbody>\n",
       "    <tr>\n",
       "      <th>0</th>\n",
       "      <td>1</td>\n",
       "      <td>2019-01-26 08:52:00</td>\n",
       "      <td>3.797676</td>\n",
       "      <td>8.432960</td>\n",
       "    </tr>\n",
       "    <tr>\n",
       "      <th>2</th>\n",
       "      <td>1</td>\n",
       "      <td>2019-01-13 00:01:00</td>\n",
       "      <td>6.516694</td>\n",
       "      <td>4.922487</td>\n",
       "    </tr>\n",
       "    <tr>\n",
       "      <th>6</th>\n",
       "      <td>2</td>\n",
       "      <td>2019-01-26 00:52:00</td>\n",
       "      <td>3.629338</td>\n",
       "      <td>1.529292</td>\n",
       "    </tr>\n",
       "    <tr>\n",
       "      <th>9</th>\n",
       "      <td>2</td>\n",
       "      <td>2019-03-01 00:44:00</td>\n",
       "      <td>6.353059</td>\n",
       "      <td>5.926424</td>\n",
       "    </tr>\n",
       "  </tbody>\n",
       "</table>\n",
       "</div>"
      ],
      "text/plain": [
       "   id                time         A         B\n",
       "0   1 2019-01-26 08:52:00  3.797676  8.432960\n",
       "2   1 2019-01-13 00:01:00  6.516694  4.922487\n",
       "6   2 2019-01-26 00:52:00  3.629338  1.529292\n",
       "9   2 2019-03-01 00:44:00  6.353059  5.926424"
      ]
     },
     "execution_count": 237,
     "metadata": {},
     "output_type": "execute_result"
    }
   ],
   "source": [
    "history_data1"
   ]
  },
  {
   "cell_type": "code",
   "execution_count": 238,
   "metadata": {},
   "outputs": [
    {
     "data": {
      "text/html": [
       "<div>\n",
       "<style scoped>\n",
       "    .dataframe tbody tr th:only-of-type {\n",
       "        vertical-align: middle;\n",
       "    }\n",
       "\n",
       "    .dataframe tbody tr th {\n",
       "        vertical-align: top;\n",
       "    }\n",
       "\n",
       "    .dataframe thead th {\n",
       "        text-align: right;\n",
       "    }\n",
       "</style>\n",
       "<table border=\"1\" class=\"dataframe\">\n",
       "  <thead>\n",
       "    <tr style=\"text-align: right;\">\n",
       "      <th></th>\n",
       "      <th>id</th>\n",
       "      <th>obs_time</th>\n",
       "    </tr>\n",
       "  </thead>\n",
       "  <tbody>\n",
       "    <tr>\n",
       "      <th>0</th>\n",
       "      <td>1</td>\n",
       "      <td>2019-03-07</td>\n",
       "    </tr>\n",
       "    <tr>\n",
       "      <th>1</th>\n",
       "      <td>1</td>\n",
       "      <td>2019-02-01</td>\n",
       "    </tr>\n",
       "    <tr>\n",
       "      <th>2</th>\n",
       "      <td>2</td>\n",
       "      <td>2019-03-15</td>\n",
       "    </tr>\n",
       "    <tr>\n",
       "      <th>3</th>\n",
       "      <td>2</td>\n",
       "      <td>2019-02-01</td>\n",
       "    </tr>\n",
       "  </tbody>\n",
       "</table>\n",
       "</div>"
      ],
      "text/plain": [
       "   id   obs_time\n",
       "0   1 2019-03-07\n",
       "1   1 2019-02-01\n",
       "2   2 2019-03-15\n",
       "3   2 2019-02-01"
      ]
     },
     "execution_count": 238,
     "metadata": {},
     "output_type": "execute_result"
    }
   ],
   "source": [
    "sample_df"
   ]
  },
  {
   "cell_type": "code",
   "execution_count": 239,
   "metadata": {},
   "outputs": [
    {
     "data": {
      "text/plain": [
       "0   -40 days +08:52:00\n",
       "1                  NaT\n",
       "2   -61 days +00:01:00\n",
       "3                  NaT\n",
       "6                  NaT\n",
       "9                  NaT\n",
       "dtype: timedelta64[ns]"
      ]
     },
     "execution_count": 239,
     "metadata": {},
     "output_type": "execute_result"
    }
   ],
   "source": [
    "history_data1['time']-sample_df['obs_time']"
   ]
  },
  {
   "cell_type": "code",
   "execution_count": null,
   "metadata": {},
   "outputs": [],
   "source": []
  },
  {
   "cell_type": "code",
   "execution_count": null,
   "metadata": {},
   "outputs": [],
   "source": []
  }
 ],
 "metadata": {
  "kernelspec": {
   "display_name": "Python 3",
   "language": "python",
   "name": "python3"
  },
  "language_info": {
   "codemirror_mode": {
    "name": "ipython",
    "version": 3
   },
   "file_extension": ".py",
   "mimetype": "text/x-python",
   "name": "python",
   "nbconvert_exporter": "python",
   "pygments_lexer": "ipython3",
   "version": "3.7.1"
  },
  "latex_envs": {
   "LaTeX_envs_menu_present": true,
   "autoclose": false,
   "autocomplete": true,
   "bibliofile": "biblio.bib",
   "cite_by": "apalike",
   "current_citInitial": 1,
   "eqLabelWithNumbers": true,
   "eqNumInitial": 1,
   "hotkeys": {
    "equation": "Ctrl-E",
    "itemize": "Ctrl-I"
   },
   "labels_anchors": false,
   "latex_user_defs": false,
   "report_style_numbering": false,
   "user_envs_cfg": false
  },
  "toc": {
   "base_numbering": 1,
   "nav_menu": {},
   "number_sections": true,
   "sideBar": true,
   "skip_h1_title": false,
   "title_cell": "Table of Contents",
   "title_sidebar": "Contents",
   "toc_cell": false,
   "toc_position": {},
   "toc_section_display": true,
   "toc_window_display": false
  }
 },
 "nbformat": 4,
 "nbformat_minor": 2
}
