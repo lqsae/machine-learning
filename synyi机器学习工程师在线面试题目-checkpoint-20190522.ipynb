{
 "cells": [
  {
   "cell_type": "code",
   "execution_count": 2,
   "metadata": {},
   "outputs": [],
   "source": [
    "import pandas as pd\n",
    "import matplotlib.pyplot as plt\n",
    "import seaborn as sns\n",
    "import warnings\n",
    "from sklearn.feature_selection import SelectKBest\n",
    "from sklearn.feature_selection import chi2\n",
    "from sklearn.model_selection import KFold\n",
    "from sklearn.model_selection import train_test_split\n",
    "import xgboost as xgb\n",
    "from sklearn.model_selection import KFold, train_test_split, GridSearchCV\n",
    "from sklearn.metrics import confusion_matrix, roc_auc_score \n",
    "from sklearn.linear_model import LogisticRegression\n",
    "from sklearn.ensemble import RandomForestClassifier\n",
    "warnings.filterwarnings('ignore')\n",
    "from xgboost import XGBClassifier"
   ]
  },
  {
   "cell_type": "markdown",
   "metadata": {},
   "source": [
    "首先恭喜各位，通过第一轮的简历筛选，进入线上测试环节。\n",
    "\n",
    "通过这次线上测试，希望大家能够在限定的时间内，尽自己最大努力，完成一些数据处理和数据建模任务，展现自己对机器学习建模工作的熟悉程度。\n",
    "\n",
    "## 任务说明\n",
    "请在这个jupyter notebook中\n",
    "* 补充完成任务所需要的python代码。可以直接在code cell中编写代码；或者将代码写在.py文件中后在这个notebook中import使用\n",
    "* 利用markdown cell回答相关的问题或者解释分析思路\n",
    "\n",
    "完成后，在github上建立一个repo。将这个notebook，相关的.py文件，保存处理结果的excel文件等，push到建立的repo。将repo链接提交给面试官。\n",
    "\n",
    "## 截止时间\n",
    "任务的截止提交时间为:\n",
    "\n",
    "**2019-05-21 10:00:00 a.m**\n",
    "\n",
    "## 注意事项：\n",
    "1. 使用python3.6以上版本，如果使用```pandas```等python库，请先升级到最新版本。\n",
    "2. 请确保面试官在clone各位发布的repo后，能够跑通这个notebook中的代码。\n",
    "3. 除了实现任务所需的功能，编写的代码具有高可维护性，也是我们非常希望候选人具备的能力。（可参考Refactoring by Kent Beck and Martin Fowler一书中关于\"bad code smell\"的讨论）\n",
    "4. 这个测试的目的是检验候选人是否具备高效的完成建模相关工作的能力，不鼓励重复造轮子。建议充分利用```pandas```, ```sklearn```等已有python库完成任务。\n",
    "5. 请展现自己真实的能力，不要请人代劳。如果候选人试用期阶段表现的实际工作能力明显低于线上测试表现的能力，候选人会被认为采用非诚信手段通过线上测试，将予以坚决辞退。\n",
    "6. 职场中，Deadline是非常严肃的。无论完成度如何，请务必在截止时间前，提交自己的结果。逾期提交将不予受理。"
   ]
  },
  {
   "cell_type": "markdown",
   "metadata": {},
   "source": [
    "## 机器学习建模（任务1～任务4）\n",
    "以下任务基于虚拟的建模数据dataset.csv\n",
    "\n",
    "建模数据集构成\n",
    "* id：样本的编号\n",
    "* dataset：划分了哪些数据用于train, 那些用于test\n",
    "* label:  0或者1, 只有train数据才给出了label\n",
    "* 其实字母f开头的列为建模特征"
   ]
  },
  {
   "cell_type": "markdown",
   "metadata": {},
   "source": [
    "# 数据清洗"
   ]
  },
  {
   "cell_type": "code",
   "execution_count": 2,
   "metadata": {},
   "outputs": [],
   "source": [
    "import pandas as pd\n",
    "model_data = pd.read_csv('model_data.csv')"
   ]
  },
  {
   "cell_type": "markdown",
   "metadata": {},
   "source": [
    "### 任务1\n",
    "对dataset中的建模数据进行分析，描述这个数据集的特点。\n",
    "\n",
    "例如\n",
    "* 样本量，特征量\n",
    "* 建模特征缺失率的分布\n",
    "\n",
    "候选人请追加其他认为有必要进行的分析，并配合数据可视化手段，支持自己的结论。\n",
    " "
   ]
  },
  {
   "cell_type": "code",
   "execution_count": 3,
   "metadata": {},
   "outputs": [
    {
     "data": {
      "text/plain": [
       "(3793, 3277)"
      ]
     },
     "execution_count": 3,
     "metadata": {},
     "output_type": "execute_result"
    }
   ],
   "source": [
    "model_data.shape"
   ]
  },
  {
   "cell_type": "code",
   "execution_count": 4,
   "metadata": {},
   "outputs": [
    {
     "data": {
      "text/plain": [
       "dataset    3793\n",
       "id         3793\n",
       "f_0209     3793\n",
       "f_0208     3790\n",
       "f_0217     3777\n",
       "f_0216     3773\n",
       "f_0257     3580\n",
       "f_0256     3531\n",
       "f_0211     3515\n",
       "f_0215     3515\n",
       "f_2928     3454\n",
       "f_2796     3454\n",
       "f_2754     3454\n",
       "f_2760     3454\n",
       "f_0998     3454\n",
       "f_2910     3454\n",
       "f_1808     3454\n",
       "f_2916     3454\n",
       "f_1796     3454\n",
       "f_1022     3454\n",
       "f_2778     3454\n",
       "f_1814     3454\n",
       "f_2784     3454\n",
       "f_2790     3454\n",
       "f_1820     3454\n",
       "f_0326     3454\n",
       "f_1802     3454\n",
       "f_1004     3454\n",
       "f_2904     3454\n",
       "f_1760     3454\n",
       "           ... \n",
       "f_1739        0\n",
       "f_1740        0\n",
       "f_1741        0\n",
       "f_1742        0\n",
       "f_1743        0\n",
       "f_1744        0\n",
       "f_1745        0\n",
       "f_1746        0\n",
       "f_1747        0\n",
       "f_1748        0\n",
       "f_1875        0\n",
       "f_1876        0\n",
       "f_1877        0\n",
       "f_1878        0\n",
       "f_1879        0\n",
       "f_1880        0\n",
       "f_1881        0\n",
       "f_1882        0\n",
       "f_1883        0\n",
       "f_1884        0\n",
       "f_1885        0\n",
       "f_1886        0\n",
       "f_1887        0\n",
       "f_1888        0\n",
       "f_1889        0\n",
       "f_1890        0\n",
       "f_1891        0\n",
       "f_1892        0\n",
       "f_1893        0\n",
       "f_0000        0\n",
       "Length: 3277, dtype: int64"
      ]
     },
     "execution_count": 4,
     "metadata": {},
     "output_type": "execute_result"
    }
   ],
   "source": [
    "model_data.notnull().sum().sort_values(ascending=False)\n",
    "#存在很多缺失值"
   ]
  },
  {
   "cell_type": "code",
   "execution_count": 5,
   "metadata": {},
   "outputs": [],
   "source": [
    "#划分数据集\n",
    "df_train=model_data[model_data[\"dataset\"]==\"train\"]\n",
    "df_train=df_train.reindex(df_train['id'])\n",
    "df_test=model_data[model_data[\"dataset\"]==\"test\"]\n",
    "df_test=df_test.reindex(df_test['id'])"
   ]
  },
  {
   "cell_type": "code",
   "execution_count": 6,
   "metadata": {},
   "outputs": [
    {
     "data": {
      "text/plain": [
       "((3000, 3277), (793, 3277))"
      ]
     },
     "execution_count": 6,
     "metadata": {},
     "output_type": "execute_result"
    }
   ],
   "source": [
    "df_train.shape,df_test.shape"
   ]
  },
  {
   "cell_type": "code",
   "execution_count": 7,
   "metadata": {},
   "outputs": [],
   "source": [
    "#大部分数据缺失，删除数据缺失值较多的特征\n",
    "c=[]\n",
    "for i in df_train.columns:\n",
    "    if ((df_train[i].notnull().sum()))/df_train.shape[1]>=0.5:\n",
    "        c.append(i)\n",
    "df_train_1=df_train[c]"
   ]
  },
  {
   "cell_type": "code",
   "execution_count": 8,
   "metadata": {},
   "outputs": [],
   "source": [
    "#对训练数据进行缺失值处理\n",
    "#用平均值填充\n",
    "x_train=df_train_1.iloc[:,:-3]\n",
    "y_train=df_train_1['label']\n",
    "x_train=x_train.fillna(x_train.mean())"
   ]
  },
  {
   "cell_type": "code",
   "execution_count": 9,
   "metadata": {},
   "outputs": [],
   "source": [
    "#对测试数据进行缺失值处理\n",
    "x_test=df_test[df_train_1.columns].iloc[:,:-3]\n",
    "x_test=x_test.fillna(x_train.mean())"
   ]
  },
  {
   "cell_type": "code",
   "execution_count": 10,
   "metadata": {},
   "outputs": [
    {
     "data": {
      "text/plain": [
       "((3000, 590), (793, 590))"
      ]
     },
     "execution_count": 10,
     "metadata": {},
     "output_type": "execute_result"
    }
   ],
   "source": [
    "x_train.shape,x_test.shape"
   ]
  },
  {
   "cell_type": "code",
   "execution_count": 11,
   "metadata": {},
   "outputs": [
    {
     "data": {
      "text/plain": [
       "0.0    2684\n",
       "1.0     316\n",
       "Name: label, dtype: int64"
      ]
     },
     "execution_count": 11,
     "metadata": {},
     "output_type": "execute_result"
    }
   ],
   "source": [
    "#目标变量分布情况\n",
    "df_train.label.value_counts()"
   ]
  },
  {
   "cell_type": "code",
   "execution_count": 12,
   "metadata": {},
   "outputs": [
    {
     "data": {
      "text/plain": [
       "<BarContainer object of 2 artists>"
      ]
     },
     "execution_count": 12,
     "metadata": {},
     "output_type": "execute_result"
    },
    {
     "data": {
      "image/png": "[encoded data removed]",
      "text/plain": [
       "<Figure size 432x288 with 1 Axes>"
      ]
     },
     "metadata": {
      "needs_background": "light"
     },
     "output_type": "display_data"
    }
   ],
   "source": [
    "plt.bar(x=('0','1'),height=(2684,316))"
   ]
  },
  {
   "cell_type": "markdown",
   "metadata": {},
   "source": [
    "# 特征选择和建模"
   ]
  },
  {
   "cell_type": "code",
   "execution_count": 16,
   "metadata": {},
   "outputs": [],
   "source": [
    "X=x_train.values\n",
    "Y=y_train.values"
   ]
  },
  {
   "cell_type": "code",
   "execution_count": 70,
   "metadata": {},
   "outputs": [],
   "source": [
    "X_train, X_test, Y_train, Y_test = train_test_split(X, Y, test_size = 0.2, random_state = 0)"
   ]
  },
  {
   "cell_type": "code",
   "execution_count": 71,
   "metadata": {},
   "outputs": [
    {
     "data": {
      "text/plain": [
       "((2400, 590), (600, 590))"
      ]
     },
     "execution_count": 71,
     "metadata": {},
     "output_type": "execute_result"
    }
   ],
   "source": [
    "X_train.shape,X_test.shape"
   ]
  },
  {
   "cell_type": "markdown",
   "metadata": {},
   "source": [
    "### 任务2\n",
    "\n",
    "请根据train数据，使用3种指定的机器学习算法（都可以在sklearn中找到）分别训练模型。这3种算法是\n",
    "* xgboost\n",
    "* logistic regression\n",
    "* random forest\n",
    "\n",
    "要求:\n",
    "* 预测目标为label列\n",
    "* 模型优化的目标为auc_roc\n",
    "* 需要对特征进行筛选。每种算法训练的模型，最后使用的特征控制在20个以内。\n",
    "* 每种算法得到的模型，将模型在test数据集的预测结果(0~1之间的一个分值)保存在csv文件中。面试官会计算候选人模型在test数据集的auc_roc"
   ]
  },
  {
   "cell_type": "markdown",
   "metadata": {},
   "source": [
    "# 随机森林模型"
   ]
  },
  {
   "cell_type": "code",
   "execution_count": 97,
   "metadata": {},
   "outputs": [
    {
     "data": {
      "text/plain": [
       "(0.9091666666666667, 0.8560747928725457)"
      ]
     },
     "execution_count": 97,
     "metadata": {},
     "output_type": "execute_result"
    }
   ],
   "source": [
    "rf0= RandomForestClassifier(oob_score=True, random_state=10)\n",
    "rf0.fit(X_train,Y_train)\n",
    "y_predprob = rf0.predict_proba(X_test)[:,1]\n",
    "rf0.oob_score_,roc_auc_score(Y_test,y_predprob)"
   ]
  },
  {
   "cell_type": "code",
   "execution_count": 87,
   "metadata": {},
   "outputs": [
    {
     "data": {
      "text/plain": [
       "({'n_estimators': 90}, 0.8796837209302326)"
      ]
     },
     "execution_count": 87,
     "metadata": {},
     "output_type": "execute_result"
    }
   ],
   "source": [
    "param_test1 = {'n_estimators':range(10,100,10)}\n",
    "gsearch1 = GridSearchCV(estimator = RandomForestClassifier(min_samples_split=100,\n",
    "                                  min_samples_leaf=20,max_depth=8,max_features='sqrt' ,random_state=10), \n",
    "                       param_grid = param_test1, scoring='roc_auc',cv=5)\n",
    "gsearch1.fit(X_train,Y_train)\n",
    "gsearch1.best_params_, gsearch1.best_score_"
   ]
  },
  {
   "cell_type": "code",
   "execution_count": 88,
   "metadata": {},
   "outputs": [
    {
     "data": {
      "text/plain": [
       "({'max_depth': 13, 'min_samples_split': 50}, 0.8907255813953487)"
      ]
     },
     "execution_count": 88,
     "metadata": {},
     "output_type": "execute_result"
    }
   ],
   "source": [
    "param_test2 = {'max_depth':range(3,15,2), 'min_samples_split':range(50,201,20)}\n",
    "gsearch2 = GridSearchCV(estimator = RandomForestClassifier(n_estimators= 90, \n",
    "                                  min_samples_leaf=20,max_features='sqrt' ,oob_score=True, random_state=10),\n",
    "   param_grid = param_test2, scoring='roc_auc',iid=False, cv=5)\n",
    "gsearch2.fit(X_train,Y_train)\n",
    "gsearch2.best_params_, gsearch2.best_score_"
   ]
  },
  {
   "cell_type": "code",
   "execution_count": 101,
   "metadata": {},
   "outputs": [
    {
     "data": {
      "text/plain": [
       "(0.9041666666666667, 0.8812563840653728)"
      ]
     },
     "execution_count": 101,
     "metadata": {},
     "output_type": "execute_result"
    }
   ],
   "source": [
    "rf1 = RandomForestClassifier(n_estimators= 90, max_depth=13, min_samples_split=50,\n",
    "                                  min_samples_leaf=20,max_features='sqrt' ,oob_score=True, random_state=10)\n",
    "rf1.fit(X_train,Y_train)\n",
    "y_predprob = rf1.predict_proba(X_test)[:,1]\n",
    "rf1.oob_score_,roc_auc_score(Y_test,y_predprob)"
   ]
  },
  {
   "cell_type": "code",
   "execution_count": 103,
   "metadata": {},
   "outputs": [
    {
     "data": {
      "text/plain": [
       "({'min_samples_leaf': 10, 'min_samples_split': 80}, 0.8858139534883721)"
      ]
     },
     "execution_count": 103,
     "metadata": {},
     "output_type": "execute_result"
    }
   ],
   "source": [
    "param_test3 = {'min_samples_split':range(80,150,20), 'min_samples_leaf':range(10,60,10)}\n",
    "gsearch3 = GridSearchCV(estimator = RandomForestClassifier(n_estimators= 90, max_depth=13,\n",
    "                                  max_features='sqrt' ,oob_score=True, random_state=10),\n",
    "   param_grid = param_test3, scoring='roc_auc',iid=False, cv=5)\n",
    "gsearch3.fit(X_train,Y_train)\n",
    "gsearch3.best_params_, gsearch3.best_score_"
   ]
  },
  {
   "cell_type": "code",
   "execution_count": 135,
   "metadata": {},
   "outputs": [
    {
     "data": {
      "text/plain": [
       "({'max_features': 16}, 0.891553488372093)"
      ]
     },
     "execution_count": 135,
     "metadata": {},
     "output_type": "execute_result"
    }
   ],
   "source": [
    "param_test4 = {'max_features':range(10,20,2)}\n",
    "gsearch4 = GridSearchCV(estimator = RandomForestClassifier(n_estimators= 90, max_depth=13, min_samples_split=50,\n",
    "                                  min_samples_leaf=20 ,oob_score=True, random_state=10),\n",
    "   param_grid = param_test4, scoring='roc_auc',iid=False, cv=5)\n",
    "gsearch4.fit(X_train,Y_train)\n",
    "gsearch4.best_params_, gsearch4.best_score_"
   ]
  },
  {
   "cell_type": "code",
   "execution_count": 140,
   "metadata": {},
   "outputs": [
    {
     "data": {
      "text/plain": [
       "(0.9029166666666667, 0.8853138122801043)"
      ]
     },
     "execution_count": 140,
     "metadata": {},
     "output_type": "execute_result"
    }
   ],
   "source": [
    "rf2 = RandomForestClassifier(n_estimators= 90, max_depth=13, min_samples_split=50,\n",
    "                                  min_samples_leaf=20,max_features=21,oob_score=True, random_state=10)\n",
    "rf2.fit(X_train,Y_train)\n",
    "y_predprob = rf2.predict_proba(X_test)[:,1]\n",
    "rf2.oob_score_,roc_auc_score(Y_test,y_predprob)"
   ]
  },
  {
   "cell_type": "code",
   "execution_count": 148,
   "metadata": {},
   "outputs": [],
   "source": [
    "X_test_new=x_test.values"
   ]
  },
  {
   "cell_type": "code",
   "execution_count": 149,
   "metadata": {},
   "outputs": [],
   "source": [
    "rf3=rf2 = RandomForestClassifier(n_estimators= 90, max_depth=13, min_samples_split=50,\n",
    "                                  min_samples_leaf=20,max_features=21,oob_score=True, random_state=10)\n",
    "rf3.fit(X,Y)\n",
    "y_pred1=rf3.predict(X_test_new)"
   ]
  },
  {
   "cell_type": "code",
   "execution_count": null,
   "metadata": {},
   "outputs": [],
   "source": [
    "X=x_train.values\n",
    "Y=y_train.values"
   ]
  },
  {
   "cell_type": "code",
   "execution_count": 187,
   "metadata": {},
   "outputs": [],
   "source": [
    "dtrain=df_train_1.drop(columns=['id','dataset'])\n",
    "target='label'"
   ]
  },
  {
   "cell_type": "markdown",
   "metadata": {},
   "source": [
    "# XGBoost模型"
   ]
  },
  {
   "cell_type": "code",
   "execution_count": 217,
   "metadata": {},
   "outputs": [
    {
     "data": {
      "text/plain": [
       "({'max_depth': 5, 'min_child_weight': 1}, 0.9359348837209301)"
      ]
     },
     "execution_count": 217,
     "metadata": {},
     "output_type": "execute_result"
    }
   ],
   "source": [
    "#调参\n",
    "param_test1 = {\n",
    " 'max_depth':range(3,10,2),\n",
    " 'min_child_weight':range(1,6,2)\n",
    "}\n",
    "gs1 = GridSearchCV(estimator = XGBClassifier( learning_rate =0.1, n_estimators=140, max_depth=5,\n",
    "min_child_weight=1, gamma=0, subsample=0.8,             colsample_bytree=0.8,\n",
    " objective= 'binary:logistic', nthread=4,     scale_pos_weight=1, seed=27), \n",
    " param_grid = param_test1,     scoring='roc_auc',n_jobs=4,iid=False, cv=5)\n",
    "gs1.fit(X,Y)\n",
    "gs1.best_params_,gs1.best_score_"
   ]
  },
  {
   "cell_type": "code",
   "execution_count": 220,
   "metadata": {},
   "outputs": [
    {
     "data": {
      "text/plain": [
       "({'max_depth': 7, 'min_child_weight': 3}, 0.8944740444933267)"
      ]
     },
     "execution_count": 220,
     "metadata": {},
     "output_type": "execute_result"
    }
   ],
   "source": [
    "#搜索参数max_depth，min_child_weight\n",
    "param_test1 = {\n",
    " 'max_depth':range(3,10,2),\n",
    " 'min_child_weight':range(1,6,2)\n",
    "}\n",
    "gs1 = GridSearchCV(estimator = XGBClassifier( learning_rate =0.1, n_estimators=140, max_depth=5,\n",
    "min_child_weight=1, gamma=0, subsample=0.8,             colsample_bytree=0.8,\n",
    " objective= 'binary:logistic', nthread=4,     scale_pos_weight=1, seed=27), \n",
    " param_grid = param_test1,     scoring='roc_auc',n_jobs=4,iid=False, cv=5)\n",
    "gs1.fit(X,Y)\n",
    "gs1.best_params_,gs1.best_score_"
   ]
  },
  {
   "cell_type": "raw",
   "metadata": {},
   "source": [
    "param_test2 = { 'max_depth':[6,7,8], 'min_child_weight':[2,3,4]}\n",
    "gs2= GridSearchCV(estimator = XGBClassifier( learning_rate =0.1, n_estimators=140, max_depth=5,\n",
    "min_child_weight=1, gamma=0, subsample=0.8,             colsample_bytree=0.8,\n",
    " objective= 'binary:logistic', nthread=4,     scale_pos_weight=1, seed=27), \n",
    " param_grid = param_test2,     scoring='roc_auc',n_jobs=4,iid=False, cv=5)\n",
    "gs2.fit(X,Y)"
   ]
  },
  {
   "cell_type": "code",
   "execution_count": 225,
   "metadata": {},
   "outputs": [
    {
     "data": {
      "text/plain": [
       "({'max_depth': 7, 'min_child_weight': 3}, 0.8944740444933267)"
      ]
     },
     "execution_count": 225,
     "metadata": {},
     "output_type": "execute_result"
    }
   ],
   "source": [
    "gs2.best_params_,gs2.best_score_"
   ]
  },
  {
   "cell_type": "code",
   "execution_count": 240,
   "metadata": {},
   "outputs": [
    {
     "data": {
      "text/plain": [
       "0.904636250141868"
      ]
     },
     "execution_count": 240,
     "metadata": {},
     "output_type": "execute_result"
    }
   ],
   "source": [
    "model_1= XGBClassifier(\n",
    " learning_rate =0.01,\n",
    " n_estimators=5000,\n",
    " max_depth=7,\n",
    " min_child_weight=3,\n",
    " gamma=0,\n",
    " subsample=0.8,\n",
    " colsample_bytree=0.8,\n",
    " reg_alpha=0.005,\n",
    " objective= 'binary:logistic',\n",
    " nthread=4,\n",
    " scale_pos_weight=1,\n",
    " seed=27)\n",
    "model_1.fit(X_train,Y_train)\n",
    "y_predprob = model_1.predict_proba(X_test)[:,1]\n",
    "roc_auc_score(Y_test,y_predprob)"
   ]
  },
  {
   "cell_type": "code",
   "execution_count": 228,
   "metadata": {},
   "outputs": [
    {
     "data": {
      "text/plain": [
       "({'gamma': 0.0}, 0.8748122085766962)"
      ]
     },
     "execution_count": 228,
     "metadata": {},
     "output_type": "execute_result"
    }
   ],
   "source": [
    "#gamma参数调优\n",
    "param_test3 = {\n",
    " 'gamma':[i/10.0 for i in range(0,5)]\n",
    "}\n",
    "gs3=GridSearchCV(estimator = XGBClassifier( learning_rate =0.1, n_estimators=140, max_depth=7,\n",
    "min_child_weight=3, gamma=0, subsample=0.8, colsample_bytree=0.8,\n",
    "objective= 'binary:logistic', nthread=4, scale_pos_weight=1,seed=27), \n",
    "param_grid = param_test3, scoring='roc_auc',n_jobs=4,iid=False, cv=5)\n",
    "gs3.fit(X,Y)\n"
   ]
  },
  {
   "cell_type": "code",
   "execution_count": 230,
   "metadata": {},
   "outputs": [
    {
     "data": {
      "text/plain": [
       "({'gamma': 0.0}, 0.8944740444933267)"
      ]
     },
     "execution_count": 230,
     "metadata": {},
     "output_type": "execute_result"
    }
   ],
   "source": [
    "gs3.best_params_, gs3.best_score_"
   ]
  },
  {
   "cell_type": "code",
   "execution_count": 235,
   "metadata": {},
   "outputs": [
    {
     "data": {
      "text/plain": [
       "({'colsample_bytree': 0.8, 'subsample': 0.8}, 0.8944740444933267)"
      ]
     },
     "execution_count": 235,
     "metadata": {},
     "output_type": "execute_result"
    }
   ],
   "source": [
    "#调整subsample 和 colsample_bytree 参数\n",
    "param_test4 = {\n",
    " 'subsample':[i/10.0 for i in range(6,10)],\n",
    " 'colsample_bytree':[i/10.0 for i in range(6,10)]\n",
    "}\n",
    "gs4= GridSearchCV(estimator = XGBClassifier( learning_rate =0.1, n_estimators=140, max_depth=7,\n",
    " min_child_weight=3, gamma=0, subsample=0.8, colsample_bytree=0.8,\n",
    " objective= 'binary:logistic', nthread=4, scale_pos_weight=1,seed=27), \n",
    " param_grid = param_test4, scoring='roc_auc',n_jobs=4,iid=False, cv=5)\n",
    "gs4.fit(X,Y)\n",
    "gs4.best_params_, gs4.best_score_"
   ]
  },
  {
   "cell_type": "code",
   "execution_count": 233,
   "metadata": {},
   "outputs": [
    {
     "data": {
      "text/plain": [
       "({'colsample_bytree': 0.8, 'subsample': 0.8}, 0.8944740444933267)"
      ]
     },
     "execution_count": 233,
     "metadata": {},
     "output_type": "execute_result"
    }
   ],
   "source": [
    "gs4.best_params_, gs4.best_score_"
   ]
  },
  {
   "cell_type": "code",
   "execution_count": 234,
   "metadata": {},
   "outputs": [
    {
     "data": {
      "text/plain": [
       "({'reg_alpha': 1e-05}, 0.8944740444933267)"
      ]
     },
     "execution_count": 234,
     "metadata": {},
     "output_type": "execute_result"
    }
   ],
   "source": [
    "#正则化参数调优\n",
    "param_test5 = {\n",
    " 'reg_alpha':[1e-5, 1e-2, 0.1, 1, 100]\n",
    "}\n",
    "gs5= GridSearchCV(estimator = XGBClassifier( learning_rate =0.1, n_estimators=140, max_depth=7,\n",
    " min_child_weight=3, gamma=0, subsample=0.8, colsample_bytree=0.8,\n",
    " objective= 'binary:logistic', nthread=4, scale_pos_weight=1,seed=27), \n",
    " param_grid = param_test5, scoring='roc_auc',n_jobs=4,iid=False, cv=5)\n",
    "gs5.fit(X,Y)\n",
    "gs5.best_params_, gs5.best_score_"
   ]
  },
  {
   "cell_type": "code",
   "execution_count": 239,
   "metadata": {},
   "outputs": [
    {
     "data": {
      "text/plain": [
       "0.8822352740892068"
      ]
     },
     "execution_count": 239,
     "metadata": {},
     "output_type": "execute_result"
    }
   ],
   "source": [
    "model2 = XGBClassifier(\n",
    " learning_rate =0.01,\n",
    " n_estimators=140,\n",
    " max_depth=7,\n",
    " min_child_weight=3,\n",
    " gamma=0,\n",
    " subsample=0.8,\n",
    " colsample_bytree=0.8,\n",
    " reg_alpha=1e-05,\n",
    " objective= 'binary:logistic',\n",
    " nthread=4,\n",
    " scale_pos_weight=1,\n",
    " seed=27)\n",
    "model2.fit(X_train,Y_train)\n",
    "y_predprob2= model2.predict_proba(X_test)[:,1]\n",
    "roc_auc_score(Y_test,y_predprob2)"
   ]
  },
  {
   "cell_type": "code",
   "execution_count": 248,
   "metadata": {},
   "outputs": [
    {
     "data": {
      "text/plain": [
       "XGBClassifier(base_score=0.5, booster='gbtree', colsample_bylevel=1,\n",
       "       colsample_bytree=0.8, gamma=0, learning_rate=0.01, max_delta_step=0,\n",
       "       max_depth=7, min_child_weight=3, missing=None, n_estimators=2000,\n",
       "       n_jobs=1, nthread=4, objective='binary:logistic', random_state=0,\n",
       "       reg_alpha=0.005, reg_lambda=1, scale_pos_weight=1, seed=27,\n",
       "       silent=True, subsample=0.8)"
      ]
     },
     "execution_count": 248,
     "metadata": {},
     "output_type": "execute_result"
    }
   ],
   "source": [
    "model_1= XGBClassifier(\n",
    " learning_rate =0.01,\n",
    " n_estimators=2000,\n",
    " max_depth=7,\n",
    " min_child_weight=3,\n",
    " gamma=0,\n",
    " subsample=0.8,\n",
    " colsample_bytree=0.8,\n",
    " reg_alpha=0.005,\n",
    " objective= 'binary:logistic',\n",
    " nthread=4,\n",
    " scale_pos_weight=1,\n",
    " seed=27)\n",
    "model_1.fit(X,Y)"
   ]
  },
  {
   "cell_type": "code",
   "execution_count": 286,
   "metadata": {},
   "outputs": [],
   "source": [
    "y_pred2=model_1.predict(X_test_new)"
   ]
  },
  {
   "cell_type": "markdown",
   "metadata": {},
   "source": [
    "# 逻辑回归建模"
   ]
  },
  {
   "cell_type": "code",
   "execution_count": 253,
   "metadata": {},
   "outputs": [
    {
     "data": {
      "text/plain": [
       "({'max_iter': 40}, 0.8306396503008588)"
      ]
     },
     "execution_count": 253,
     "metadata": {},
     "output_type": "execute_result"
    }
   ],
   "source": [
    "param_test6={\"max_iter\":range(40,100,5)}\n",
    "gs6= GridSearchCV(LogisticRegression(penalty='l2',\n",
    "                   dual=False, tol=0.0001, \n",
    "                   C=1.0, fit_intercept=True, \n",
    "                   intercept_scaling=1, \n",
    "                   class_weight=None, \n",
    "                   random_state=None, \n",
    "                   solver='liblinear',\n",
    "                   max_iter=100, \n",
    "                   multi_class='ovr',\n",
    "                   verbose=0, \n",
    "                   warm_start=False, \n",
    "                   n_jobs=1),\n",
    "                  param_grid = param_test6, scoring='roc_auc',n_jobs=4,iid=False, cv=5)\n",
    "gs6.fit(X,Y)\n",
    "gs6.best_params_, gs6.best_score_"
   ]
  },
  {
   "cell_type": "code",
   "execution_count": 254,
   "metadata": {},
   "outputs": [
    {
     "data": {
      "text/plain": [
       "0.862501418681194"
      ]
     },
     "execution_count": 254,
     "metadata": {},
     "output_type": "execute_result"
    }
   ],
   "source": [
    "model3=LogisticRegression(penalty='l2',\n",
    "                   dual=False, tol=0.0001, \n",
    "                   C=1.0, fit_intercept=True, \n",
    "                   intercept_scaling=1, \n",
    "                   class_weight=None, \n",
    "                   random_state=None, \n",
    "                   solver='liblinear',\n",
    "                   max_iter=40, \n",
    "                   multi_class='ovr',\n",
    "                   verbose=0, \n",
    "                   warm_start=False, \n",
    "                   n_jobs=1)\n",
    "model3.fit(X_train,Y_train)\n",
    "y_predprob3= model3.predict_proba(X_test)[:,1]\n",
    "roc_auc_score(Y_test,y_predprob3)"
   ]
  },
  {
   "cell_type": "code",
   "execution_count": 283,
   "metadata": {},
   "outputs": [
    {
     "data": {
      "text/plain": [
       "0.8772273294745205"
      ]
     },
     "execution_count": 283,
     "metadata": {},
     "output_type": "execute_result"
    }
   ],
   "source": [
    "a={1: 10}\n",
    "model3=LogisticRegression(penalty='l2',\n",
    "                   dual=False, tol=0.0001, \n",
    "                   C=1.0, fit_intercept=True, \n",
    "                   intercept_scaling=1, \n",
    "                   class_weight=a, \n",
    "                   random_state=None, \n",
    "                   solver='liblinear',\n",
    "                   max_iter=100, \n",
    "                   multi_class='ovr',\n",
    "                   verbose=0, \n",
    "                   warm_start=False, \n",
    "                   n_jobs=1)\n",
    "model3.fit(X_train,Y_train)\n",
    "y_predprob3= model3.predict_proba(X_test)[:,1]\n",
    "roc_auc_score(Y_test,y_predprob3)"
   ]
  },
  {
   "cell_type": "code",
   "execution_count": 285,
   "metadata": {},
   "outputs": [],
   "source": [
    "y_pred3=model3.predict(X_test_new)"
   ]
  },
  {
   "cell_type": "code",
   "execution_count": 288,
   "metadata": {},
   "outputs": [],
   "source": [
    "from pandas import Series,DataFrame\n",
    "df1=DataFrame(y_pred1,index=x_test.index)\n",
    "df2=DataFrame(y_pred2,index=x_test.index)\n",
    "df3=DataFrame(y_pred3,index=x_test.index)\n",
    "df1.to_csv(\"G:/医学机器学习面试题/prediction_rf.csv\")\n",
    "df2.to_csv(\"G:/医学机器学习面试题/prediction_xgb.csv\")\n",
    "df3.to_csv(\"G:/医学机器学习面试题/prediction_lr.csv\")"
   ]
  },
  {
   "cell_type": "markdown",
   "metadata": {},
   "source": [
    "### 任务3\n",
    "\n",
    "对xgboost算法中使用的每个特征，进行可视化分析。\n",
    "\n",
    "例如：\n",
    "* 特征取值的分布\n",
    "* 特征和预测目前之间的关系\n",
    "\n",
    "请候选人追加其他认为有必要进行的分析"
   ]
  },
  {
   "cell_type": "code",
   "execution_count": 310,
   "metadata": {},
   "outputs": [],
   "source": [
    "def modelfit(alg, dtrain, predictors,useTrainCV=True, cv_folds=5, early_stopping_rounds=50):\n",
    "    if useTrainCV:\n",
    "        \n",
    "        xgb_param = alg.get_xgb_params()\n",
    "        xgtrain = xgb.DMatrix(dtrain[predictors].values, label=dtrain[target].values)\n",
    "        cvresult = xgb.cv(xgb_param, xgtrain, num_boost_round=alg.get_params()['n_estimators'], nfold=cv_folds,\n",
    "        metrics='auc', early_stopping_rounds=early_stopping_rounds)\n",
    "        alg.set_params(n_estimators=cvresult.shape[0])\n",
    " \n",
    "#Fit the algorithm on the data\n",
    "        alg.fit(dtrain[predictors], dtrain[target],eval_metric='auc')\n",
    " \n",
    "#Predict training set:\n",
    "        dtrain_predictions = alg.predict(dtrain[predictors])\n",
    "        dtrain_predprob = alg.predict_proba(dtrain[predictors])[:,1]\n",
    " \n",
    "#Print model report:\n",
    "        print (\"\\nModel Report\")\n",
    "        print( \"AUC Score (Train): %f\" % roc_auc_score(dtrain[target], dtrain_predprob))\n",
    "        feat_imp = pd.Series(alg.get_booster().get_fscore()).sort_values(ascending=False)[:20]\n",
    "        feat_imp.plot(kind='bar', title='Feature Importances')\n",
    "        plt.ylabel('Feature Importance Score')"
   ]
  },
  {
   "cell_type": "code",
   "execution_count": 311,
   "metadata": {},
   "outputs": [
    {
     "name": "stdout",
     "output_type": "stream",
     "text": [
      "\n",
      "Model Report\n",
      "AUC Score (Train): 0.999999\n"
     ]
    },
    {
     "data": {
      "image/png": "[encoded data removed]",
      "text/plain": [
       "<Figure size 432x288 with 1 Axes>"
      ]
     },
     "metadata": {
      "needs_background": "light"
     },
     "output_type": "display_data"
    }
   ],
   "source": [
    "predictors = [x for x in dtrain.columns if x not in [target]]\n",
    "xgb1 = XGBClassifier(\n",
    " learning_rate =0.1,\n",
    " n_estimators=1000,\n",
    " max_depth=5,\n",
    " min_child_weight=1,\n",
    " gamma=0,\n",
    " subsample=0.8,\n",
    " colsample_bytree=0.8,\n",
    " objective= 'binary:logistic',\n",
    " nthread=4,\n",
    " scale_pos_weight=1,\n",
    " seed=27)\n",
    "modelfit(xgb1, dtrain, predictors)\n",
    "#根据每个特征的重要性进行可视化分析"
   ]
  },
  {
   "cell_type": "code",
   "execution_count": 319,
   "metadata": {},
   "outputs": [
    {
     "data": {
      "text/plain": [
       "<matplotlib.axes._subplots.AxesSubplot at 0x1c3a1f20dd8>"
      ]
     },
     "execution_count": 319,
     "metadata": {},
     "output_type": "execute_result"
    },
    {
     "data": {
      "image/png": "[encoded data removed]",
      "text/plain": [
       "<Figure size 432x288 with 1 Axes>"
      ]
     },
     "metadata": {
      "needs_background": "light"
     },
     "output_type": "display_data"
    }
   ],
   "source": [
    "sns.distplot(x_train['f_0208'])"
   ]
  },
  {
   "cell_type": "code",
   "execution_count": 318,
   "metadata": {},
   "outputs": [
    {
     "data": {
      "text/plain": [
       "<matplotlib.axes._subplots.AxesSubplot at 0x1c3a2130470>"
      ]
     },
     "execution_count": 318,
     "metadata": {},
     "output_type": "execute_result"
    },
    {
     "data": {
      "image/png": "[encoded data removed]",
      "text/plain": [
       "<Figure size 432x288 with 1 Axes>"
      ]
     },
     "metadata": {
      "needs_background": "light"
     },
     "output_type": "display_data"
    }
   ],
   "source": [
    "sns.distplot(x_train['f_0256'])\n",
    "#根据频数分布直方图可以看出大部分特征的的数值分布不均匀，大部分特征的值分布在0和1附近"
   ]
  },
  {
   "cell_type": "markdown",
   "metadata": {},
   "source": [
    "### 任务4\n",
    "如果需要在产品中使用。你会推荐使用之前哪个算法得到的模型？解释为什么。"
   ]
  },
  {
   "cell_type": "raw",
   "metadata": {},
   "source": [
    "由于该模型要用于医疗领域，所以在预测中会出现两种错误，一种是没有病但预测值为有病，另一种是实际没病但预测值为有病，但犯第二种错误的代价更大，所以我们的模型可靠性要高，所以机器学习的AUC值就显得很重要。并且要有一些医学的合理性的指标（比如用来判断癌症患者的标志物microRNA，和血液指标等）来对模型进行解释。\n",
    "根据三种算法的AUC值判断xgbboost模型便显得更加可靠。并且具有以下优势\n",
    "1）GBDT以传统CART作为基分类器，而xgBoosting支持线性分类器，相当于引入L1和L2正则化项的逻辑回归（分类问题）和线性回归（回归问题）；\n",
    "3）当样本存在缺失值时，xgBoosting能自动学习分裂方向；\n",
    "4）xgBoosting借鉴RF的做法，支持列抽样，这样不仅能防止过拟合，还能降低计算；\n",
    "5）xgBoosting的代价函数引入正则化项，控制了模型的复杂度，正则化项包含全部叶子节点的个数，每个叶子节点输出的score的L2模的平方和。\n",
    "从贝叶斯方差角度考虑，正则项降低了模型的方差，防止模型过拟合；\n",
    "6）xgBoosting在每次迭代之后，为叶子结点分配学习速率，降低每棵树的权重，减少每棵树的影响，为后面提供更好的学习空间；\n",
    "8）可并行的近似直方图算法，树结点在进行分裂时，需要计算每个节点的增益，若数据量较大，对所有节点的特征进行排序，遍历的得到最优分割点，\n",
    "这种贪心法异常耗时，这时引进近似直方图算法，用于生成高效的分割点，即用分裂后的某种值减去分裂前的某种值，获得增益，为了限制树的增长，\n",
    "引入阈值，当增益大于阈值时，进行分裂；\n"
   ]
  },
  {
   "cell_type": "markdown",
   "metadata": {},
   "source": [
    "# 任务5"
   ]
  },
  {
   "cell_type": "markdown",
   "metadata": {},
   "source": [
    "任务1～任务4体现了从得到建模数据，到完成建模实验的环节。\n",
    "\n",
    "然而，对于整个建模项目来说，以上环节只是一部分工作内容。请候选人根据自己的经验和理解，描述从接到业务部门的需求开始（假设是一个0，1分类的监督式机器学习任务），到监控模型在产品中的使用情况为止，有哪些重要的工作环节？在这些过程中，机器学习建模工程师和业务部门成员如何分工？如何合作？\n",
    "\n",
    "建议通过流程图配合必要的文字描述，表达自己的理解。\n"
   ]
  },
  {
   "cell_type": "markdown",
   "metadata": {},
   "source": [
    "1. 数据建模过程涉及 数据的采集、数据清洗（缺失值处理，异常值处理，样本不平衡处理）、特征工程的构建、模型的选择、调整参数、模型测试以及到模型在产品中的应用等环节。\n",
    "\n",
    "2. 其中数据的好坏决定机器学习的上限，特征工程的构建和模型调优可以不断逼近这个上限。可见前期的数据的好坏和清洗直接决定了后面步骤的好坏\n",
    "所以在这些过程中每一步都很重要，业务部门之间要分工明（不同层次的人完成不同的建模环节）确同时也要熟悉各个部门之间的业务，各个部门之间要善于沟通及时反映出现的问题这样有利于工作进程的顺利进行。"
   ]
  },
  {
   "cell_type": "markdown",
   "metadata": {},
   "source": [
    "# 数据处理"
   ]
  },
  {
   "cell_type": "markdown",
   "metadata": {},
   "source": [
    "### 任务6"
   ]
  },
  {
   "cell_type": "markdown",
   "metadata": {},
   "source": [
    "history_df中存放了每个id，在不同time，对应的A, B的数值。"
   ]
  },
  {
   "cell_type": "code",
   "execution_count": 167,
   "metadata": {},
   "outputs": [
    {
     "data": {
      "text/html": [
       "<div>\n",
       "<style scoped>\n",
       "    .dataframe tbody tr th:only-of-type {\n",
       "        vertical-align: middle;\n",
       "    }\n",
       "\n",
       "    .dataframe tbody tr th {\n",
       "        vertical-align: top;\n",
       "    }\n",
       "\n",
       "    .dataframe thead th {\n",
       "        text-align: right;\n",
       "    }\n",
       "</style>\n",
       "<table border=\"1\" class=\"dataframe\">\n",
       "  <thead>\n",
       "    <tr style=\"text-align: right;\">\n",
       "      <th></th>\n",
       "      <th>id</th>\n",
       "      <th>time</th>\n",
       "      <th>A</th>\n",
       "      <th>B</th>\n",
       "    </tr>\n",
       "  </thead>\n",
       "  <tbody>\n",
       "    <tr>\n",
       "      <th>0</th>\n",
       "      <td>1</td>\n",
       "      <td>2019-01-26 08:52:00</td>\n",
       "      <td>3.797676</td>\n",
       "      <td>8.432960</td>\n",
       "    </tr>\n",
       "    <tr>\n",
       "      <th>1</th>\n",
       "      <td>1</td>\n",
       "      <td>2019-01-29 14:59:00</td>\n",
       "      <td>NaN</td>\n",
       "      <td>4.157219</td>\n",
       "    </tr>\n",
       "    <tr>\n",
       "      <th>2</th>\n",
       "      <td>1</td>\n",
       "      <td>2019-01-13 00:01:00</td>\n",
       "      <td>6.516694</td>\n",
       "      <td>4.922487</td>\n",
       "    </tr>\n",
       "    <tr>\n",
       "      <th>3</th>\n",
       "      <td>1</td>\n",
       "      <td>2019-02-01 00:27:00</td>\n",
       "      <td>2.627256</td>\n",
       "      <td>NaN</td>\n",
       "    </tr>\n",
       "    <tr>\n",
       "      <th>4</th>\n",
       "      <td>1</td>\n",
       "      <td>2019-03-26 00:32:00</td>\n",
       "      <td>8.939391</td>\n",
       "      <td>NaN</td>\n",
       "    </tr>\n",
       "    <tr>\n",
       "      <th>5</th>\n",
       "      <td>2</td>\n",
       "      <td>2019-01-01 00:14:00</td>\n",
       "      <td>NaN</td>\n",
       "      <td>6.449302</td>\n",
       "    </tr>\n",
       "    <tr>\n",
       "      <th>6</th>\n",
       "      <td>2</td>\n",
       "      <td>2019-01-26 00:52:00</td>\n",
       "      <td>3.629338</td>\n",
       "      <td>1.529292</td>\n",
       "    </tr>\n",
       "    <tr>\n",
       "      <th>7</th>\n",
       "      <td>2</td>\n",
       "      <td>2019-02-04 00:05:00</td>\n",
       "      <td>4.299086</td>\n",
       "      <td>NaN</td>\n",
       "    </tr>\n",
       "    <tr>\n",
       "      <th>8</th>\n",
       "      <td>2</td>\n",
       "      <td>2019-02-28 00:51:00</td>\n",
       "      <td>NaN</td>\n",
       "      <td>3.140770</td>\n",
       "    </tr>\n",
       "    <tr>\n",
       "      <th>9</th>\n",
       "      <td>2</td>\n",
       "      <td>2019-03-01 00:44:00</td>\n",
       "      <td>6.353059</td>\n",
       "      <td>5.926424</td>\n",
       "    </tr>\n",
       "  </tbody>\n",
       "</table>\n",
       "</div>"
      ],
      "text/plain": [
       "   id                time         A         B\n",
       "0   1 2019-01-26 08:52:00  3.797676  8.432960\n",
       "1   1 2019-01-29 14:59:00       NaN  4.157219\n",
       "2   1 2019-01-13 00:01:00  6.516694  4.922487\n",
       "3   1 2019-02-01 00:27:00  2.627256       NaN\n",
       "4   1 2019-03-26 00:32:00  8.939391       NaN\n",
       "5   2 2019-01-01 00:14:00       NaN  6.449302\n",
       "6   2 2019-01-26 00:52:00  3.629338  1.529292\n",
       "7   2 2019-02-04 00:05:00  4.299086       NaN\n",
       "8   2 2019-02-28 00:51:00       NaN  3.140770\n",
       "9   2 2019-03-01 00:44:00  6.353059  5.926424"
      ]
     },
     "execution_count": 167,
     "metadata": {},
     "output_type": "execute_result"
    }
   ],
   "source": [
    "history_data = pd.read_csv('history_data.csv', parse_dates=['time'])\n",
    "history_data"
   ]
  },
  {
   "cell_type": "markdown",
   "metadata": {},
   "source": [
    "sample_df存放了一些id和obs_time的组合。"
   ]
  },
  {
   "cell_type": "code",
   "execution_count": 168,
   "metadata": {},
   "outputs": [
    {
     "data": {
      "text/html": [
       "<div>\n",
       "<style scoped>\n",
       "    .dataframe tbody tr th:only-of-type {\n",
       "        vertical-align: middle;\n",
       "    }\n",
       "\n",
       "    .dataframe tbody tr th {\n",
       "        vertical-align: top;\n",
       "    }\n",
       "\n",
       "    .dataframe thead th {\n",
       "        text-align: right;\n",
       "    }\n",
       "</style>\n",
       "<table border=\"1\" class=\"dataframe\">\n",
       "  <thead>\n",
       "    <tr style=\"text-align: right;\">\n",
       "      <th></th>\n",
       "      <th>id</th>\n",
       "      <th>obs_time</th>\n",
       "    </tr>\n",
       "  </thead>\n",
       "  <tbody>\n",
       "    <tr>\n",
       "      <th>0</th>\n",
       "      <td>1</td>\n",
       "      <td>2019/3/7 0:00</td>\n",
       "    </tr>\n",
       "    <tr>\n",
       "      <th>1</th>\n",
       "      <td>1</td>\n",
       "      <td>2019/2/1 0:00</td>\n",
       "    </tr>\n",
       "    <tr>\n",
       "      <th>2</th>\n",
       "      <td>2</td>\n",
       "      <td>2019/3/15 0:00</td>\n",
       "    </tr>\n",
       "    <tr>\n",
       "      <th>3</th>\n",
       "      <td>2</td>\n",
       "      <td>2019/2/1 0:00</td>\n",
       "    </tr>\n",
       "  </tbody>\n",
       "</table>\n",
       "</div>"
      ],
      "text/plain": [
       "   id        obs_time\n",
       "0   1   2019/3/7 0:00\n",
       "1   1   2019/2/1 0:00\n",
       "2   2  2019/3/15 0:00\n",
       "3   2   2019/2/1 0:00"
      ]
     },
     "execution_count": 168,
     "metadata": {},
     "output_type": "execute_result"
    }
   ],
   "source": [
    "sample_df = pd.read_csv('sample.csv')\n",
    "sample_df"
   ]
  },
  {
   "cell_type": "markdown",
   "metadata": {},
   "source": [
    "对sample_df中每个id和obs_time的组合，计算离obs_time过去10, 60天内， 该id对应的A, B的最大值, 非空记录数量。将结果存在不同的列中。\n",
    "\n",
    "例如:"
   ]
  },
  {
   "cell_type": "markdown",
   "metadata": {},
   "source": [
    "最终的结果包含的列:\n",
    "* id\n",
    "* obs_time\n",
    "* 10天内A平均值\n",
    "* 10天内A非空样本数量\n",
    "* 60天内A平均值\n",
    "* 60天内A非空样本数量\n",
    "* 10天内B平均值\n",
    "* 10天内B非空样本数量\n",
    "* 60天内B平均值\n",
    "* 60天内B非空样本数量\n",
    "\n",
    "将计算结果存为excel保存"
   ]
  },
  {
   "cell_type": "code",
   "execution_count": 169,
   "metadata": {},
   "outputs": [],
   "source": [
    "history_data['time'] = pd.to_datetime(history_data.time) \n",
    "sample_df['obs_time']=pd.to_datetime(sample_df.obs_time,errors='coerce')"
   ]
  },
  {
   "cell_type": "code",
   "execution_count": 170,
   "metadata": {},
   "outputs": [
    {
     "data": {
      "text/html": [
       "<div>\n",
       "<style scoped>\n",
       "    .dataframe tbody tr th:only-of-type {\n",
       "        vertical-align: middle;\n",
       "    }\n",
       "\n",
       "    .dataframe tbody tr th {\n",
       "        vertical-align: top;\n",
       "    }\n",
       "\n",
       "    .dataframe thead th {\n",
       "        text-align: right;\n",
       "    }\n",
       "</style>\n",
       "<table border=\"1\" class=\"dataframe\">\n",
       "  <thead>\n",
       "    <tr style=\"text-align: right;\">\n",
       "      <th></th>\n",
       "      <th>id</th>\n",
       "      <th>obs_time</th>\n",
       "    </tr>\n",
       "  </thead>\n",
       "  <tbody>\n",
       "    <tr>\n",
       "      <th>0</th>\n",
       "      <td>1</td>\n",
       "      <td>2019-03-07</td>\n",
       "    </tr>\n",
       "    <tr>\n",
       "      <th>1</th>\n",
       "      <td>1</td>\n",
       "      <td>2019-02-01</td>\n",
       "    </tr>\n",
       "    <tr>\n",
       "      <th>2</th>\n",
       "      <td>2</td>\n",
       "      <td>2019-03-15</td>\n",
       "    </tr>\n",
       "    <tr>\n",
       "      <th>3</th>\n",
       "      <td>2</td>\n",
       "      <td>2019-02-01</td>\n",
       "    </tr>\n",
       "  </tbody>\n",
       "</table>\n",
       "</div>"
      ],
      "text/plain": [
       "   id   obs_time\n",
       "0   1 2019-03-07\n",
       "1   1 2019-02-01\n",
       "2   2 2019-03-15\n",
       "3   2 2019-02-01"
      ]
     },
     "execution_count": 170,
     "metadata": {},
     "output_type": "execute_result"
    }
   ],
   "source": [
    "sample_df"
   ]
  },
  {
   "cell_type": "code",
   "execution_count": 171,
   "metadata": {},
   "outputs": [
    {
     "data": {
      "text/html": [
       "<div>\n",
       "<style scoped>\n",
       "    .dataframe tbody tr th:only-of-type {\n",
       "        vertical-align: middle;\n",
       "    }\n",
       "\n",
       "    .dataframe tbody tr th {\n",
       "        vertical-align: top;\n",
       "    }\n",
       "\n",
       "    .dataframe thead th {\n",
       "        text-align: right;\n",
       "    }\n",
       "</style>\n",
       "<table border=\"1\" class=\"dataframe\">\n",
       "  <thead>\n",
       "    <tr style=\"text-align: right;\">\n",
       "      <th></th>\n",
       "      <th>id</th>\n",
       "      <th>time</th>\n",
       "      <th>A</th>\n",
       "      <th>B</th>\n",
       "    </tr>\n",
       "  </thead>\n",
       "  <tbody>\n",
       "    <tr>\n",
       "      <th>0</th>\n",
       "      <td>1</td>\n",
       "      <td>2019-01-26 08:52:00</td>\n",
       "      <td>3.797676</td>\n",
       "      <td>8.432960</td>\n",
       "    </tr>\n",
       "    <tr>\n",
       "      <th>1</th>\n",
       "      <td>1</td>\n",
       "      <td>2019-01-29 14:59:00</td>\n",
       "      <td>NaN</td>\n",
       "      <td>4.157219</td>\n",
       "    </tr>\n",
       "    <tr>\n",
       "      <th>2</th>\n",
       "      <td>1</td>\n",
       "      <td>2019-01-13 00:01:00</td>\n",
       "      <td>6.516694</td>\n",
       "      <td>4.922487</td>\n",
       "    </tr>\n",
       "    <tr>\n",
       "      <th>3</th>\n",
       "      <td>1</td>\n",
       "      <td>2019-02-01 00:27:00</td>\n",
       "      <td>2.627256</td>\n",
       "      <td>NaN</td>\n",
       "    </tr>\n",
       "    <tr>\n",
       "      <th>4</th>\n",
       "      <td>1</td>\n",
       "      <td>2019-03-26 00:32:00</td>\n",
       "      <td>8.939391</td>\n",
       "      <td>NaN</td>\n",
       "    </tr>\n",
       "    <tr>\n",
       "      <th>5</th>\n",
       "      <td>2</td>\n",
       "      <td>2019-01-01 00:14:00</td>\n",
       "      <td>NaN</td>\n",
       "      <td>6.449302</td>\n",
       "    </tr>\n",
       "    <tr>\n",
       "      <th>6</th>\n",
       "      <td>2</td>\n",
       "      <td>2019-01-26 00:52:00</td>\n",
       "      <td>3.629338</td>\n",
       "      <td>1.529292</td>\n",
       "    </tr>\n",
       "    <tr>\n",
       "      <th>7</th>\n",
       "      <td>2</td>\n",
       "      <td>2019-02-04 00:05:00</td>\n",
       "      <td>4.299086</td>\n",
       "      <td>NaN</td>\n",
       "    </tr>\n",
       "    <tr>\n",
       "      <th>8</th>\n",
       "      <td>2</td>\n",
       "      <td>2019-02-28 00:51:00</td>\n",
       "      <td>NaN</td>\n",
       "      <td>3.140770</td>\n",
       "    </tr>\n",
       "    <tr>\n",
       "      <th>9</th>\n",
       "      <td>2</td>\n",
       "      <td>2019-03-01 00:44:00</td>\n",
       "      <td>6.353059</td>\n",
       "      <td>5.926424</td>\n",
       "    </tr>\n",
       "  </tbody>\n",
       "</table>\n",
       "</div>"
      ],
      "text/plain": [
       "   id                time         A         B\n",
       "0   1 2019-01-26 08:52:00  3.797676  8.432960\n",
       "1   1 2019-01-29 14:59:00       NaN  4.157219\n",
       "2   1 2019-01-13 00:01:00  6.516694  4.922487\n",
       "3   1 2019-02-01 00:27:00  2.627256       NaN\n",
       "4   1 2019-03-26 00:32:00  8.939391       NaN\n",
       "5   2 2019-01-01 00:14:00       NaN  6.449302\n",
       "6   2 2019-01-26 00:52:00  3.629338  1.529292\n",
       "7   2 2019-02-04 00:05:00  4.299086       NaN\n",
       "8   2 2019-02-28 00:51:00       NaN  3.140770\n",
       "9   2 2019-03-01 00:44:00  6.353059  5.926424"
      ]
     },
     "execution_count": 171,
     "metadata": {},
     "output_type": "execute_result"
    }
   ],
   "source": [
    "history_data"
   ]
  },
  {
   "cell_type": "code",
   "execution_count": 172,
   "metadata": {},
   "outputs": [
    {
     "data": {
      "text/plain": [
       "Timestamp('2019-03-07 00:00:00')"
      ]
     },
     "execution_count": 172,
     "metadata": {},
     "output_type": "execute_result"
    }
   ],
   "source": [
    "sample_df['obs_time'][sample_df['id']==1][0]"
   ]
  },
  {
   "cell_type": "code",
   "execution_count": 173,
   "metadata": {},
   "outputs": [
    {
     "data": {
      "text/plain": [
       "0   2019-01-26 08:52:00\n",
       "1   2019-01-29 14:59:00\n",
       "2   2019-01-13 00:01:00\n",
       "3   2019-02-01 00:27:00\n",
       "4   2019-03-26 00:32:00\n",
       "Name: time, dtype: datetime64[ns]"
      ]
     },
     "execution_count": 173,
     "metadata": {},
     "output_type": "execute_result"
    }
   ],
   "source": [
    "history_data['time'][history_data['id']==1]"
   ]
  },
  {
   "cell_type": "code",
   "execution_count": 174,
   "metadata": {},
   "outputs": [
    {
     "data": {
      "text/html": [
       "<div>\n",
       "<style scoped>\n",
       "    .dataframe tbody tr th:only-of-type {\n",
       "        vertical-align: middle;\n",
       "    }\n",
       "\n",
       "    .dataframe tbody tr th {\n",
       "        vertical-align: top;\n",
       "    }\n",
       "\n",
       "    .dataframe thead th {\n",
       "        text-align: right;\n",
       "    }\n",
       "</style>\n",
       "<table border=\"1\" class=\"dataframe\">\n",
       "  <thead>\n",
       "    <tr style=\"text-align: right;\">\n",
       "      <th></th>\n",
       "      <th>id</th>\n",
       "      <th>time</th>\n",
       "      <th>A</th>\n",
       "      <th>B</th>\n",
       "    </tr>\n",
       "  </thead>\n",
       "  <tbody>\n",
       "    <tr>\n",
       "      <th>0</th>\n",
       "      <td>1</td>\n",
       "      <td>2019-01-26 08:52:00</td>\n",
       "      <td>3.797676</td>\n",
       "      <td>8.432960</td>\n",
       "    </tr>\n",
       "    <tr>\n",
       "      <th>1</th>\n",
       "      <td>1</td>\n",
       "      <td>2019-01-29 14:59:00</td>\n",
       "      <td>NaN</td>\n",
       "      <td>4.157219</td>\n",
       "    </tr>\n",
       "    <tr>\n",
       "      <th>2</th>\n",
       "      <td>1</td>\n",
       "      <td>2019-01-13 00:01:00</td>\n",
       "      <td>6.516694</td>\n",
       "      <td>4.922487</td>\n",
       "    </tr>\n",
       "    <tr>\n",
       "      <th>3</th>\n",
       "      <td>1</td>\n",
       "      <td>2019-02-01 00:27:00</td>\n",
       "      <td>2.627256</td>\n",
       "      <td>NaN</td>\n",
       "    </tr>\n",
       "    <tr>\n",
       "      <th>4</th>\n",
       "      <td>1</td>\n",
       "      <td>2019-03-26 00:32:00</td>\n",
       "      <td>8.939391</td>\n",
       "      <td>NaN</td>\n",
       "    </tr>\n",
       "  </tbody>\n",
       "</table>\n",
       "</div>"
      ],
      "text/plain": [
       "   id                time         A         B\n",
       "0   1 2019-01-26 08:52:00  3.797676  8.432960\n",
       "1   1 2019-01-29 14:59:00       NaN  4.157219\n",
       "2   1 2019-01-13 00:01:00  6.516694  4.922487\n",
       "3   1 2019-02-01 00:27:00  2.627256       NaN\n",
       "4   1 2019-03-26 00:32:00  8.939391       NaN"
      ]
     },
     "execution_count": 174,
     "metadata": {},
     "output_type": "execute_result"
    }
   ],
   "source": [
    "history_data.iloc[0:5,:]"
   ]
  },
  {
   "cell_type": "code",
   "execution_count": 175,
   "metadata": {},
   "outputs": [
    {
     "data": {
      "text/html": [
       "<div>\n",
       "<style scoped>\n",
       "    .dataframe tbody tr th:only-of-type {\n",
       "        vertical-align: middle;\n",
       "    }\n",
       "\n",
       "    .dataframe tbody tr th {\n",
       "        vertical-align: top;\n",
       "    }\n",
       "\n",
       "    .dataframe thead th {\n",
       "        text-align: right;\n",
       "    }\n",
       "</style>\n",
       "<table border=\"1\" class=\"dataframe\">\n",
       "  <thead>\n",
       "    <tr style=\"text-align: right;\">\n",
       "      <th></th>\n",
       "      <th>id</th>\n",
       "      <th>time</th>\n",
       "      <th>A</th>\n",
       "      <th>B</th>\n",
       "    </tr>\n",
       "  </thead>\n",
       "  <tbody>\n",
       "    <tr>\n",
       "      <th>5</th>\n",
       "      <td>2</td>\n",
       "      <td>2019-01-01 00:14:00</td>\n",
       "      <td>NaN</td>\n",
       "      <td>6.449302</td>\n",
       "    </tr>\n",
       "    <tr>\n",
       "      <th>6</th>\n",
       "      <td>2</td>\n",
       "      <td>2019-01-26 00:52:00</td>\n",
       "      <td>3.629338</td>\n",
       "      <td>1.529292</td>\n",
       "    </tr>\n",
       "    <tr>\n",
       "      <th>7</th>\n",
       "      <td>2</td>\n",
       "      <td>2019-02-04 00:05:00</td>\n",
       "      <td>4.299086</td>\n",
       "      <td>NaN</td>\n",
       "    </tr>\n",
       "    <tr>\n",
       "      <th>8</th>\n",
       "      <td>2</td>\n",
       "      <td>2019-02-28 00:51:00</td>\n",
       "      <td>NaN</td>\n",
       "      <td>3.140770</td>\n",
       "    </tr>\n",
       "    <tr>\n",
       "      <th>9</th>\n",
       "      <td>2</td>\n",
       "      <td>2019-03-01 00:44:00</td>\n",
       "      <td>6.353059</td>\n",
       "      <td>5.926424</td>\n",
       "    </tr>\n",
       "  </tbody>\n",
       "</table>\n",
       "</div>"
      ],
      "text/plain": [
       "   id                time         A         B\n",
       "5   2 2019-01-01 00:14:00       NaN  6.449302\n",
       "6   2 2019-01-26 00:52:00  3.629338  1.529292\n",
       "7   2 2019-02-04 00:05:00  4.299086       NaN\n",
       "8   2 2019-02-28 00:51:00       NaN  3.140770\n",
       "9   2 2019-03-01 00:44:00  6.353059  5.926424"
      ]
     },
     "execution_count": 175,
     "metadata": {},
     "output_type": "execute_result"
    }
   ],
   "source": [
    "history_data.iloc[5:10,:]"
   ]
  },
  {
   "cell_type": "code",
   "execution_count": 176,
   "metadata": {},
   "outputs": [],
   "source": [
    "df3=sample_df['obs_time'][sample_df['id']==1][0]-history_data['time'][history_data['id']==1]"
   ]
  },
  {
   "cell_type": "code",
   "execution_count": 177,
   "metadata": {},
   "outputs": [],
   "source": [
    "df4=sample_df['obs_time'][sample_df['id']==1][1]-history_data['time'][history_data['id']==1]"
   ]
  },
  {
   "cell_type": "code",
   "execution_count": 178,
   "metadata": {},
   "outputs": [],
   "source": [
    "df5=sample_df['obs_time'][sample_df['id']==2][2]-history_data['time'][history_data['id']==2]"
   ]
  },
  {
   "cell_type": "code",
   "execution_count": 179,
   "metadata": {},
   "outputs": [],
   "source": [
    "df6=sample_df['obs_time'][sample_df['id']==2][3]-history_data['time'][history_data['id']==2]"
   ]
  },
  {
   "cell_type": "code",
   "execution_count": 180,
   "metadata": {},
   "outputs": [],
   "source": [
    "df1=history_data.iloc[0:5,:]"
   ]
  },
  {
   "cell_type": "code",
   "execution_count": 181,
   "metadata": {},
   "outputs": [],
   "source": [
    "df2=history_data.iloc[5:10,:]"
   ]
  },
  {
   "cell_type": "code",
   "execution_count": 182,
   "metadata": {},
   "outputs": [
    {
     "data": {
      "text/plain": [
       "0     39 days 15:08:00\n",
       "1     36 days 09:01:00\n",
       "2     52 days 23:59:00\n",
       "3     33 days 23:33:00\n",
       "4   -20 days +23:28:00\n",
       "0      5 days 15:08:00\n",
       "1      2 days 09:01:00\n",
       "2     18 days 23:59:00\n",
       "3    -1 days +23:33:00\n",
       "4   -54 days +23:28:00\n",
       "5     72 days 23:46:00\n",
       "6     47 days 23:08:00\n",
       "7     38 days 23:55:00\n",
       "8     14 days 23:09:00\n",
       "9     13 days 23:16:00\n",
       "5     30 days 23:46:00\n",
       "6      5 days 23:08:00\n",
       "7    -4 days +23:55:00\n",
       "8   -28 days +23:09:00\n",
       "9   -29 days +23:16:00\n",
       "Name: time, dtype: timedelta64[ns]"
      ]
     },
     "execution_count": 182,
     "metadata": {},
     "output_type": "execute_result"
    }
   ],
   "source": [
    "pd.concat([df3,df4,df5,df6],axis=0)"
   ]
  },
  {
   "cell_type": "code",
   "execution_count": 183,
   "metadata": {},
   "outputs": [],
   "source": [
    "df=pd.concat([df1,df1,df2,df2],axis=0)"
   ]
  },
  {
   "cell_type": "code",
   "execution_count": 184,
   "metadata": {},
   "outputs": [],
   "source": [
    "df['td']=pd.concat([df3,df4,df5,df6],axis=0)"
   ]
  },
  {
   "cell_type": "code",
   "execution_count": 185,
   "metadata": {},
   "outputs": [
    {
     "data": {
      "text/html": [
       "<div>\n",
       "<style scoped>\n",
       "    .dataframe tbody tr th:only-of-type {\n",
       "        vertical-align: middle;\n",
       "    }\n",
       "\n",
       "    .dataframe tbody tr th {\n",
       "        vertical-align: top;\n",
       "    }\n",
       "\n",
       "    .dataframe thead th {\n",
       "        text-align: right;\n",
       "    }\n",
       "</style>\n",
       "<table border=\"1\" class=\"dataframe\">\n",
       "  <thead>\n",
       "    <tr style=\"text-align: right;\">\n",
       "      <th></th>\n",
       "      <th>id</th>\n",
       "      <th>time</th>\n",
       "      <th>A</th>\n",
       "      <th>B</th>\n",
       "      <th>td</th>\n",
       "    </tr>\n",
       "  </thead>\n",
       "  <tbody>\n",
       "    <tr>\n",
       "      <th>0</th>\n",
       "      <td>1</td>\n",
       "      <td>2019-01-26 08:52:00</td>\n",
       "      <td>3.797676</td>\n",
       "      <td>8.432960</td>\n",
       "      <td>39 days 15:08:00</td>\n",
       "    </tr>\n",
       "    <tr>\n",
       "      <th>1</th>\n",
       "      <td>1</td>\n",
       "      <td>2019-01-29 14:59:00</td>\n",
       "      <td>NaN</td>\n",
       "      <td>4.157219</td>\n",
       "      <td>36 days 09:01:00</td>\n",
       "    </tr>\n",
       "    <tr>\n",
       "      <th>2</th>\n",
       "      <td>1</td>\n",
       "      <td>2019-01-13 00:01:00</td>\n",
       "      <td>6.516694</td>\n",
       "      <td>4.922487</td>\n",
       "      <td>52 days 23:59:00</td>\n",
       "    </tr>\n",
       "    <tr>\n",
       "      <th>3</th>\n",
       "      <td>1</td>\n",
       "      <td>2019-02-01 00:27:00</td>\n",
       "      <td>2.627256</td>\n",
       "      <td>NaN</td>\n",
       "      <td>33 days 23:33:00</td>\n",
       "    </tr>\n",
       "    <tr>\n",
       "      <th>4</th>\n",
       "      <td>1</td>\n",
       "      <td>2019-03-26 00:32:00</td>\n",
       "      <td>8.939391</td>\n",
       "      <td>NaN</td>\n",
       "      <td>-20 days +23:28:00</td>\n",
       "    </tr>\n",
       "    <tr>\n",
       "      <th>0</th>\n",
       "      <td>1</td>\n",
       "      <td>2019-01-26 08:52:00</td>\n",
       "      <td>3.797676</td>\n",
       "      <td>8.432960</td>\n",
       "      <td>5 days 15:08:00</td>\n",
       "    </tr>\n",
       "    <tr>\n",
       "      <th>1</th>\n",
       "      <td>1</td>\n",
       "      <td>2019-01-29 14:59:00</td>\n",
       "      <td>NaN</td>\n",
       "      <td>4.157219</td>\n",
       "      <td>2 days 09:01:00</td>\n",
       "    </tr>\n",
       "    <tr>\n",
       "      <th>2</th>\n",
       "      <td>1</td>\n",
       "      <td>2019-01-13 00:01:00</td>\n",
       "      <td>6.516694</td>\n",
       "      <td>4.922487</td>\n",
       "      <td>18 days 23:59:00</td>\n",
       "    </tr>\n",
       "    <tr>\n",
       "      <th>3</th>\n",
       "      <td>1</td>\n",
       "      <td>2019-02-01 00:27:00</td>\n",
       "      <td>2.627256</td>\n",
       "      <td>NaN</td>\n",
       "      <td>-1 days +23:33:00</td>\n",
       "    </tr>\n",
       "    <tr>\n",
       "      <th>4</th>\n",
       "      <td>1</td>\n",
       "      <td>2019-03-26 00:32:00</td>\n",
       "      <td>8.939391</td>\n",
       "      <td>NaN</td>\n",
       "      <td>-54 days +23:28:00</td>\n",
       "    </tr>\n",
       "    <tr>\n",
       "      <th>5</th>\n",
       "      <td>2</td>\n",
       "      <td>2019-01-01 00:14:00</td>\n",
       "      <td>NaN</td>\n",
       "      <td>6.449302</td>\n",
       "      <td>72 days 23:46:00</td>\n",
       "    </tr>\n",
       "    <tr>\n",
       "      <th>6</th>\n",
       "      <td>2</td>\n",
       "      <td>2019-01-26 00:52:00</td>\n",
       "      <td>3.629338</td>\n",
       "      <td>1.529292</td>\n",
       "      <td>47 days 23:08:00</td>\n",
       "    </tr>\n",
       "    <tr>\n",
       "      <th>7</th>\n",
       "      <td>2</td>\n",
       "      <td>2019-02-04 00:05:00</td>\n",
       "      <td>4.299086</td>\n",
       "      <td>NaN</td>\n",
       "      <td>38 days 23:55:00</td>\n",
       "    </tr>\n",
       "    <tr>\n",
       "      <th>8</th>\n",
       "      <td>2</td>\n",
       "      <td>2019-02-28 00:51:00</td>\n",
       "      <td>NaN</td>\n",
       "      <td>3.140770</td>\n",
       "      <td>14 days 23:09:00</td>\n",
       "    </tr>\n",
       "    <tr>\n",
       "      <th>9</th>\n",
       "      <td>2</td>\n",
       "      <td>2019-03-01 00:44:00</td>\n",
       "      <td>6.353059</td>\n",
       "      <td>5.926424</td>\n",
       "      <td>13 days 23:16:00</td>\n",
       "    </tr>\n",
       "    <tr>\n",
       "      <th>5</th>\n",
       "      <td>2</td>\n",
       "      <td>2019-01-01 00:14:00</td>\n",
       "      <td>NaN</td>\n",
       "      <td>6.449302</td>\n",
       "      <td>30 days 23:46:00</td>\n",
       "    </tr>\n",
       "    <tr>\n",
       "      <th>6</th>\n",
       "      <td>2</td>\n",
       "      <td>2019-01-26 00:52:00</td>\n",
       "      <td>3.629338</td>\n",
       "      <td>1.529292</td>\n",
       "      <td>5 days 23:08:00</td>\n",
       "    </tr>\n",
       "    <tr>\n",
       "      <th>7</th>\n",
       "      <td>2</td>\n",
       "      <td>2019-02-04 00:05:00</td>\n",
       "      <td>4.299086</td>\n",
       "      <td>NaN</td>\n",
       "      <td>-4 days +23:55:00</td>\n",
       "    </tr>\n",
       "    <tr>\n",
       "      <th>8</th>\n",
       "      <td>2</td>\n",
       "      <td>2019-02-28 00:51:00</td>\n",
       "      <td>NaN</td>\n",
       "      <td>3.140770</td>\n",
       "      <td>-28 days +23:09:00</td>\n",
       "    </tr>\n",
       "    <tr>\n",
       "      <th>9</th>\n",
       "      <td>2</td>\n",
       "      <td>2019-03-01 00:44:00</td>\n",
       "      <td>6.353059</td>\n",
       "      <td>5.926424</td>\n",
       "      <td>-29 days +23:16:00</td>\n",
       "    </tr>\n",
       "  </tbody>\n",
       "</table>\n",
       "</div>"
      ],
      "text/plain": [
       "   id                time         A         B                 td\n",
       "0   1 2019-01-26 08:52:00  3.797676  8.432960   39 days 15:08:00\n",
       "1   1 2019-01-29 14:59:00       NaN  4.157219   36 days 09:01:00\n",
       "2   1 2019-01-13 00:01:00  6.516694  4.922487   52 days 23:59:00\n",
       "3   1 2019-02-01 00:27:00  2.627256       NaN   33 days 23:33:00\n",
       "4   1 2019-03-26 00:32:00  8.939391       NaN -20 days +23:28:00\n",
       "0   1 2019-01-26 08:52:00  3.797676  8.432960    5 days 15:08:00\n",
       "1   1 2019-01-29 14:59:00       NaN  4.157219    2 days 09:01:00\n",
       "2   1 2019-01-13 00:01:00  6.516694  4.922487   18 days 23:59:00\n",
       "3   1 2019-02-01 00:27:00  2.627256       NaN  -1 days +23:33:00\n",
       "4   1 2019-03-26 00:32:00  8.939391       NaN -54 days +23:28:00\n",
       "5   2 2019-01-01 00:14:00       NaN  6.449302   72 days 23:46:00\n",
       "6   2 2019-01-26 00:52:00  3.629338  1.529292   47 days 23:08:00\n",
       "7   2 2019-02-04 00:05:00  4.299086       NaN   38 days 23:55:00\n",
       "8   2 2019-02-28 00:51:00       NaN  3.140770   14 days 23:09:00\n",
       "9   2 2019-03-01 00:44:00  6.353059  5.926424   13 days 23:16:00\n",
       "5   2 2019-01-01 00:14:00       NaN  6.449302   30 days 23:46:00\n",
       "6   2 2019-01-26 00:52:00  3.629338  1.529292    5 days 23:08:00\n",
       "7   2 2019-02-04 00:05:00  4.299086       NaN  -4 days +23:55:00\n",
       "8   2 2019-02-28 00:51:00       NaN  3.140770 -28 days +23:09:00\n",
       "9   2 2019-03-01 00:44:00  6.353059  5.926424 -29 days +23:16:00"
      ]
     },
     "execution_count": 185,
     "metadata": {},
     "output_type": "execute_result"
    }
   ],
   "source": [
    "df"
   ]
  },
  {
   "cell_type": "code",
   "execution_count": 186,
   "metadata": {},
   "outputs": [],
   "source": [
    "df['obs_time'] = [val for val in sample_df[\"obs_time\"] for i in range(5)]"
   ]
  },
  {
   "cell_type": "code",
   "execution_count": 187,
   "metadata": {},
   "outputs": [
    {
     "data": {
      "text/html": [
       "<div>\n",
       "<style scoped>\n",
       "    .dataframe tbody tr th:only-of-type {\n",
       "        vertical-align: middle;\n",
       "    }\n",
       "\n",
       "    .dataframe tbody tr th {\n",
       "        vertical-align: top;\n",
       "    }\n",
       "\n",
       "    .dataframe thead th {\n",
       "        text-align: right;\n",
       "    }\n",
       "</style>\n",
       "<table border=\"1\" class=\"dataframe\">\n",
       "  <thead>\n",
       "    <tr style=\"text-align: right;\">\n",
       "      <th></th>\n",
       "      <th>id</th>\n",
       "      <th>time</th>\n",
       "      <th>A</th>\n",
       "      <th>B</th>\n",
       "      <th>td</th>\n",
       "      <th>obs_time</th>\n",
       "    </tr>\n",
       "  </thead>\n",
       "  <tbody>\n",
       "    <tr>\n",
       "      <th>0</th>\n",
       "      <td>1</td>\n",
       "      <td>2019-01-26 08:52:00</td>\n",
       "      <td>3.797676</td>\n",
       "      <td>8.432960</td>\n",
       "      <td>39 days 15:08:00</td>\n",
       "      <td>2019-03-07</td>\n",
       "    </tr>\n",
       "    <tr>\n",
       "      <th>1</th>\n",
       "      <td>1</td>\n",
       "      <td>2019-01-29 14:59:00</td>\n",
       "      <td>NaN</td>\n",
       "      <td>4.157219</td>\n",
       "      <td>36 days 09:01:00</td>\n",
       "      <td>2019-03-07</td>\n",
       "    </tr>\n",
       "    <tr>\n",
       "      <th>2</th>\n",
       "      <td>1</td>\n",
       "      <td>2019-01-13 00:01:00</td>\n",
       "      <td>6.516694</td>\n",
       "      <td>4.922487</td>\n",
       "      <td>52 days 23:59:00</td>\n",
       "      <td>2019-03-07</td>\n",
       "    </tr>\n",
       "    <tr>\n",
       "      <th>3</th>\n",
       "      <td>1</td>\n",
       "      <td>2019-02-01 00:27:00</td>\n",
       "      <td>2.627256</td>\n",
       "      <td>NaN</td>\n",
       "      <td>33 days 23:33:00</td>\n",
       "      <td>2019-03-07</td>\n",
       "    </tr>\n",
       "    <tr>\n",
       "      <th>4</th>\n",
       "      <td>1</td>\n",
       "      <td>2019-03-26 00:32:00</td>\n",
       "      <td>8.939391</td>\n",
       "      <td>NaN</td>\n",
       "      <td>-20 days +23:28:00</td>\n",
       "      <td>2019-03-07</td>\n",
       "    </tr>\n",
       "    <tr>\n",
       "      <th>0</th>\n",
       "      <td>1</td>\n",
       "      <td>2019-01-26 08:52:00</td>\n",
       "      <td>3.797676</td>\n",
       "      <td>8.432960</td>\n",
       "      <td>5 days 15:08:00</td>\n",
       "      <td>2019-02-01</td>\n",
       "    </tr>\n",
       "    <tr>\n",
       "      <th>1</th>\n",
       "      <td>1</td>\n",
       "      <td>2019-01-29 14:59:00</td>\n",
       "      <td>NaN</td>\n",
       "      <td>4.157219</td>\n",
       "      <td>2 days 09:01:00</td>\n",
       "      <td>2019-02-01</td>\n",
       "    </tr>\n",
       "    <tr>\n",
       "      <th>2</th>\n",
       "      <td>1</td>\n",
       "      <td>2019-01-13 00:01:00</td>\n",
       "      <td>6.516694</td>\n",
       "      <td>4.922487</td>\n",
       "      <td>18 days 23:59:00</td>\n",
       "      <td>2019-02-01</td>\n",
       "    </tr>\n",
       "    <tr>\n",
       "      <th>3</th>\n",
       "      <td>1</td>\n",
       "      <td>2019-02-01 00:27:00</td>\n",
       "      <td>2.627256</td>\n",
       "      <td>NaN</td>\n",
       "      <td>-1 days +23:33:00</td>\n",
       "      <td>2019-02-01</td>\n",
       "    </tr>\n",
       "    <tr>\n",
       "      <th>4</th>\n",
       "      <td>1</td>\n",
       "      <td>2019-03-26 00:32:00</td>\n",
       "      <td>8.939391</td>\n",
       "      <td>NaN</td>\n",
       "      <td>-54 days +23:28:00</td>\n",
       "      <td>2019-02-01</td>\n",
       "    </tr>\n",
       "    <tr>\n",
       "      <th>5</th>\n",
       "      <td>2</td>\n",
       "      <td>2019-01-01 00:14:00</td>\n",
       "      <td>NaN</td>\n",
       "      <td>6.449302</td>\n",
       "      <td>72 days 23:46:00</td>\n",
       "      <td>2019-03-15</td>\n",
       "    </tr>\n",
       "    <tr>\n",
       "      <th>6</th>\n",
       "      <td>2</td>\n",
       "      <td>2019-01-26 00:52:00</td>\n",
       "      <td>3.629338</td>\n",
       "      <td>1.529292</td>\n",
       "      <td>47 days 23:08:00</td>\n",
       "      <td>2019-03-15</td>\n",
       "    </tr>\n",
       "    <tr>\n",
       "      <th>7</th>\n",
       "      <td>2</td>\n",
       "      <td>2019-02-04 00:05:00</td>\n",
       "      <td>4.299086</td>\n",
       "      <td>NaN</td>\n",
       "      <td>38 days 23:55:00</td>\n",
       "      <td>2019-03-15</td>\n",
       "    </tr>\n",
       "    <tr>\n",
       "      <th>8</th>\n",
       "      <td>2</td>\n",
       "      <td>2019-02-28 00:51:00</td>\n",
       "      <td>NaN</td>\n",
       "      <td>3.140770</td>\n",
       "      <td>14 days 23:09:00</td>\n",
       "      <td>2019-03-15</td>\n",
       "    </tr>\n",
       "    <tr>\n",
       "      <th>9</th>\n",
       "      <td>2</td>\n",
       "      <td>2019-03-01 00:44:00</td>\n",
       "      <td>6.353059</td>\n",
       "      <td>5.926424</td>\n",
       "      <td>13 days 23:16:00</td>\n",
       "      <td>2019-03-15</td>\n",
       "    </tr>\n",
       "    <tr>\n",
       "      <th>5</th>\n",
       "      <td>2</td>\n",
       "      <td>2019-01-01 00:14:00</td>\n",
       "      <td>NaN</td>\n",
       "      <td>6.449302</td>\n",
       "      <td>30 days 23:46:00</td>\n",
       "      <td>2019-02-01</td>\n",
       "    </tr>\n",
       "    <tr>\n",
       "      <th>6</th>\n",
       "      <td>2</td>\n",
       "      <td>2019-01-26 00:52:00</td>\n",
       "      <td>3.629338</td>\n",
       "      <td>1.529292</td>\n",
       "      <td>5 days 23:08:00</td>\n",
       "      <td>2019-02-01</td>\n",
       "    </tr>\n",
       "    <tr>\n",
       "      <th>7</th>\n",
       "      <td>2</td>\n",
       "      <td>2019-02-04 00:05:00</td>\n",
       "      <td>4.299086</td>\n",
       "      <td>NaN</td>\n",
       "      <td>-4 days +23:55:00</td>\n",
       "      <td>2019-02-01</td>\n",
       "    </tr>\n",
       "    <tr>\n",
       "      <th>8</th>\n",
       "      <td>2</td>\n",
       "      <td>2019-02-28 00:51:00</td>\n",
       "      <td>NaN</td>\n",
       "      <td>3.140770</td>\n",
       "      <td>-28 days +23:09:00</td>\n",
       "      <td>2019-02-01</td>\n",
       "    </tr>\n",
       "    <tr>\n",
       "      <th>9</th>\n",
       "      <td>2</td>\n",
       "      <td>2019-03-01 00:44:00</td>\n",
       "      <td>6.353059</td>\n",
       "      <td>5.926424</td>\n",
       "      <td>-29 days +23:16:00</td>\n",
       "      <td>2019-02-01</td>\n",
       "    </tr>\n",
       "  </tbody>\n",
       "</table>\n",
       "</div>"
      ],
      "text/plain": [
       "   id                time         A         B                 td   obs_time\n",
       "0   1 2019-01-26 08:52:00  3.797676  8.432960   39 days 15:08:00 2019-03-07\n",
       "1   1 2019-01-29 14:59:00       NaN  4.157219   36 days 09:01:00 2019-03-07\n",
       "2   1 2019-01-13 00:01:00  6.516694  4.922487   52 days 23:59:00 2019-03-07\n",
       "3   1 2019-02-01 00:27:00  2.627256       NaN   33 days 23:33:00 2019-03-07\n",
       "4   1 2019-03-26 00:32:00  8.939391       NaN -20 days +23:28:00 2019-03-07\n",
       "0   1 2019-01-26 08:52:00  3.797676  8.432960    5 days 15:08:00 2019-02-01\n",
       "1   1 2019-01-29 14:59:00       NaN  4.157219    2 days 09:01:00 2019-02-01\n",
       "2   1 2019-01-13 00:01:00  6.516694  4.922487   18 days 23:59:00 2019-02-01\n",
       "3   1 2019-02-01 00:27:00  2.627256       NaN  -1 days +23:33:00 2019-02-01\n",
       "4   1 2019-03-26 00:32:00  8.939391       NaN -54 days +23:28:00 2019-02-01\n",
       "5   2 2019-01-01 00:14:00       NaN  6.449302   72 days 23:46:00 2019-03-15\n",
       "6   2 2019-01-26 00:52:00  3.629338  1.529292   47 days 23:08:00 2019-03-15\n",
       "7   2 2019-02-04 00:05:00  4.299086       NaN   38 days 23:55:00 2019-03-15\n",
       "8   2 2019-02-28 00:51:00       NaN  3.140770   14 days 23:09:00 2019-03-15\n",
       "9   2 2019-03-01 00:44:00  6.353059  5.926424   13 days 23:16:00 2019-03-15\n",
       "5   2 2019-01-01 00:14:00       NaN  6.449302   30 days 23:46:00 2019-02-01\n",
       "6   2 2019-01-26 00:52:00  3.629338  1.529292    5 days 23:08:00 2019-02-01\n",
       "7   2 2019-02-04 00:05:00  4.299086       NaN  -4 days +23:55:00 2019-02-01\n",
       "8   2 2019-02-28 00:51:00       NaN  3.140770 -28 days +23:09:00 2019-02-01\n",
       "9   2 2019-03-01 00:44:00  6.353059  5.926424 -29 days +23:16:00 2019-02-01"
      ]
     },
     "execution_count": 187,
     "metadata": {},
     "output_type": "execute_result"
    }
   ],
   "source": [
    "df"
   ]
  },
  {
   "cell_type": "code",
   "execution_count": 188,
   "metadata": {},
   "outputs": [
    {
     "data": {
      "text/plain": [
       "id                    int64\n",
       "time         datetime64[ns]\n",
       "A                   float64\n",
       "B                   float64\n",
       "td          timedelta64[ns]\n",
       "obs_time     datetime64[ns]\n",
       "dtype: object"
      ]
     },
     "execution_count": 188,
     "metadata": {},
     "output_type": "execute_result"
    }
   ],
   "source": [
    "df.dtypes"
   ]
  },
  {
   "cell_type": "code",
   "execution_count": 189,
   "metadata": {},
   "outputs": [],
   "source": [
    "df['td']=df['td'].map(lambda x:x.days)"
   ]
  },
  {
   "cell_type": "code",
   "execution_count": 193,
   "metadata": {},
   "outputs": [],
   "source": [
    "df=df[df['td']>0]"
   ]
  },
  {
   "cell_type": "code",
   "execution_count": null,
   "metadata": {},
   "outputs": [],
   "source": [
    "最终的结果包含的列:\n",
    "* id\n",
    "* obs_time\n",
    "* 10天内A平均值\n",
    "* 10天内A非空样本数量\n",
    "* 60天内A平均值\n",
    "* 60天内A非空样本数量\n",
    "* 10天内B平均值\n",
    "* 10天内B非空样本数量\n",
    "* 60天内B平均值\n",
    "* 60天内B非空样本数量\n",
    "\n",
    "将计算结果存为excel保存"
   ]
  },
  {
   "cell_type": "code",
   "execution_count": 194,
   "metadata": {},
   "outputs": [],
   "source": [
    "df=df.reset_index(drop = True)"
   ]
  },
  {
   "cell_type": "code",
   "execution_count": 196,
   "metadata": {},
   "outputs": [
    {
     "data": {
      "text/html": [
       "<div>\n",
       "<style scoped>\n",
       "    .dataframe tbody tr th:only-of-type {\n",
       "        vertical-align: middle;\n",
       "    }\n",
       "\n",
       "    .dataframe tbody tr th {\n",
       "        vertical-align: top;\n",
       "    }\n",
       "\n",
       "    .dataframe thead th {\n",
       "        text-align: right;\n",
       "    }\n",
       "</style>\n",
       "<table border=\"1\" class=\"dataframe\">\n",
       "  <thead>\n",
       "    <tr style=\"text-align: right;\">\n",
       "      <th></th>\n",
       "      <th>id</th>\n",
       "      <th>time</th>\n",
       "      <th>A</th>\n",
       "      <th>B</th>\n",
       "      <th>td</th>\n",
       "      <th>obs_time</th>\n",
       "    </tr>\n",
       "  </thead>\n",
       "  <tbody>\n",
       "    <tr>\n",
       "      <th>0</th>\n",
       "      <td>1</td>\n",
       "      <td>2019-01-26 08:52:00</td>\n",
       "      <td>3.797676</td>\n",
       "      <td>8.432960</td>\n",
       "      <td>39</td>\n",
       "      <td>2019-03-07</td>\n",
       "    </tr>\n",
       "    <tr>\n",
       "      <th>1</th>\n",
       "      <td>1</td>\n",
       "      <td>2019-01-29 14:59:00</td>\n",
       "      <td>NaN</td>\n",
       "      <td>4.157219</td>\n",
       "      <td>36</td>\n",
       "      <td>2019-03-07</td>\n",
       "    </tr>\n",
       "    <tr>\n",
       "      <th>2</th>\n",
       "      <td>1</td>\n",
       "      <td>2019-01-13 00:01:00</td>\n",
       "      <td>6.516694</td>\n",
       "      <td>4.922487</td>\n",
       "      <td>52</td>\n",
       "      <td>2019-03-07</td>\n",
       "    </tr>\n",
       "    <tr>\n",
       "      <th>3</th>\n",
       "      <td>1</td>\n",
       "      <td>2019-02-01 00:27:00</td>\n",
       "      <td>2.627256</td>\n",
       "      <td>NaN</td>\n",
       "      <td>33</td>\n",
       "      <td>2019-03-07</td>\n",
       "    </tr>\n",
       "    <tr>\n",
       "      <th>4</th>\n",
       "      <td>1</td>\n",
       "      <td>2019-01-26 08:52:00</td>\n",
       "      <td>3.797676</td>\n",
       "      <td>8.432960</td>\n",
       "      <td>5</td>\n",
       "      <td>2019-02-01</td>\n",
       "    </tr>\n",
       "    <tr>\n",
       "      <th>5</th>\n",
       "      <td>1</td>\n",
       "      <td>2019-01-29 14:59:00</td>\n",
       "      <td>NaN</td>\n",
       "      <td>4.157219</td>\n",
       "      <td>2</td>\n",
       "      <td>2019-02-01</td>\n",
       "    </tr>\n",
       "    <tr>\n",
       "      <th>6</th>\n",
       "      <td>1</td>\n",
       "      <td>2019-01-13 00:01:00</td>\n",
       "      <td>6.516694</td>\n",
       "      <td>4.922487</td>\n",
       "      <td>18</td>\n",
       "      <td>2019-02-01</td>\n",
       "    </tr>\n",
       "    <tr>\n",
       "      <th>7</th>\n",
       "      <td>2</td>\n",
       "      <td>2019-01-01 00:14:00</td>\n",
       "      <td>NaN</td>\n",
       "      <td>6.449302</td>\n",
       "      <td>72</td>\n",
       "      <td>2019-03-15</td>\n",
       "    </tr>\n",
       "    <tr>\n",
       "      <th>8</th>\n",
       "      <td>2</td>\n",
       "      <td>2019-01-26 00:52:00</td>\n",
       "      <td>3.629338</td>\n",
       "      <td>1.529292</td>\n",
       "      <td>47</td>\n",
       "      <td>2019-03-15</td>\n",
       "    </tr>\n",
       "    <tr>\n",
       "      <th>9</th>\n",
       "      <td>2</td>\n",
       "      <td>2019-02-04 00:05:00</td>\n",
       "      <td>4.299086</td>\n",
       "      <td>NaN</td>\n",
       "      <td>38</td>\n",
       "      <td>2019-03-15</td>\n",
       "    </tr>\n",
       "    <tr>\n",
       "      <th>10</th>\n",
       "      <td>2</td>\n",
       "      <td>2019-02-28 00:51:00</td>\n",
       "      <td>NaN</td>\n",
       "      <td>3.140770</td>\n",
       "      <td>14</td>\n",
       "      <td>2019-03-15</td>\n",
       "    </tr>\n",
       "    <tr>\n",
       "      <th>11</th>\n",
       "      <td>2</td>\n",
       "      <td>2019-03-01 00:44:00</td>\n",
       "      <td>6.353059</td>\n",
       "      <td>5.926424</td>\n",
       "      <td>13</td>\n",
       "      <td>2019-03-15</td>\n",
       "    </tr>\n",
       "    <tr>\n",
       "      <th>12</th>\n",
       "      <td>2</td>\n",
       "      <td>2019-01-01 00:14:00</td>\n",
       "      <td>NaN</td>\n",
       "      <td>6.449302</td>\n",
       "      <td>30</td>\n",
       "      <td>2019-02-01</td>\n",
       "    </tr>\n",
       "    <tr>\n",
       "      <th>13</th>\n",
       "      <td>2</td>\n",
       "      <td>2019-01-26 00:52:00</td>\n",
       "      <td>3.629338</td>\n",
       "      <td>1.529292</td>\n",
       "      <td>5</td>\n",
       "      <td>2019-02-01</td>\n",
       "    </tr>\n",
       "  </tbody>\n",
       "</table>\n",
       "</div>"
      ],
      "text/plain": [
       "    id                time         A         B  td   obs_time\n",
       "0    1 2019-01-26 08:52:00  3.797676  8.432960  39 2019-03-07\n",
       "1    1 2019-01-29 14:59:00       NaN  4.157219  36 2019-03-07\n",
       "2    1 2019-01-13 00:01:00  6.516694  4.922487  52 2019-03-07\n",
       "3    1 2019-02-01 00:27:00  2.627256       NaN  33 2019-03-07\n",
       "4    1 2019-01-26 08:52:00  3.797676  8.432960   5 2019-02-01\n",
       "5    1 2019-01-29 14:59:00       NaN  4.157219   2 2019-02-01\n",
       "6    1 2019-01-13 00:01:00  6.516694  4.922487  18 2019-02-01\n",
       "7    2 2019-01-01 00:14:00       NaN  6.449302  72 2019-03-15\n",
       "8    2 2019-01-26 00:52:00  3.629338  1.529292  47 2019-03-15\n",
       "9    2 2019-02-04 00:05:00  4.299086       NaN  38 2019-03-15\n",
       "10   2 2019-02-28 00:51:00       NaN  3.140770  14 2019-03-15\n",
       "11   2 2019-03-01 00:44:00  6.353059  5.926424  13 2019-03-15\n",
       "12   2 2019-01-01 00:14:00       NaN  6.449302  30 2019-02-01\n",
       "13   2 2019-01-26 00:52:00  3.629338  1.529292   5 2019-02-01"
      ]
     },
     "execution_count": 196,
     "metadata": {},
     "output_type": "execute_result"
    }
   ],
   "source": [
    "df"
   ]
  },
  {
   "cell_type": "code",
   "execution_count": 197,
   "metadata": {},
   "outputs": [],
   "source": [
    "df['c']=['a','a','a','a','b','b','b','c','c','c','c','c','d','d']"
   ]
  },
  {
   "cell_type": "code",
   "execution_count": 198,
   "metadata": {},
   "outputs": [
    {
     "data": {
      "text/html": [
       "<div>\n",
       "<style scoped>\n",
       "    .dataframe tbody tr th:only-of-type {\n",
       "        vertical-align: middle;\n",
       "    }\n",
       "\n",
       "    .dataframe tbody tr th {\n",
       "        vertical-align: top;\n",
       "    }\n",
       "\n",
       "    .dataframe thead th {\n",
       "        text-align: right;\n",
       "    }\n",
       "</style>\n",
       "<table border=\"1\" class=\"dataframe\">\n",
       "  <thead>\n",
       "    <tr style=\"text-align: right;\">\n",
       "      <th></th>\n",
       "      <th>id</th>\n",
       "      <th>time</th>\n",
       "      <th>A</th>\n",
       "      <th>B</th>\n",
       "      <th>td</th>\n",
       "      <th>obs_time</th>\n",
       "      <th>c</th>\n",
       "    </tr>\n",
       "  </thead>\n",
       "  <tbody>\n",
       "    <tr>\n",
       "      <th>0</th>\n",
       "      <td>1</td>\n",
       "      <td>2019-01-26 08:52:00</td>\n",
       "      <td>3.797676</td>\n",
       "      <td>8.432960</td>\n",
       "      <td>39</td>\n",
       "      <td>2019-03-07</td>\n",
       "      <td>a</td>\n",
       "    </tr>\n",
       "    <tr>\n",
       "      <th>1</th>\n",
       "      <td>1</td>\n",
       "      <td>2019-01-29 14:59:00</td>\n",
       "      <td>NaN</td>\n",
       "      <td>4.157219</td>\n",
       "      <td>36</td>\n",
       "      <td>2019-03-07</td>\n",
       "      <td>a</td>\n",
       "    </tr>\n",
       "    <tr>\n",
       "      <th>2</th>\n",
       "      <td>1</td>\n",
       "      <td>2019-01-13 00:01:00</td>\n",
       "      <td>6.516694</td>\n",
       "      <td>4.922487</td>\n",
       "      <td>52</td>\n",
       "      <td>2019-03-07</td>\n",
       "      <td>a</td>\n",
       "    </tr>\n",
       "    <tr>\n",
       "      <th>3</th>\n",
       "      <td>1</td>\n",
       "      <td>2019-02-01 00:27:00</td>\n",
       "      <td>2.627256</td>\n",
       "      <td>NaN</td>\n",
       "      <td>33</td>\n",
       "      <td>2019-03-07</td>\n",
       "      <td>a</td>\n",
       "    </tr>\n",
       "    <tr>\n",
       "      <th>4</th>\n",
       "      <td>1</td>\n",
       "      <td>2019-01-26 08:52:00</td>\n",
       "      <td>3.797676</td>\n",
       "      <td>8.432960</td>\n",
       "      <td>5</td>\n",
       "      <td>2019-02-01</td>\n",
       "      <td>b</td>\n",
       "    </tr>\n",
       "    <tr>\n",
       "      <th>5</th>\n",
       "      <td>1</td>\n",
       "      <td>2019-01-29 14:59:00</td>\n",
       "      <td>NaN</td>\n",
       "      <td>4.157219</td>\n",
       "      <td>2</td>\n",
       "      <td>2019-02-01</td>\n",
       "      <td>b</td>\n",
       "    </tr>\n",
       "    <tr>\n",
       "      <th>6</th>\n",
       "      <td>1</td>\n",
       "      <td>2019-01-13 00:01:00</td>\n",
       "      <td>6.516694</td>\n",
       "      <td>4.922487</td>\n",
       "      <td>18</td>\n",
       "      <td>2019-02-01</td>\n",
       "      <td>b</td>\n",
       "    </tr>\n",
       "    <tr>\n",
       "      <th>7</th>\n",
       "      <td>2</td>\n",
       "      <td>2019-01-01 00:14:00</td>\n",
       "      <td>NaN</td>\n",
       "      <td>6.449302</td>\n",
       "      <td>72</td>\n",
       "      <td>2019-03-15</td>\n",
       "      <td>c</td>\n",
       "    </tr>\n",
       "    <tr>\n",
       "      <th>8</th>\n",
       "      <td>2</td>\n",
       "      <td>2019-01-26 00:52:00</td>\n",
       "      <td>3.629338</td>\n",
       "      <td>1.529292</td>\n",
       "      <td>47</td>\n",
       "      <td>2019-03-15</td>\n",
       "      <td>c</td>\n",
       "    </tr>\n",
       "    <tr>\n",
       "      <th>9</th>\n",
       "      <td>2</td>\n",
       "      <td>2019-02-04 00:05:00</td>\n",
       "      <td>4.299086</td>\n",
       "      <td>NaN</td>\n",
       "      <td>38</td>\n",
       "      <td>2019-03-15</td>\n",
       "      <td>c</td>\n",
       "    </tr>\n",
       "    <tr>\n",
       "      <th>10</th>\n",
       "      <td>2</td>\n",
       "      <td>2019-02-28 00:51:00</td>\n",
       "      <td>NaN</td>\n",
       "      <td>3.140770</td>\n",
       "      <td>14</td>\n",
       "      <td>2019-03-15</td>\n",
       "      <td>c</td>\n",
       "    </tr>\n",
       "    <tr>\n",
       "      <th>11</th>\n",
       "      <td>2</td>\n",
       "      <td>2019-03-01 00:44:00</td>\n",
       "      <td>6.353059</td>\n",
       "      <td>5.926424</td>\n",
       "      <td>13</td>\n",
       "      <td>2019-03-15</td>\n",
       "      <td>c</td>\n",
       "    </tr>\n",
       "    <tr>\n",
       "      <th>12</th>\n",
       "      <td>2</td>\n",
       "      <td>2019-01-01 00:14:00</td>\n",
       "      <td>NaN</td>\n",
       "      <td>6.449302</td>\n",
       "      <td>30</td>\n",
       "      <td>2019-02-01</td>\n",
       "      <td>d</td>\n",
       "    </tr>\n",
       "    <tr>\n",
       "      <th>13</th>\n",
       "      <td>2</td>\n",
       "      <td>2019-01-26 00:52:00</td>\n",
       "      <td>3.629338</td>\n",
       "      <td>1.529292</td>\n",
       "      <td>5</td>\n",
       "      <td>2019-02-01</td>\n",
       "      <td>d</td>\n",
       "    </tr>\n",
       "  </tbody>\n",
       "</table>\n",
       "</div>"
      ],
      "text/plain": [
       "    id                time         A         B  td   obs_time  c\n",
       "0    1 2019-01-26 08:52:00  3.797676  8.432960  39 2019-03-07  a\n",
       "1    1 2019-01-29 14:59:00       NaN  4.157219  36 2019-03-07  a\n",
       "2    1 2019-01-13 00:01:00  6.516694  4.922487  52 2019-03-07  a\n",
       "3    1 2019-02-01 00:27:00  2.627256       NaN  33 2019-03-07  a\n",
       "4    1 2019-01-26 08:52:00  3.797676  8.432960   5 2019-02-01  b\n",
       "5    1 2019-01-29 14:59:00       NaN  4.157219   2 2019-02-01  b\n",
       "6    1 2019-01-13 00:01:00  6.516694  4.922487  18 2019-02-01  b\n",
       "7    2 2019-01-01 00:14:00       NaN  6.449302  72 2019-03-15  c\n",
       "8    2 2019-01-26 00:52:00  3.629338  1.529292  47 2019-03-15  c\n",
       "9    2 2019-02-04 00:05:00  4.299086       NaN  38 2019-03-15  c\n",
       "10   2 2019-02-28 00:51:00       NaN  3.140770  14 2019-03-15  c\n",
       "11   2 2019-03-01 00:44:00  6.353059  5.926424  13 2019-03-15  c\n",
       "12   2 2019-01-01 00:14:00       NaN  6.449302  30 2019-02-01  d\n",
       "13   2 2019-01-26 00:52:00  3.629338  1.529292   5 2019-02-01  d"
      ]
     },
     "execution_count": 198,
     "metadata": {},
     "output_type": "execute_result"
    }
   ],
   "source": [
    "df"
   ]
  },
  {
   "cell_type": "code",
   "execution_count": 250,
   "metadata": {},
   "outputs": [],
   "source": [
    "list=['a', 'b', 'c', 'd']"
   ]
  },
  {
   "cell_type": "code",
   "execution_count": 261,
   "metadata": {},
   "outputs": [],
   "source": [
    "c1=[df[(df['c']==i)&(df['td']<10)]['A'].mean() for i in list]"
   ]
  },
  {
   "cell_type": "code",
   "execution_count": 262,
   "metadata": {},
   "outputs": [],
   "source": [
    "c2=[df[(df['c']==i)&(df['td']<10)]['A'].notnull().sum() for i in list]"
   ]
  },
  {
   "cell_type": "code",
   "execution_count": 263,
   "metadata": {},
   "outputs": [],
   "source": [
    "c3=[df[(df['c']==i)&(df['td']<60)]['A'].mean() for i in list]"
   ]
  },
  {
   "cell_type": "code",
   "execution_count": 264,
   "metadata": {},
   "outputs": [],
   "source": [
    "c4=[df[(df['c']==i)&(df['td']<60)]['A'].notnull().sum() for i in list]"
   ]
  },
  {
   "cell_type": "code",
   "execution_count": 265,
   "metadata": {},
   "outputs": [],
   "source": [
    "c5=[df[(df['c']==i)&(df['td']<10)]['B'].mean() for i in list]"
   ]
  },
  {
   "cell_type": "code",
   "execution_count": 266,
   "metadata": {},
   "outputs": [],
   "source": [
    "c6=[df[(df['c']==i)&(df['td']<10)]['B'].notnull().sum() for i in list]"
   ]
  },
  {
   "cell_type": "code",
   "execution_count": 267,
   "metadata": {},
   "outputs": [],
   "source": [
    "c7=[df[(df['c']==i)&(df['td']<60)]['B'].mean() for i in list]"
   ]
  },
  {
   "cell_type": "code",
   "execution_count": 268,
   "metadata": {},
   "outputs": [],
   "source": [
    "c8=[df[(df['c']==i)&(df['td']<60)]['B'].notnull().sum() for i in list]"
   ]
  },
  {
   "cell_type": "code",
   "execution_count": 275,
   "metadata": {},
   "outputs": [],
   "source": [
    "data={\"id\":[1,1,2,2],'obs_time':['2019-03-07','2019-02-01','2019-03-15','2019-02-01'],'10天内A平均值':c1,'10天内A非空样本数量':c2 ,\n",
    "     '60天内A平均值':c3,\"60天内A非空样本数量\":c4,'10天内B平均值':c5,'10天内B非空样本数量':c6,'60天内B平均值':c7,'60天内B非空样本数量':c8}"
   ]
  },
  {
   "cell_type": "code",
   "execution_count": 276,
   "metadata": {},
   "outputs": [],
   "source": [
    "data1=pd.DataFrame(data)"
   ]
  },
  {
   "cell_type": "code",
   "execution_count": 277,
   "metadata": {},
   "outputs": [
    {
     "data": {
      "text/html": [
       "<div>\n",
       "<style scoped>\n",
       "    .dataframe tbody tr th:only-of-type {\n",
       "        vertical-align: middle;\n",
       "    }\n",
       "\n",
       "    .dataframe tbody tr th {\n",
       "        vertical-align: top;\n",
       "    }\n",
       "\n",
       "    .dataframe thead th {\n",
       "        text-align: right;\n",
       "    }\n",
       "</style>\n",
       "<table border=\"1\" class=\"dataframe\">\n",
       "  <thead>\n",
       "    <tr style=\"text-align: right;\">\n",
       "      <th></th>\n",
       "      <th>id</th>\n",
       "      <th>obs_time</th>\n",
       "      <th>10天内A平均值</th>\n",
       "      <th>10天内A非空样本数量</th>\n",
       "      <th>60天内A平均值</th>\n",
       "      <th>60天内A非空样本数量</th>\n",
       "      <th>10天内B平均值</th>\n",
       "      <th>10天内B非空样本数量</th>\n",
       "      <th>60天内B平均值</th>\n",
       "      <th>60天内B非空样本数量</th>\n",
       "    </tr>\n",
       "  </thead>\n",
       "  <tbody>\n",
       "    <tr>\n",
       "      <th>0</th>\n",
       "      <td>1</td>\n",
       "      <td>2019-03-07</td>\n",
       "      <td>NaN</td>\n",
       "      <td>0</td>\n",
       "      <td>4.313876</td>\n",
       "      <td>3</td>\n",
       "      <td>NaN</td>\n",
       "      <td>0</td>\n",
       "      <td>5.837555</td>\n",
       "      <td>3</td>\n",
       "    </tr>\n",
       "    <tr>\n",
       "      <th>1</th>\n",
       "      <td>1</td>\n",
       "      <td>2019-02-01</td>\n",
       "      <td>3.797676</td>\n",
       "      <td>1</td>\n",
       "      <td>5.157185</td>\n",
       "      <td>2</td>\n",
       "      <td>6.295089</td>\n",
       "      <td>2</td>\n",
       "      <td>5.837555</td>\n",
       "      <td>3</td>\n",
       "    </tr>\n",
       "    <tr>\n",
       "      <th>2</th>\n",
       "      <td>2</td>\n",
       "      <td>2019-03-15</td>\n",
       "      <td>NaN</td>\n",
       "      <td>0</td>\n",
       "      <td>4.760495</td>\n",
       "      <td>3</td>\n",
       "      <td>NaN</td>\n",
       "      <td>0</td>\n",
       "      <td>3.532162</td>\n",
       "      <td>3</td>\n",
       "    </tr>\n",
       "    <tr>\n",
       "      <th>3</th>\n",
       "      <td>2</td>\n",
       "      <td>2019-02-01</td>\n",
       "      <td>3.629338</td>\n",
       "      <td>1</td>\n",
       "      <td>3.629338</td>\n",
       "      <td>1</td>\n",
       "      <td>1.529292</td>\n",
       "      <td>1</td>\n",
       "      <td>3.989297</td>\n",
       "      <td>2</td>\n",
       "    </tr>\n",
       "  </tbody>\n",
       "</table>\n",
       "</div>"
      ],
      "text/plain": [
       "   id    obs_time  10天内A平均值  10天内A非空样本数量  60天内A平均值  60天内A非空样本数量  10天内B平均值  \\\n",
       "0   1  2019-03-07       NaN            0  4.313876            3       NaN   \n",
       "1   1  2019-02-01  3.797676            1  5.157185            2  6.295089   \n",
       "2   2  2019-03-15       NaN            0  4.760495            3       NaN   \n",
       "3   2  2019-02-01  3.629338            1  3.629338            1  1.529292   \n",
       "\n",
       "   10天内B非空样本数量  60天内B平均值  60天内B非空样本数量  \n",
       "0            0  5.837555            3  \n",
       "1            2  5.837555            3  \n",
       "2            0  3.532162            3  \n",
       "3            1  3.989297            2  "
      ]
     },
     "execution_count": 277,
     "metadata": {},
     "output_type": "execute_result"
    }
   ],
   "source": [
    "data1"
   ]
  },
  {
   "cell_type": "code",
   "execution_count": 283,
   "metadata": {},
   "outputs": [],
   "source": [
    "data1['obs_time']=pd.to_datetime(data1.obs_time) "
   ]
  },
  {
   "cell_type": "code",
   "execution_count": 286,
   "metadata": {},
   "outputs": [],
   "source": [
    "data1.to_csv(\"G:/医学机器学习面试题/data.csv\")"
   ]
  }
 ],
 "metadata": {
  "kernelspec": {
   "display_name": "Python 3",
   "language": "python",
   "name": "python3"
  },
  "language_info": {
   "codemirror_mode": {
    "name": "ipython",
    "version": 3
   },
   "file_extension": ".py",
   "mimetype": "text/x-python",
   "name": "python",
   "nbconvert_exporter": "python",
   "pygments_lexer": "ipython3",
   "version": "3.7.1"
  },
  "latex_envs": {
   "LaTeX_envs_menu_present": true,
   "autoclose": false,
   "autocomplete": true,
   "bibliofile": "biblio.bib",
   "cite_by": "apalike",
   "current_citInitial": 1,
   "eqLabelWithNumbers": true,
   "eqNumInitial": 1,
   "hotkeys": {
    "equation": "Ctrl-E",
    "itemize": "Ctrl-I"
   },
   "labels_anchors": false,
   "latex_user_defs": false,
   "report_style_numbering": false,
   "user_envs_cfg": false
  },
  "toc": {
   "base_numbering": 1,
   "nav_menu": {},
   "number_sections": true,
   "sideBar": true,
   "skip_h1_title": false,
   "title_cell": "Table of Contents",
   "title_sidebar": "Contents",
   "toc_cell": false,
   "toc_position": {},
   "toc_section_display": true,
   "toc_window_display": false
  }
 },
 "nbformat": 4,
 "nbformat_minor": 2
}
